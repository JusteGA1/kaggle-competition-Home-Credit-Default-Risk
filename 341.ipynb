{
 "cells": [
  {
   "cell_type": "markdown",
   "metadata": {},
   "source": [
    "# Module 3: Machine Learning\n",
    "\n",
    "## Sprint 4: Machine Learning capstone project\n",
    "\n",
    "## Kaggle competition with a complex dataset"
   ]
  },
  {
   "cell_type": "markdown",
   "metadata": {},
   "source": [
    "## Background"
   ]
  },
  {
   "cell_type": "markdown",
   "metadata": {},
   "source": [
    "---"
   ]
  },
  {
   "cell_type": "markdown",
   "metadata": {},
   "source": [
    "Participating in Kaggle competitions is an efficient way to learn some aspects of Machine Learning. You can read solutions made public by the others, participate in the discussions to talk about solution ideas and test them by submitting them for evaluation.\n",
    "\n",
    "The metric used for evaluation can vary from competition to competition, but the idea remains the same - build a model that is as accurate as possible on the testing set. In industry, there are other factors to consider when building machine learning models - inference time, solution complexity, maintainability and so on. However, even though you only learn a subset of the required skills while participating in Kaggle competitions, it is quite a fun way to learn by doing it, so let's participate in one of the competitions again! This time, a competition having a really complex dataset."
   ]
  },
  {
   "cell_type": "markdown",
   "metadata": {},
   "source": [
    "## The competition\n",
    "\n",
    "Pick and participate in one of the following Kaggle competitions, where they all have complex datasets, which creates a lot of space for creative feature engineering and model building:\n",
    "\n",
    "- https://www.kaggle.com/c/petfinder-adoption-prediction/overview\n",
    "- https://www.kaggle.com/c/avito-demand-prediction/overview\n",
    "- https://www.kaggle.com/c/home-credit-default-risk/overview\n",
    "\n",
    "For help, you can look at some of the notebooks by other competitors. However, try to write code by yourself, as even though you will always be able to consult external resources while working as a professional, the main thing right now to is learn, not to get a good score in the leaderboard."
   ]
  },
  {
   "cell_type": "markdown",
   "metadata": {},
   "source": [
    "---"
   ]
  },
  {
   "cell_type": "markdown",
   "metadata": {},
   "source": [
    "## Requirements\n",
    "\n",
    "- Data exploration\n",
    "- Feature engineering\n",
    "- At least several different models built and compared to each other on the validation set and on the public and private leaderboards\n",
    "- Clean code\n",
    "- At least median private leaderboard score"
   ]
  },
  {
   "cell_type": "markdown",
   "metadata": {},
   "source": [
    "## Evaluation criteria\n",
    "\n",
    "- Private leaderboard score\n",
    "- How simple is the model\n",
    "- How fast is the model prediction\n",
    "- Code quality"
   ]
  },
  {
   "cell_type": "markdown",
   "metadata": {},
   "source": [
    "# Kaggle competition \"Home Credit Default Risk\""
   ]
  },
  {
   "cell_type": "code",
   "execution_count": 1,
   "metadata": {},
   "outputs": [],
   "source": [
    "import pandas as pd\n",
    "import numpy as np\n",
    "from matplotlib import pyplot as plt\n",
    "import seaborn as sns\n",
    "\n",
    "import optuna\n",
    "import eli5\n",
    "import lightgbm as lgbm\n",
    "from lightgbm import LGBMModel, LGBMClassifier\n",
    "from xgboost import XGBClassifier\n",
    "from catboost import CatBoostClassifier\n",
    "\n",
    "from sklearn.pipeline import Pipeline\n",
    "from sklearn.base import TransformerMixin\n",
    "from sklearn.preprocessing import StandardScaler\n",
    "from sklearn.preprocessing import LabelEncoder\n",
    "from sklearn.linear_model import LogisticRegression\n",
    "from sklearn.neighbors import KNeighborsClassifier\n",
    "from sklearn.ensemble import StackingClassifier\n",
    "from sklearn.ensemble import RandomForestClassifier\n",
    "from sklearn.ensemble import GradientBoostingClassifier\n",
    "from sklearn.model_selection import train_test_split\n",
    "from sklearn.model_selection import RandomizedSearchCV\n",
    "from sklearn.model_selection import GridSearchCV\n",
    "from sklearn.model_selection import cross_val_score\n",
    "from sklearn import metrics\n",
    "from sklearn.metrics import f1_score\n",
    "from sklearn.metrics import classification_report\n",
    "from sklearn.metrics import roc_auc_score\n",
    "\n",
    "from scipy.stats import uniform\n",
    "from scipy.stats import uniform as sp_randFloat\n",
    "from scipy.stats import randint as sp_randInt\n",
    "\n",
    "from imblearn.under_sampling import RandomUnderSampler\n",
    "from imblearn.over_sampling import RandomOverSampler\n",
    "\n",
    "import time\n",
    "import warnings\n",
    "\n",
    "from functions import (\n",
    "    DataFrameImputer,\n",
    "    get_feature_importance,\n",
    "    get_mean_scores,\n",
    "    percent_missing,\n",
    "    change_to_other,\n",
    "    find_relation,\n",
    "    find_relation_in_groups,\n",
    "    clean_object_features\n",
    ")\n",
    "\n",
    "warnings.filterwarnings(\"ignore\")\n",
    "\n",
    "RANDOM = 42"
   ]
  },
  {
   "cell_type": "code",
   "execution_count": 18,
   "metadata": {},
   "outputs": [],
   "source": [
    "application_train = pd.read_csv(\"application_train.csv\")\n",
    "application_test = pd.read_csv(\"application_test.csv\")\n",
    "bureau = pd.read_csv(\"bureau.csv\")\n",
    "bureau_balance = pd.read_csv(\"bureau_balance.csv\")\n",
    "POS_CASH_balance = pd.read_csv(\"POS_CASH_balance.csv\")\n",
    "credit_card_balance = pd.read_csv(\"credit_card_balance.csv\")\n",
    "previous_application = pd.read_csv(\"previous_application.csv\")\n",
    "installments_payments = pd.read_csv(\"installments_payments.csv\")\n",
    "HomeCredit_columns_description = pd.read_csv(\"HomeCredit_columns_description.csv\")"
   ]
  },
  {
   "cell_type": "markdown",
   "metadata": {},
   "source": [
    "## BASIC DATA ANALYSIS"
   ]
  },
  {
   "cell_type": "code",
   "execution_count": 19,
   "metadata": {},
   "outputs": [
    {
     "data": {
      "text/html": [
       "<div>\n",
       "<style scoped>\n",
       "    .dataframe tbody tr th:only-of-type {\n",
       "        vertical-align: middle;\n",
       "    }\n",
       "\n",
       "    .dataframe tbody tr th {\n",
       "        vertical-align: top;\n",
       "    }\n",
       "\n",
       "    .dataframe thead th {\n",
       "        text-align: right;\n",
       "    }\n",
       "</style>\n",
       "<table border=\"1\" class=\"dataframe\">\n",
       "  <thead>\n",
       "    <tr style=\"text-align: right;\">\n",
       "      <th></th>\n",
       "      <th>SK_ID_CURR</th>\n",
       "      <th>TARGET</th>\n",
       "      <th>NAME_CONTRACT_TYPE</th>\n",
       "      <th>CODE_GENDER</th>\n",
       "      <th>FLAG_OWN_CAR</th>\n",
       "      <th>FLAG_OWN_REALTY</th>\n",
       "      <th>CNT_CHILDREN</th>\n",
       "      <th>AMT_INCOME_TOTAL</th>\n",
       "      <th>AMT_CREDIT</th>\n",
       "      <th>AMT_ANNUITY</th>\n",
       "      <th>AMT_GOODS_PRICE</th>\n",
       "      <th>NAME_TYPE_SUITE</th>\n",
       "      <th>NAME_INCOME_TYPE</th>\n",
       "      <th>NAME_EDUCATION_TYPE</th>\n",
       "      <th>NAME_FAMILY_STATUS</th>\n",
       "      <th>NAME_HOUSING_TYPE</th>\n",
       "      <th>REGION_POPULATION_RELATIVE</th>\n",
       "      <th>DAYS_BIRTH</th>\n",
       "      <th>DAYS_EMPLOYED</th>\n",
       "      <th>DAYS_REGISTRATION</th>\n",
       "      <th>DAYS_ID_PUBLISH</th>\n",
       "      <th>OWN_CAR_AGE</th>\n",
       "      <th>FLAG_MOBIL</th>\n",
       "      <th>FLAG_EMP_PHONE</th>\n",
       "      <th>FLAG_WORK_PHONE</th>\n",
       "      <th>FLAG_CONT_MOBILE</th>\n",
       "      <th>FLAG_PHONE</th>\n",
       "      <th>FLAG_EMAIL</th>\n",
       "      <th>OCCUPATION_TYPE</th>\n",
       "      <th>CNT_FAM_MEMBERS</th>\n",
       "      <th>REGION_RATING_CLIENT</th>\n",
       "      <th>REGION_RATING_CLIENT_W_CITY</th>\n",
       "      <th>WEEKDAY_APPR_PROCESS_START</th>\n",
       "      <th>HOUR_APPR_PROCESS_START</th>\n",
       "      <th>REG_REGION_NOT_LIVE_REGION</th>\n",
       "      <th>REG_REGION_NOT_WORK_REGION</th>\n",
       "      <th>LIVE_REGION_NOT_WORK_REGION</th>\n",
       "      <th>REG_CITY_NOT_LIVE_CITY</th>\n",
       "      <th>REG_CITY_NOT_WORK_CITY</th>\n",
       "      <th>LIVE_CITY_NOT_WORK_CITY</th>\n",
       "      <th>ORGANIZATION_TYPE</th>\n",
       "      <th>EXT_SOURCE_1</th>\n",
       "      <th>EXT_SOURCE_2</th>\n",
       "      <th>EXT_SOURCE_3</th>\n",
       "      <th>APARTMENTS_AVG</th>\n",
       "      <th>BASEMENTAREA_AVG</th>\n",
       "      <th>YEARS_BEGINEXPLUATATION_AVG</th>\n",
       "      <th>YEARS_BUILD_AVG</th>\n",
       "      <th>COMMONAREA_AVG</th>\n",
       "      <th>ELEVATORS_AVG</th>\n",
       "      <th>ENTRANCES_AVG</th>\n",
       "      <th>FLOORSMAX_AVG</th>\n",
       "      <th>FLOORSMIN_AVG</th>\n",
       "      <th>LANDAREA_AVG</th>\n",
       "      <th>LIVINGAPARTMENTS_AVG</th>\n",
       "      <th>LIVINGAREA_AVG</th>\n",
       "      <th>NONLIVINGAPARTMENTS_AVG</th>\n",
       "      <th>NONLIVINGAREA_AVG</th>\n",
       "      <th>APARTMENTS_MODE</th>\n",
       "      <th>BASEMENTAREA_MODE</th>\n",
       "      <th>YEARS_BEGINEXPLUATATION_MODE</th>\n",
       "      <th>YEARS_BUILD_MODE</th>\n",
       "      <th>COMMONAREA_MODE</th>\n",
       "      <th>ELEVATORS_MODE</th>\n",
       "      <th>ENTRANCES_MODE</th>\n",
       "      <th>FLOORSMAX_MODE</th>\n",
       "      <th>FLOORSMIN_MODE</th>\n",
       "      <th>LANDAREA_MODE</th>\n",
       "      <th>LIVINGAPARTMENTS_MODE</th>\n",
       "      <th>LIVINGAREA_MODE</th>\n",
       "      <th>NONLIVINGAPARTMENTS_MODE</th>\n",
       "      <th>NONLIVINGAREA_MODE</th>\n",
       "      <th>APARTMENTS_MEDI</th>\n",
       "      <th>BASEMENTAREA_MEDI</th>\n",
       "      <th>YEARS_BEGINEXPLUATATION_MEDI</th>\n",
       "      <th>YEARS_BUILD_MEDI</th>\n",
       "      <th>COMMONAREA_MEDI</th>\n",
       "      <th>ELEVATORS_MEDI</th>\n",
       "      <th>ENTRANCES_MEDI</th>\n",
       "      <th>FLOORSMAX_MEDI</th>\n",
       "      <th>FLOORSMIN_MEDI</th>\n",
       "      <th>LANDAREA_MEDI</th>\n",
       "      <th>LIVINGAPARTMENTS_MEDI</th>\n",
       "      <th>LIVINGAREA_MEDI</th>\n",
       "      <th>NONLIVINGAPARTMENTS_MEDI</th>\n",
       "      <th>NONLIVINGAREA_MEDI</th>\n",
       "      <th>FONDKAPREMONT_MODE</th>\n",
       "      <th>HOUSETYPE_MODE</th>\n",
       "      <th>TOTALAREA_MODE</th>\n",
       "      <th>WALLSMATERIAL_MODE</th>\n",
       "      <th>EMERGENCYSTATE_MODE</th>\n",
       "      <th>OBS_30_CNT_SOCIAL_CIRCLE</th>\n",
       "      <th>DEF_30_CNT_SOCIAL_CIRCLE</th>\n",
       "      <th>OBS_60_CNT_SOCIAL_CIRCLE</th>\n",
       "      <th>DEF_60_CNT_SOCIAL_CIRCLE</th>\n",
       "      <th>DAYS_LAST_PHONE_CHANGE</th>\n",
       "      <th>FLAG_DOCUMENT_2</th>\n",
       "      <th>FLAG_DOCUMENT_3</th>\n",
       "      <th>FLAG_DOCUMENT_4</th>\n",
       "      <th>FLAG_DOCUMENT_5</th>\n",
       "      <th>FLAG_DOCUMENT_6</th>\n",
       "      <th>FLAG_DOCUMENT_7</th>\n",
       "      <th>FLAG_DOCUMENT_8</th>\n",
       "      <th>FLAG_DOCUMENT_9</th>\n",
       "      <th>FLAG_DOCUMENT_10</th>\n",
       "      <th>FLAG_DOCUMENT_11</th>\n",
       "      <th>FLAG_DOCUMENT_12</th>\n",
       "      <th>FLAG_DOCUMENT_13</th>\n",
       "      <th>FLAG_DOCUMENT_14</th>\n",
       "      <th>FLAG_DOCUMENT_15</th>\n",
       "      <th>FLAG_DOCUMENT_16</th>\n",
       "      <th>FLAG_DOCUMENT_17</th>\n",
       "      <th>FLAG_DOCUMENT_18</th>\n",
       "      <th>FLAG_DOCUMENT_19</th>\n",
       "      <th>FLAG_DOCUMENT_20</th>\n",
       "      <th>FLAG_DOCUMENT_21</th>\n",
       "      <th>AMT_REQ_CREDIT_BUREAU_HOUR</th>\n",
       "      <th>AMT_REQ_CREDIT_BUREAU_DAY</th>\n",
       "      <th>AMT_REQ_CREDIT_BUREAU_WEEK</th>\n",
       "      <th>AMT_REQ_CREDIT_BUREAU_MON</th>\n",
       "      <th>AMT_REQ_CREDIT_BUREAU_QRT</th>\n",
       "      <th>AMT_REQ_CREDIT_BUREAU_YEAR</th>\n",
       "    </tr>\n",
       "  </thead>\n",
       "  <tbody>\n",
       "    <tr>\n",
       "      <th>0</th>\n",
       "      <td>100002</td>\n",
       "      <td>1</td>\n",
       "      <td>Cash loans</td>\n",
       "      <td>M</td>\n",
       "      <td>N</td>\n",
       "      <td>Y</td>\n",
       "      <td>0</td>\n",
       "      <td>202500.0</td>\n",
       "      <td>406597.5</td>\n",
       "      <td>24700.5</td>\n",
       "      <td>351000.0</td>\n",
       "      <td>Unaccompanied</td>\n",
       "      <td>Working</td>\n",
       "      <td>Secondary / secondary special</td>\n",
       "      <td>Single / not married</td>\n",
       "      <td>House / apartment</td>\n",
       "      <td>0.018801</td>\n",
       "      <td>-9461</td>\n",
       "      <td>-637</td>\n",
       "      <td>-3648.0</td>\n",
       "      <td>-2120</td>\n",
       "      <td>NaN</td>\n",
       "      <td>1</td>\n",
       "      <td>1</td>\n",
       "      <td>0</td>\n",
       "      <td>1</td>\n",
       "      <td>1</td>\n",
       "      <td>0</td>\n",
       "      <td>Laborers</td>\n",
       "      <td>1.0</td>\n",
       "      <td>2</td>\n",
       "      <td>2</td>\n",
       "      <td>WEDNESDAY</td>\n",
       "      <td>10</td>\n",
       "      <td>0</td>\n",
       "      <td>0</td>\n",
       "      <td>0</td>\n",
       "      <td>0</td>\n",
       "      <td>0</td>\n",
       "      <td>0</td>\n",
       "      <td>Business Entity Type 3</td>\n",
       "      <td>0.083037</td>\n",
       "      <td>0.262949</td>\n",
       "      <td>0.139376</td>\n",
       "      <td>0.0247</td>\n",
       "      <td>0.0369</td>\n",
       "      <td>0.9722</td>\n",
       "      <td>0.6192</td>\n",
       "      <td>0.0143</td>\n",
       "      <td>0.00</td>\n",
       "      <td>0.0690</td>\n",
       "      <td>0.0833</td>\n",
       "      <td>0.1250</td>\n",
       "      <td>0.0369</td>\n",
       "      <td>0.0202</td>\n",
       "      <td>0.0190</td>\n",
       "      <td>0.0000</td>\n",
       "      <td>0.0000</td>\n",
       "      <td>0.0252</td>\n",
       "      <td>0.0383</td>\n",
       "      <td>0.9722</td>\n",
       "      <td>0.6341</td>\n",
       "      <td>0.0144</td>\n",
       "      <td>0.0000</td>\n",
       "      <td>0.0690</td>\n",
       "      <td>0.0833</td>\n",
       "      <td>0.1250</td>\n",
       "      <td>0.0377</td>\n",
       "      <td>0.022</td>\n",
       "      <td>0.0198</td>\n",
       "      <td>0.0</td>\n",
       "      <td>0.0</td>\n",
       "      <td>0.0250</td>\n",
       "      <td>0.0369</td>\n",
       "      <td>0.9722</td>\n",
       "      <td>0.6243</td>\n",
       "      <td>0.0144</td>\n",
       "      <td>0.00</td>\n",
       "      <td>0.0690</td>\n",
       "      <td>0.0833</td>\n",
       "      <td>0.1250</td>\n",
       "      <td>0.0375</td>\n",
       "      <td>0.0205</td>\n",
       "      <td>0.0193</td>\n",
       "      <td>0.0000</td>\n",
       "      <td>0.00</td>\n",
       "      <td>reg oper account</td>\n",
       "      <td>block of flats</td>\n",
       "      <td>0.0149</td>\n",
       "      <td>Stone, brick</td>\n",
       "      <td>No</td>\n",
       "      <td>2.0</td>\n",
       "      <td>2.0</td>\n",
       "      <td>2.0</td>\n",
       "      <td>2.0</td>\n",
       "      <td>-1134.0</td>\n",
       "      <td>0</td>\n",
       "      <td>1</td>\n",
       "      <td>0</td>\n",
       "      <td>0</td>\n",
       "      <td>0</td>\n",
       "      <td>0</td>\n",
       "      <td>0</td>\n",
       "      <td>0</td>\n",
       "      <td>0</td>\n",
       "      <td>0</td>\n",
       "      <td>0</td>\n",
       "      <td>0</td>\n",
       "      <td>0</td>\n",
       "      <td>0</td>\n",
       "      <td>0</td>\n",
       "      <td>0</td>\n",
       "      <td>0</td>\n",
       "      <td>0</td>\n",
       "      <td>0</td>\n",
       "      <td>0</td>\n",
       "      <td>0.0</td>\n",
       "      <td>0.0</td>\n",
       "      <td>0.0</td>\n",
       "      <td>0.0</td>\n",
       "      <td>0.0</td>\n",
       "      <td>1.0</td>\n",
       "    </tr>\n",
       "    <tr>\n",
       "      <th>1</th>\n",
       "      <td>100003</td>\n",
       "      <td>0</td>\n",
       "      <td>Cash loans</td>\n",
       "      <td>F</td>\n",
       "      <td>N</td>\n",
       "      <td>N</td>\n",
       "      <td>0</td>\n",
       "      <td>270000.0</td>\n",
       "      <td>1293502.5</td>\n",
       "      <td>35698.5</td>\n",
       "      <td>1129500.0</td>\n",
       "      <td>Family</td>\n",
       "      <td>State servant</td>\n",
       "      <td>Higher education</td>\n",
       "      <td>Married</td>\n",
       "      <td>House / apartment</td>\n",
       "      <td>0.003541</td>\n",
       "      <td>-16765</td>\n",
       "      <td>-1188</td>\n",
       "      <td>-1186.0</td>\n",
       "      <td>-291</td>\n",
       "      <td>NaN</td>\n",
       "      <td>1</td>\n",
       "      <td>1</td>\n",
       "      <td>0</td>\n",
       "      <td>1</td>\n",
       "      <td>1</td>\n",
       "      <td>0</td>\n",
       "      <td>Core staff</td>\n",
       "      <td>2.0</td>\n",
       "      <td>1</td>\n",
       "      <td>1</td>\n",
       "      <td>MONDAY</td>\n",
       "      <td>11</td>\n",
       "      <td>0</td>\n",
       "      <td>0</td>\n",
       "      <td>0</td>\n",
       "      <td>0</td>\n",
       "      <td>0</td>\n",
       "      <td>0</td>\n",
       "      <td>School</td>\n",
       "      <td>0.311267</td>\n",
       "      <td>0.622246</td>\n",
       "      <td>NaN</td>\n",
       "      <td>0.0959</td>\n",
       "      <td>0.0529</td>\n",
       "      <td>0.9851</td>\n",
       "      <td>0.7960</td>\n",
       "      <td>0.0605</td>\n",
       "      <td>0.08</td>\n",
       "      <td>0.0345</td>\n",
       "      <td>0.2917</td>\n",
       "      <td>0.3333</td>\n",
       "      <td>0.0130</td>\n",
       "      <td>0.0773</td>\n",
       "      <td>0.0549</td>\n",
       "      <td>0.0039</td>\n",
       "      <td>0.0098</td>\n",
       "      <td>0.0924</td>\n",
       "      <td>0.0538</td>\n",
       "      <td>0.9851</td>\n",
       "      <td>0.8040</td>\n",
       "      <td>0.0497</td>\n",
       "      <td>0.0806</td>\n",
       "      <td>0.0345</td>\n",
       "      <td>0.2917</td>\n",
       "      <td>0.3333</td>\n",
       "      <td>0.0128</td>\n",
       "      <td>0.079</td>\n",
       "      <td>0.0554</td>\n",
       "      <td>0.0</td>\n",
       "      <td>0.0</td>\n",
       "      <td>0.0968</td>\n",
       "      <td>0.0529</td>\n",
       "      <td>0.9851</td>\n",
       "      <td>0.7987</td>\n",
       "      <td>0.0608</td>\n",
       "      <td>0.08</td>\n",
       "      <td>0.0345</td>\n",
       "      <td>0.2917</td>\n",
       "      <td>0.3333</td>\n",
       "      <td>0.0132</td>\n",
       "      <td>0.0787</td>\n",
       "      <td>0.0558</td>\n",
       "      <td>0.0039</td>\n",
       "      <td>0.01</td>\n",
       "      <td>reg oper account</td>\n",
       "      <td>block of flats</td>\n",
       "      <td>0.0714</td>\n",
       "      <td>Block</td>\n",
       "      <td>No</td>\n",
       "      <td>1.0</td>\n",
       "      <td>0.0</td>\n",
       "      <td>1.0</td>\n",
       "      <td>0.0</td>\n",
       "      <td>-828.0</td>\n",
       "      <td>0</td>\n",
       "      <td>1</td>\n",
       "      <td>0</td>\n",
       "      <td>0</td>\n",
       "      <td>0</td>\n",
       "      <td>0</td>\n",
       "      <td>0</td>\n",
       "      <td>0</td>\n",
       "      <td>0</td>\n",
       "      <td>0</td>\n",
       "      <td>0</td>\n",
       "      <td>0</td>\n",
       "      <td>0</td>\n",
       "      <td>0</td>\n",
       "      <td>0</td>\n",
       "      <td>0</td>\n",
       "      <td>0</td>\n",
       "      <td>0</td>\n",
       "      <td>0</td>\n",
       "      <td>0</td>\n",
       "      <td>0.0</td>\n",
       "      <td>0.0</td>\n",
       "      <td>0.0</td>\n",
       "      <td>0.0</td>\n",
       "      <td>0.0</td>\n",
       "      <td>0.0</td>\n",
       "    </tr>\n",
       "    <tr>\n",
       "      <th>2</th>\n",
       "      <td>100004</td>\n",
       "      <td>0</td>\n",
       "      <td>Revolving loans</td>\n",
       "      <td>M</td>\n",
       "      <td>Y</td>\n",
       "      <td>Y</td>\n",
       "      <td>0</td>\n",
       "      <td>67500.0</td>\n",
       "      <td>135000.0</td>\n",
       "      <td>6750.0</td>\n",
       "      <td>135000.0</td>\n",
       "      <td>Unaccompanied</td>\n",
       "      <td>Working</td>\n",
       "      <td>Secondary / secondary special</td>\n",
       "      <td>Single / not married</td>\n",
       "      <td>House / apartment</td>\n",
       "      <td>0.010032</td>\n",
       "      <td>-19046</td>\n",
       "      <td>-225</td>\n",
       "      <td>-4260.0</td>\n",
       "      <td>-2531</td>\n",
       "      <td>26.0</td>\n",
       "      <td>1</td>\n",
       "      <td>1</td>\n",
       "      <td>1</td>\n",
       "      <td>1</td>\n",
       "      <td>1</td>\n",
       "      <td>0</td>\n",
       "      <td>Laborers</td>\n",
       "      <td>1.0</td>\n",
       "      <td>2</td>\n",
       "      <td>2</td>\n",
       "      <td>MONDAY</td>\n",
       "      <td>9</td>\n",
       "      <td>0</td>\n",
       "      <td>0</td>\n",
       "      <td>0</td>\n",
       "      <td>0</td>\n",
       "      <td>0</td>\n",
       "      <td>0</td>\n",
       "      <td>Government</td>\n",
       "      <td>NaN</td>\n",
       "      <td>0.555912</td>\n",
       "      <td>0.729567</td>\n",
       "      <td>NaN</td>\n",
       "      <td>NaN</td>\n",
       "      <td>NaN</td>\n",
       "      <td>NaN</td>\n",
       "      <td>NaN</td>\n",
       "      <td>NaN</td>\n",
       "      <td>NaN</td>\n",
       "      <td>NaN</td>\n",
       "      <td>NaN</td>\n",
       "      <td>NaN</td>\n",
       "      <td>NaN</td>\n",
       "      <td>NaN</td>\n",
       "      <td>NaN</td>\n",
       "      <td>NaN</td>\n",
       "      <td>NaN</td>\n",
       "      <td>NaN</td>\n",
       "      <td>NaN</td>\n",
       "      <td>NaN</td>\n",
       "      <td>NaN</td>\n",
       "      <td>NaN</td>\n",
       "      <td>NaN</td>\n",
       "      <td>NaN</td>\n",
       "      <td>NaN</td>\n",
       "      <td>NaN</td>\n",
       "      <td>NaN</td>\n",
       "      <td>NaN</td>\n",
       "      <td>NaN</td>\n",
       "      <td>NaN</td>\n",
       "      <td>NaN</td>\n",
       "      <td>NaN</td>\n",
       "      <td>NaN</td>\n",
       "      <td>NaN</td>\n",
       "      <td>NaN</td>\n",
       "      <td>NaN</td>\n",
       "      <td>NaN</td>\n",
       "      <td>NaN</td>\n",
       "      <td>NaN</td>\n",
       "      <td>NaN</td>\n",
       "      <td>NaN</td>\n",
       "      <td>NaN</td>\n",
       "      <td>NaN</td>\n",
       "      <td>NaN</td>\n",
       "      <td>NaN</td>\n",
       "      <td>NaN</td>\n",
       "      <td>NaN</td>\n",
       "      <td>NaN</td>\n",
       "      <td>NaN</td>\n",
       "      <td>0.0</td>\n",
       "      <td>0.0</td>\n",
       "      <td>0.0</td>\n",
       "      <td>0.0</td>\n",
       "      <td>-815.0</td>\n",
       "      <td>0</td>\n",
       "      <td>0</td>\n",
       "      <td>0</td>\n",
       "      <td>0</td>\n",
       "      <td>0</td>\n",
       "      <td>0</td>\n",
       "      <td>0</td>\n",
       "      <td>0</td>\n",
       "      <td>0</td>\n",
       "      <td>0</td>\n",
       "      <td>0</td>\n",
       "      <td>0</td>\n",
       "      <td>0</td>\n",
       "      <td>0</td>\n",
       "      <td>0</td>\n",
       "      <td>0</td>\n",
       "      <td>0</td>\n",
       "      <td>0</td>\n",
       "      <td>0</td>\n",
       "      <td>0</td>\n",
       "      <td>0.0</td>\n",
       "      <td>0.0</td>\n",
       "      <td>0.0</td>\n",
       "      <td>0.0</td>\n",
       "      <td>0.0</td>\n",
       "      <td>0.0</td>\n",
       "    </tr>\n",
       "    <tr>\n",
       "      <th>3</th>\n",
       "      <td>100006</td>\n",
       "      <td>0</td>\n",
       "      <td>Cash loans</td>\n",
       "      <td>F</td>\n",
       "      <td>N</td>\n",
       "      <td>Y</td>\n",
       "      <td>0</td>\n",
       "      <td>135000.0</td>\n",
       "      <td>312682.5</td>\n",
       "      <td>29686.5</td>\n",
       "      <td>297000.0</td>\n",
       "      <td>Unaccompanied</td>\n",
       "      <td>Working</td>\n",
       "      <td>Secondary / secondary special</td>\n",
       "      <td>Civil marriage</td>\n",
       "      <td>House / apartment</td>\n",
       "      <td>0.008019</td>\n",
       "      <td>-19005</td>\n",
       "      <td>-3039</td>\n",
       "      <td>-9833.0</td>\n",
       "      <td>-2437</td>\n",
       "      <td>NaN</td>\n",
       "      <td>1</td>\n",
       "      <td>1</td>\n",
       "      <td>0</td>\n",
       "      <td>1</td>\n",
       "      <td>0</td>\n",
       "      <td>0</td>\n",
       "      <td>Laborers</td>\n",
       "      <td>2.0</td>\n",
       "      <td>2</td>\n",
       "      <td>2</td>\n",
       "      <td>WEDNESDAY</td>\n",
       "      <td>17</td>\n",
       "      <td>0</td>\n",
       "      <td>0</td>\n",
       "      <td>0</td>\n",
       "      <td>0</td>\n",
       "      <td>0</td>\n",
       "      <td>0</td>\n",
       "      <td>Business Entity Type 3</td>\n",
       "      <td>NaN</td>\n",
       "      <td>0.650442</td>\n",
       "      <td>NaN</td>\n",
       "      <td>NaN</td>\n",
       "      <td>NaN</td>\n",
       "      <td>NaN</td>\n",
       "      <td>NaN</td>\n",
       "      <td>NaN</td>\n",
       "      <td>NaN</td>\n",
       "      <td>NaN</td>\n",
       "      <td>NaN</td>\n",
       "      <td>NaN</td>\n",
       "      <td>NaN</td>\n",
       "      <td>NaN</td>\n",
       "      <td>NaN</td>\n",
       "      <td>NaN</td>\n",
       "      <td>NaN</td>\n",
       "      <td>NaN</td>\n",
       "      <td>NaN</td>\n",
       "      <td>NaN</td>\n",
       "      <td>NaN</td>\n",
       "      <td>NaN</td>\n",
       "      <td>NaN</td>\n",
       "      <td>NaN</td>\n",
       "      <td>NaN</td>\n",
       "      <td>NaN</td>\n",
       "      <td>NaN</td>\n",
       "      <td>NaN</td>\n",
       "      <td>NaN</td>\n",
       "      <td>NaN</td>\n",
       "      <td>NaN</td>\n",
       "      <td>NaN</td>\n",
       "      <td>NaN</td>\n",
       "      <td>NaN</td>\n",
       "      <td>NaN</td>\n",
       "      <td>NaN</td>\n",
       "      <td>NaN</td>\n",
       "      <td>NaN</td>\n",
       "      <td>NaN</td>\n",
       "      <td>NaN</td>\n",
       "      <td>NaN</td>\n",
       "      <td>NaN</td>\n",
       "      <td>NaN</td>\n",
       "      <td>NaN</td>\n",
       "      <td>NaN</td>\n",
       "      <td>NaN</td>\n",
       "      <td>NaN</td>\n",
       "      <td>NaN</td>\n",
       "      <td>NaN</td>\n",
       "      <td>NaN</td>\n",
       "      <td>2.0</td>\n",
       "      <td>0.0</td>\n",
       "      <td>2.0</td>\n",
       "      <td>0.0</td>\n",
       "      <td>-617.0</td>\n",
       "      <td>0</td>\n",
       "      <td>1</td>\n",
       "      <td>0</td>\n",
       "      <td>0</td>\n",
       "      <td>0</td>\n",
       "      <td>0</td>\n",
       "      <td>0</td>\n",
       "      <td>0</td>\n",
       "      <td>0</td>\n",
       "      <td>0</td>\n",
       "      <td>0</td>\n",
       "      <td>0</td>\n",
       "      <td>0</td>\n",
       "      <td>0</td>\n",
       "      <td>0</td>\n",
       "      <td>0</td>\n",
       "      <td>0</td>\n",
       "      <td>0</td>\n",
       "      <td>0</td>\n",
       "      <td>0</td>\n",
       "      <td>NaN</td>\n",
       "      <td>NaN</td>\n",
       "      <td>NaN</td>\n",
       "      <td>NaN</td>\n",
       "      <td>NaN</td>\n",
       "      <td>NaN</td>\n",
       "    </tr>\n",
       "    <tr>\n",
       "      <th>4</th>\n",
       "      <td>100007</td>\n",
       "      <td>0</td>\n",
       "      <td>Cash loans</td>\n",
       "      <td>M</td>\n",
       "      <td>N</td>\n",
       "      <td>Y</td>\n",
       "      <td>0</td>\n",
       "      <td>121500.0</td>\n",
       "      <td>513000.0</td>\n",
       "      <td>21865.5</td>\n",
       "      <td>513000.0</td>\n",
       "      <td>Unaccompanied</td>\n",
       "      <td>Working</td>\n",
       "      <td>Secondary / secondary special</td>\n",
       "      <td>Single / not married</td>\n",
       "      <td>House / apartment</td>\n",
       "      <td>0.028663</td>\n",
       "      <td>-19932</td>\n",
       "      <td>-3038</td>\n",
       "      <td>-4311.0</td>\n",
       "      <td>-3458</td>\n",
       "      <td>NaN</td>\n",
       "      <td>1</td>\n",
       "      <td>1</td>\n",
       "      <td>0</td>\n",
       "      <td>1</td>\n",
       "      <td>0</td>\n",
       "      <td>0</td>\n",
       "      <td>Core staff</td>\n",
       "      <td>1.0</td>\n",
       "      <td>2</td>\n",
       "      <td>2</td>\n",
       "      <td>THURSDAY</td>\n",
       "      <td>11</td>\n",
       "      <td>0</td>\n",
       "      <td>0</td>\n",
       "      <td>0</td>\n",
       "      <td>0</td>\n",
       "      <td>1</td>\n",
       "      <td>1</td>\n",
       "      <td>Religion</td>\n",
       "      <td>NaN</td>\n",
       "      <td>0.322738</td>\n",
       "      <td>NaN</td>\n",
       "      <td>NaN</td>\n",
       "      <td>NaN</td>\n",
       "      <td>NaN</td>\n",
       "      <td>NaN</td>\n",
       "      <td>NaN</td>\n",
       "      <td>NaN</td>\n",
       "      <td>NaN</td>\n",
       "      <td>NaN</td>\n",
       "      <td>NaN</td>\n",
       "      <td>NaN</td>\n",
       "      <td>NaN</td>\n",
       "      <td>NaN</td>\n",
       "      <td>NaN</td>\n",
       "      <td>NaN</td>\n",
       "      <td>NaN</td>\n",
       "      <td>NaN</td>\n",
       "      <td>NaN</td>\n",
       "      <td>NaN</td>\n",
       "      <td>NaN</td>\n",
       "      <td>NaN</td>\n",
       "      <td>NaN</td>\n",
       "      <td>NaN</td>\n",
       "      <td>NaN</td>\n",
       "      <td>NaN</td>\n",
       "      <td>NaN</td>\n",
       "      <td>NaN</td>\n",
       "      <td>NaN</td>\n",
       "      <td>NaN</td>\n",
       "      <td>NaN</td>\n",
       "      <td>NaN</td>\n",
       "      <td>NaN</td>\n",
       "      <td>NaN</td>\n",
       "      <td>NaN</td>\n",
       "      <td>NaN</td>\n",
       "      <td>NaN</td>\n",
       "      <td>NaN</td>\n",
       "      <td>NaN</td>\n",
       "      <td>NaN</td>\n",
       "      <td>NaN</td>\n",
       "      <td>NaN</td>\n",
       "      <td>NaN</td>\n",
       "      <td>NaN</td>\n",
       "      <td>NaN</td>\n",
       "      <td>NaN</td>\n",
       "      <td>NaN</td>\n",
       "      <td>NaN</td>\n",
       "      <td>NaN</td>\n",
       "      <td>0.0</td>\n",
       "      <td>0.0</td>\n",
       "      <td>0.0</td>\n",
       "      <td>0.0</td>\n",
       "      <td>-1106.0</td>\n",
       "      <td>0</td>\n",
       "      <td>0</td>\n",
       "      <td>0</td>\n",
       "      <td>0</td>\n",
       "      <td>0</td>\n",
       "      <td>0</td>\n",
       "      <td>1</td>\n",
       "      <td>0</td>\n",
       "      <td>0</td>\n",
       "      <td>0</td>\n",
       "      <td>0</td>\n",
       "      <td>0</td>\n",
       "      <td>0</td>\n",
       "      <td>0</td>\n",
       "      <td>0</td>\n",
       "      <td>0</td>\n",
       "      <td>0</td>\n",
       "      <td>0</td>\n",
       "      <td>0</td>\n",
       "      <td>0</td>\n",
       "      <td>0.0</td>\n",
       "      <td>0.0</td>\n",
       "      <td>0.0</td>\n",
       "      <td>0.0</td>\n",
       "      <td>0.0</td>\n",
       "      <td>0.0</td>\n",
       "    </tr>\n",
       "  </tbody>\n",
       "</table>\n",
       "</div>"
      ],
      "text/plain": [
       "   SK_ID_CURR  TARGET NAME_CONTRACT_TYPE CODE_GENDER FLAG_OWN_CAR  \\\n",
       "0      100002       1         Cash loans           M            N   \n",
       "1      100003       0         Cash loans           F            N   \n",
       "2      100004       0    Revolving loans           M            Y   \n",
       "3      100006       0         Cash loans           F            N   \n",
       "4      100007       0         Cash loans           M            N   \n",
       "\n",
       "  FLAG_OWN_REALTY  CNT_CHILDREN  AMT_INCOME_TOTAL  AMT_CREDIT  AMT_ANNUITY  \\\n",
       "0               Y             0          202500.0    406597.5      24700.5   \n",
       "1               N             0          270000.0   1293502.5      35698.5   \n",
       "2               Y             0           67500.0    135000.0       6750.0   \n",
       "3               Y             0          135000.0    312682.5      29686.5   \n",
       "4               Y             0          121500.0    513000.0      21865.5   \n",
       "\n",
       "   AMT_GOODS_PRICE NAME_TYPE_SUITE NAME_INCOME_TYPE  \\\n",
       "0         351000.0   Unaccompanied          Working   \n",
       "1        1129500.0          Family    State servant   \n",
       "2         135000.0   Unaccompanied          Working   \n",
       "3         297000.0   Unaccompanied          Working   \n",
       "4         513000.0   Unaccompanied          Working   \n",
       "\n",
       "             NAME_EDUCATION_TYPE    NAME_FAMILY_STATUS  NAME_HOUSING_TYPE  \\\n",
       "0  Secondary / secondary special  Single / not married  House / apartment   \n",
       "1               Higher education               Married  House / apartment   \n",
       "2  Secondary / secondary special  Single / not married  House / apartment   \n",
       "3  Secondary / secondary special        Civil marriage  House / apartment   \n",
       "4  Secondary / secondary special  Single / not married  House / apartment   \n",
       "\n",
       "   REGION_POPULATION_RELATIVE  DAYS_BIRTH  DAYS_EMPLOYED  DAYS_REGISTRATION  \\\n",
       "0                    0.018801       -9461           -637            -3648.0   \n",
       "1                    0.003541      -16765          -1188            -1186.0   \n",
       "2                    0.010032      -19046           -225            -4260.0   \n",
       "3                    0.008019      -19005          -3039            -9833.0   \n",
       "4                    0.028663      -19932          -3038            -4311.0   \n",
       "\n",
       "   DAYS_ID_PUBLISH  OWN_CAR_AGE  FLAG_MOBIL  FLAG_EMP_PHONE  FLAG_WORK_PHONE  \\\n",
       "0            -2120          NaN           1               1                0   \n",
       "1             -291          NaN           1               1                0   \n",
       "2            -2531         26.0           1               1                1   \n",
       "3            -2437          NaN           1               1                0   \n",
       "4            -3458          NaN           1               1                0   \n",
       "\n",
       "   FLAG_CONT_MOBILE  FLAG_PHONE  FLAG_EMAIL OCCUPATION_TYPE  CNT_FAM_MEMBERS  \\\n",
       "0                 1           1           0        Laborers              1.0   \n",
       "1                 1           1           0      Core staff              2.0   \n",
       "2                 1           1           0        Laborers              1.0   \n",
       "3                 1           0           0        Laborers              2.0   \n",
       "4                 1           0           0      Core staff              1.0   \n",
       "\n",
       "   REGION_RATING_CLIENT  REGION_RATING_CLIENT_W_CITY  \\\n",
       "0                     2                            2   \n",
       "1                     1                            1   \n",
       "2                     2                            2   \n",
       "3                     2                            2   \n",
       "4                     2                            2   \n",
       "\n",
       "  WEEKDAY_APPR_PROCESS_START  HOUR_APPR_PROCESS_START  \\\n",
       "0                  WEDNESDAY                       10   \n",
       "1                     MONDAY                       11   \n",
       "2                     MONDAY                        9   \n",
       "3                  WEDNESDAY                       17   \n",
       "4                   THURSDAY                       11   \n",
       "\n",
       "   REG_REGION_NOT_LIVE_REGION  REG_REGION_NOT_WORK_REGION  \\\n",
       "0                           0                           0   \n",
       "1                           0                           0   \n",
       "2                           0                           0   \n",
       "3                           0                           0   \n",
       "4                           0                           0   \n",
       "\n",
       "   LIVE_REGION_NOT_WORK_REGION  REG_CITY_NOT_LIVE_CITY  \\\n",
       "0                            0                       0   \n",
       "1                            0                       0   \n",
       "2                            0                       0   \n",
       "3                            0                       0   \n",
       "4                            0                       0   \n",
       "\n",
       "   REG_CITY_NOT_WORK_CITY  LIVE_CITY_NOT_WORK_CITY       ORGANIZATION_TYPE  \\\n",
       "0                       0                        0  Business Entity Type 3   \n",
       "1                       0                        0                  School   \n",
       "2                       0                        0              Government   \n",
       "3                       0                        0  Business Entity Type 3   \n",
       "4                       1                        1                Religion   \n",
       "\n",
       "   EXT_SOURCE_1  EXT_SOURCE_2  EXT_SOURCE_3  APARTMENTS_AVG  BASEMENTAREA_AVG  \\\n",
       "0      0.083037      0.262949      0.139376          0.0247            0.0369   \n",
       "1      0.311267      0.622246           NaN          0.0959            0.0529   \n",
       "2           NaN      0.555912      0.729567             NaN               NaN   \n",
       "3           NaN      0.650442           NaN             NaN               NaN   \n",
       "4           NaN      0.322738           NaN             NaN               NaN   \n",
       "\n",
       "   YEARS_BEGINEXPLUATATION_AVG  YEARS_BUILD_AVG  COMMONAREA_AVG  \\\n",
       "0                       0.9722           0.6192          0.0143   \n",
       "1                       0.9851           0.7960          0.0605   \n",
       "2                          NaN              NaN             NaN   \n",
       "3                          NaN              NaN             NaN   \n",
       "4                          NaN              NaN             NaN   \n",
       "\n",
       "   ELEVATORS_AVG  ENTRANCES_AVG  FLOORSMAX_AVG  FLOORSMIN_AVG  LANDAREA_AVG  \\\n",
       "0           0.00         0.0690         0.0833         0.1250        0.0369   \n",
       "1           0.08         0.0345         0.2917         0.3333        0.0130   \n",
       "2            NaN            NaN            NaN            NaN           NaN   \n",
       "3            NaN            NaN            NaN            NaN           NaN   \n",
       "4            NaN            NaN            NaN            NaN           NaN   \n",
       "\n",
       "   LIVINGAPARTMENTS_AVG  LIVINGAREA_AVG  NONLIVINGAPARTMENTS_AVG  \\\n",
       "0                0.0202          0.0190                   0.0000   \n",
       "1                0.0773          0.0549                   0.0039   \n",
       "2                   NaN             NaN                      NaN   \n",
       "3                   NaN             NaN                      NaN   \n",
       "4                   NaN             NaN                      NaN   \n",
       "\n",
       "   NONLIVINGAREA_AVG  APARTMENTS_MODE  BASEMENTAREA_MODE  \\\n",
       "0             0.0000           0.0252             0.0383   \n",
       "1             0.0098           0.0924             0.0538   \n",
       "2                NaN              NaN                NaN   \n",
       "3                NaN              NaN                NaN   \n",
       "4                NaN              NaN                NaN   \n",
       "\n",
       "   YEARS_BEGINEXPLUATATION_MODE  YEARS_BUILD_MODE  COMMONAREA_MODE  \\\n",
       "0                        0.9722            0.6341           0.0144   \n",
       "1                        0.9851            0.8040           0.0497   \n",
       "2                           NaN               NaN              NaN   \n",
       "3                           NaN               NaN              NaN   \n",
       "4                           NaN               NaN              NaN   \n",
       "\n",
       "   ELEVATORS_MODE  ENTRANCES_MODE  FLOORSMAX_MODE  FLOORSMIN_MODE  \\\n",
       "0          0.0000          0.0690          0.0833          0.1250   \n",
       "1          0.0806          0.0345          0.2917          0.3333   \n",
       "2             NaN             NaN             NaN             NaN   \n",
       "3             NaN             NaN             NaN             NaN   \n",
       "4             NaN             NaN             NaN             NaN   \n",
       "\n",
       "   LANDAREA_MODE  LIVINGAPARTMENTS_MODE  LIVINGAREA_MODE  \\\n",
       "0         0.0377                  0.022           0.0198   \n",
       "1         0.0128                  0.079           0.0554   \n",
       "2            NaN                    NaN              NaN   \n",
       "3            NaN                    NaN              NaN   \n",
       "4            NaN                    NaN              NaN   \n",
       "\n",
       "   NONLIVINGAPARTMENTS_MODE  NONLIVINGAREA_MODE  APARTMENTS_MEDI  \\\n",
       "0                       0.0                 0.0           0.0250   \n",
       "1                       0.0                 0.0           0.0968   \n",
       "2                       NaN                 NaN              NaN   \n",
       "3                       NaN                 NaN              NaN   \n",
       "4                       NaN                 NaN              NaN   \n",
       "\n",
       "   BASEMENTAREA_MEDI  YEARS_BEGINEXPLUATATION_MEDI  YEARS_BUILD_MEDI  \\\n",
       "0             0.0369                        0.9722            0.6243   \n",
       "1             0.0529                        0.9851            0.7987   \n",
       "2                NaN                           NaN               NaN   \n",
       "3                NaN                           NaN               NaN   \n",
       "4                NaN                           NaN               NaN   \n",
       "\n",
       "   COMMONAREA_MEDI  ELEVATORS_MEDI  ENTRANCES_MEDI  FLOORSMAX_MEDI  \\\n",
       "0           0.0144            0.00          0.0690          0.0833   \n",
       "1           0.0608            0.08          0.0345          0.2917   \n",
       "2              NaN             NaN             NaN             NaN   \n",
       "3              NaN             NaN             NaN             NaN   \n",
       "4              NaN             NaN             NaN             NaN   \n",
       "\n",
       "   FLOORSMIN_MEDI  LANDAREA_MEDI  LIVINGAPARTMENTS_MEDI  LIVINGAREA_MEDI  \\\n",
       "0          0.1250         0.0375                 0.0205           0.0193   \n",
       "1          0.3333         0.0132                 0.0787           0.0558   \n",
       "2             NaN            NaN                    NaN              NaN   \n",
       "3             NaN            NaN                    NaN              NaN   \n",
       "4             NaN            NaN                    NaN              NaN   \n",
       "\n",
       "   NONLIVINGAPARTMENTS_MEDI  NONLIVINGAREA_MEDI FONDKAPREMONT_MODE  \\\n",
       "0                    0.0000                0.00   reg oper account   \n",
       "1                    0.0039                0.01   reg oper account   \n",
       "2                       NaN                 NaN                NaN   \n",
       "3                       NaN                 NaN                NaN   \n",
       "4                       NaN                 NaN                NaN   \n",
       "\n",
       "   HOUSETYPE_MODE  TOTALAREA_MODE WALLSMATERIAL_MODE EMERGENCYSTATE_MODE  \\\n",
       "0  block of flats          0.0149       Stone, brick                  No   \n",
       "1  block of flats          0.0714              Block                  No   \n",
       "2             NaN             NaN                NaN                 NaN   \n",
       "3             NaN             NaN                NaN                 NaN   \n",
       "4             NaN             NaN                NaN                 NaN   \n",
       "\n",
       "   OBS_30_CNT_SOCIAL_CIRCLE  DEF_30_CNT_SOCIAL_CIRCLE  \\\n",
       "0                       2.0                       2.0   \n",
       "1                       1.0                       0.0   \n",
       "2                       0.0                       0.0   \n",
       "3                       2.0                       0.0   \n",
       "4                       0.0                       0.0   \n",
       "\n",
       "   OBS_60_CNT_SOCIAL_CIRCLE  DEF_60_CNT_SOCIAL_CIRCLE  DAYS_LAST_PHONE_CHANGE  \\\n",
       "0                       2.0                       2.0                 -1134.0   \n",
       "1                       1.0                       0.0                  -828.0   \n",
       "2                       0.0                       0.0                  -815.0   \n",
       "3                       2.0                       0.0                  -617.0   \n",
       "4                       0.0                       0.0                 -1106.0   \n",
       "\n",
       "   FLAG_DOCUMENT_2  FLAG_DOCUMENT_3  FLAG_DOCUMENT_4  FLAG_DOCUMENT_5  \\\n",
       "0                0                1                0                0   \n",
       "1                0                1                0                0   \n",
       "2                0                0                0                0   \n",
       "3                0                1                0                0   \n",
       "4                0                0                0                0   \n",
       "\n",
       "   FLAG_DOCUMENT_6  FLAG_DOCUMENT_7  FLAG_DOCUMENT_8  FLAG_DOCUMENT_9  \\\n",
       "0                0                0                0                0   \n",
       "1                0                0                0                0   \n",
       "2                0                0                0                0   \n",
       "3                0                0                0                0   \n",
       "4                0                0                1                0   \n",
       "\n",
       "   FLAG_DOCUMENT_10  FLAG_DOCUMENT_11  FLAG_DOCUMENT_12  FLAG_DOCUMENT_13  \\\n",
       "0                 0                 0                 0                 0   \n",
       "1                 0                 0                 0                 0   \n",
       "2                 0                 0                 0                 0   \n",
       "3                 0                 0                 0                 0   \n",
       "4                 0                 0                 0                 0   \n",
       "\n",
       "   FLAG_DOCUMENT_14  FLAG_DOCUMENT_15  FLAG_DOCUMENT_16  FLAG_DOCUMENT_17  \\\n",
       "0                 0                 0                 0                 0   \n",
       "1                 0                 0                 0                 0   \n",
       "2                 0                 0                 0                 0   \n",
       "3                 0                 0                 0                 0   \n",
       "4                 0                 0                 0                 0   \n",
       "\n",
       "   FLAG_DOCUMENT_18  FLAG_DOCUMENT_19  FLAG_DOCUMENT_20  FLAG_DOCUMENT_21  \\\n",
       "0                 0                 0                 0                 0   \n",
       "1                 0                 0                 0                 0   \n",
       "2                 0                 0                 0                 0   \n",
       "3                 0                 0                 0                 0   \n",
       "4                 0                 0                 0                 0   \n",
       "\n",
       "   AMT_REQ_CREDIT_BUREAU_HOUR  AMT_REQ_CREDIT_BUREAU_DAY  \\\n",
       "0                         0.0                        0.0   \n",
       "1                         0.0                        0.0   \n",
       "2                         0.0                        0.0   \n",
       "3                         NaN                        NaN   \n",
       "4                         0.0                        0.0   \n",
       "\n",
       "   AMT_REQ_CREDIT_BUREAU_WEEK  AMT_REQ_CREDIT_BUREAU_MON  \\\n",
       "0                         0.0                        0.0   \n",
       "1                         0.0                        0.0   \n",
       "2                         0.0                        0.0   \n",
       "3                         NaN                        NaN   \n",
       "4                         0.0                        0.0   \n",
       "\n",
       "   AMT_REQ_CREDIT_BUREAU_QRT  AMT_REQ_CREDIT_BUREAU_YEAR  \n",
       "0                        0.0                         1.0  \n",
       "1                        0.0                         0.0  \n",
       "2                        0.0                         0.0  \n",
       "3                        NaN                         NaN  \n",
       "4                        0.0                         0.0  "
      ]
     },
     "execution_count": 19,
     "metadata": {},
     "output_type": "execute_result"
    }
   ],
   "source": [
    "pd.set_option('display.max_columns', 500)\n",
    "application_train.head()"
   ]
  },
  {
   "cell_type": "markdown",
   "metadata": {},
   "source": [
    "Main file contains information about applied person's gender, some possessions, family, occupancy, residence and application information such as weekday, time, provided documents, etc."
   ]
  },
  {
   "cell_type": "code",
   "execution_count": 250,
   "metadata": {},
   "outputs": [
    {
     "data": {
      "text/plain": [
       "(307511, 122)"
      ]
     },
     "execution_count": 250,
     "metadata": {},
     "output_type": "execute_result"
    }
   ],
   "source": [
    "application_train.shape"
   ]
  },
  {
   "cell_type": "code",
   "execution_count": 6,
   "metadata": {},
   "outputs": [
    {
     "data": {
      "text/plain": [
       "(48744, 121)"
      ]
     },
     "execution_count": 6,
     "metadata": {},
     "output_type": "execute_result"
    }
   ],
   "source": [
    "application_test.shape"
   ]
  },
  {
   "cell_type": "code",
   "execution_count": 7,
   "metadata": {},
   "outputs": [
    {
     "data": {
      "text/plain": [
       "0    0.919271\n",
       "1    0.080729\n",
       "Name: TARGET, dtype: float64"
      ]
     },
     "execution_count": 7,
     "metadata": {},
     "output_type": "execute_result"
    }
   ],
   "source": [
    "application_train[\"TARGET\"].value_counts(1)"
   ]
  },
  {
   "cell_type": "markdown",
   "metadata": {},
   "source": [
    "TARGET: binary classification, 1 - client with payment difficulties, 0 - all other cases. Usually banks rather do not provide loan for person who will return than provide to somebody who won't. So the aim is to identify if client might not return the loan and precision in 1 group suppose to be the most important metric. "
   ]
  },
  {
   "cell_type": "markdown",
   "metadata": {},
   "source": [
    "GOAL: submissions are evaluated on area under the ROC curve between the predicted probability and the observed target. My goal is to have a median accuracy on private leadearboard, which is 0.78592, or better. Highest score on private board was 0.80570, so the goal seems to be challenging. "
   ]
  },
  {
   "cell_type": "code",
   "execution_count": 83,
   "metadata": {},
   "outputs": [],
   "source": [
    "app_train_gender = find_relation(application_train, \"CODE_GENDER\", \"TARGET\")"
   ]
  },
  {
   "cell_type": "code",
   "execution_count": 255,
   "metadata": {},
   "outputs": [
    {
     "data": {
      "image/png": "[encoded data removed]",
      "text/plain": [
       "<Figure size 432x288 with 1 Axes>"
      ]
     },
     "metadata": {},
     "output_type": "display_data"
    }
   ],
   "source": [
    "sns.barplot(data=app_train_gender, x=\"TARGET\", y=\"percentage\", hue=\"CODE_GENDER\")\n",
    "plt.suptitle(\"Target percentage vs. gender\")"
   ]
  },
  {
   "cell_type": "markdown",
   "metadata": {},
   "source": [
    "Females apply for the loan almost twice as much as males, but they also have a better ratio of returning the loan back. To speak in numbers, payment difficulties will have 7% of women and 10.1% of men. "
   ]
  },
  {
   "cell_type": "markdown",
   "metadata": {},
   "source": [
    "Owning a car or a realty did not effect the percentage for more than 0.01%, but having children did: "
   ]
  },
  {
   "cell_type": "code",
   "execution_count": 239,
   "metadata": {},
   "outputs": [],
   "source": [
    "app_train_children = find_relation(application_train, \"CNT_CHILDREN\", \"TARGET\")\n",
    "app_train_children = app_train_children.drop(\"percentage\", axis=1)"
   ]
  },
  {
   "cell_type": "code",
   "execution_count": 240,
   "metadata": {},
   "outputs": [],
   "source": [
    "new_row_0 = 0\n",
    "new_row_1 = 0\n",
    "for index, row in app_train_children.iterrows():\n",
    "    if row[\"CNT_CHILDREN\"] > 2 and row[\"TARGET\"] == 0:\n",
    "        new_row_0 = new_row_0 + row[\"total\"]\n",
    "        app_train_children.drop(index, inplace=True)\n",
    "    if row[\"CNT_CHILDREN\"] > 2 and row[\"TARGET\"] == 1:\n",
    "        new_row_1 = new_row_1 + row[\"total\"]\n",
    "        app_train_children.drop(index, inplace=True)\n",
    "\n",
    "more_than_2_0 = {\"CNT_CHILDREN\": \"3 and more\", \"TARGET\": 0, \"total\": new_row_0}\n",
    "more_than_2_1 = {\"CNT_CHILDREN\": \"3 and more\", \"TARGET\": 1, \"total\": new_row_1}\n",
    "app_train_children = app_train_children.append(more_than_2_0, ignore_index=True)\n",
    "app_train_children = app_train_children.append(more_than_2_1, ignore_index=True)"
   ]
  },
  {
   "cell_type": "code",
   "execution_count": 245,
   "metadata": {},
   "outputs": [],
   "source": [
    "app_train_children = find_relation_in_groups(\n",
    "    app_train_children, \"CNT_CHILDREN\", \"TARGET\"\n",
    ")"
   ]
  },
  {
   "cell_type": "code",
   "execution_count": 256,
   "metadata": {},
   "outputs": [
    {
     "data": {
      "image/png": "[encoded data removed]",
      "text/plain": [
       "<Figure size 432x288 with 1 Axes>"
      ]
     },
     "metadata": {},
     "output_type": "display_data"
    }
   ],
   "source": [
    "sns.barplot(data=app_train_children, x=\"TARGET\", y=\"total\", hue=\"CNT_CHILDREN\")\n",
    "plt.suptitle(\"Target percentage vs. amount of children\")"
   ]
  },
  {
   "cell_type": "markdown",
   "metadata": {},
   "source": [
    "70% of applicants did not have children but the ones who had found it slightly more difficult to return, and the more children, the higher percent. It grows from 7.7% (no children) to 10.04% (3 and more children). "
   ]
  },
  {
   "cell_type": "markdown",
   "metadata": {},
   "source": [
    "Another observation is what income type has the applicant and how it impacts if client will return the loan or not. The smaller groups such as businessman and student have 100% rate while Maternity leave and unemployed have the lowest: 60 and 63% respectively. Unfortunately all these groups are too small (less than 1% each) for model to generalize results and main focus should remain on working, commercial associate and pensioner groups. All of the later have a rates accordingly 90%, 92% and 94% (see plot below). "
   ]
  },
  {
   "cell_type": "code",
   "execution_count": 228,
   "metadata": {},
   "outputs": [],
   "source": [
    "app_train_income = find_relation_in_groups(\n",
    "    application_train, \"NAME_INCOME_TYPE\", \"TARGET\"\n",
    ")"
   ]
  },
  {
   "cell_type": "code",
   "execution_count": 257,
   "metadata": {},
   "outputs": [
    {
     "data": {
      "image/png": "[encoded data removed]",
      "text/plain": [
       "<Figure size 432x288 with 1 Axes>"
      ]
     },
     "metadata": {},
     "output_type": "display_data"
    }
   ],
   "source": [
    "sns.barplot(data=app_train_income, x=\"NAME_INCOME_TYPE\", y=\"total\", hue=\"TARGET\")\n",
    "plt.xticks(rotation=90)\n",
    "plt.suptitle(\"Income type and it's classification in percentage\")"
   ]
  },
  {
   "cell_type": "markdown",
   "metadata": {},
   "source": [
    "The highest amount of people (a bit more tham 70%) who apply for the loan have Secondary / secondary special education. Second biggest group (around 24%) has higher education. Other groups are very small, but still let's see the behaviour patterns according to it:"
   ]
  },
  {
   "cell_type": "code",
   "execution_count": 231,
   "metadata": {},
   "outputs": [],
   "source": [
    "app_train_education = find_relation_in_groups(\n",
    "    application_train, \"NAME_EDUCATION_TYPE\", \"TARGET\"\n",
    ")"
   ]
  },
  {
   "cell_type": "code",
   "execution_count": 254,
   "metadata": {},
   "outputs": [
    {
     "data": {
      "image/png": "[encoded data removed]",
      "text/plain": [
       "<Figure size 432x288 with 1 Axes>"
      ]
     },
     "metadata": {},
     "output_type": "display_data"
    }
   ],
   "source": [
    "sns.barplot(data=app_train_education, x=\"NAME_EDUCATION_TYPE\", y=\"total\", hue=\"TARGET\")\n",
    "plt.xticks(rotation=90)\n",
    "plt.suptitle(\"Education type and it's classification in percentage\")"
   ]
  },
  {
   "cell_type": "markdown",
   "metadata": {},
   "source": [
    "From the plot above we see that he higher education, the bigger percent of people who return the loan without issues.  \n",
    "What about clients age and employment days: "
   ]
  },
  {
   "cell_type": "code",
   "execution_count": 199,
   "metadata": {},
   "outputs": [],
   "source": [
    "app_train_days = application_train[[\"TARGET\", \"DAYS_BIRTH\", \"DAYS_EMPLOYED\"]]\n",
    "app_train_days = app_train_days[app_train_days.DAYS_EMPLOYED != 365243]"
   ]
  },
  {
   "cell_type": "code",
   "execution_count": 258,
   "metadata": {},
   "outputs": [
    {
     "data": {
      "image/png": "[encoded data removed]",
      "text/plain": [
       "<Figure size 416.55x360 with 6 Axes>"
      ]
     },
     "metadata": {},
     "output_type": "display_data"
    }
   ],
   "source": [
    "sns.pairplot(app_train_days, hue=\"TARGET\")\n",
    "plt.suptitle(\"Correlation between age and days employed\");"
   ]
  },
  {
   "cell_type": "markdown",
   "metadata": {},
   "source": [
    "It seems that the shorter time period the person is employed, the higher chances that he will apply for the loan and possibly won't be able to get it back (it is possible that such persons have a tendency to be unemployed too). Another natural correlation is that the younger the person is, the shorter time he is employed, but it seems that these people are also having a bigger tendency to have difficulties in paying back. "
   ]
  },
  {
   "cell_type": "markdown",
   "metadata": {},
   "source": [
    "Let's see if modelling also see similar results in feature importance.\n",
    "\n",
    "To begin with, I will impute missing values with mean or most freaquent values and make few baseline models.   \n",
    "For the baseline model I will try several models:         \n",
    "* LogisticRegression,\n",
    "* LightGBM,\n",
    "* RandomForestClassifier,\n",
    "* GradientBoostingClassifier,\n",
    "* XGBClassifier,\n",
    "* CatBoostClassifier.   \n",
    "\n",
    "My decision to choose these models are based on my own experience in previous projects and experience of my peers and kaggle competitors for this project. I will reduce number of models to 3-4 after reviewing first results."
   ]
  },
  {
   "cell_type": "markdown",
   "metadata": {},
   "source": [
    "## BASELINE MODEL"
   ]
  },
  {
   "cell_type": "markdown",
   "metadata": {},
   "source": [
    "I will have several datasets (only from application_train file) for baseline model in order to make better choice: \n",
    "1. application_train data, simply imputed;\n",
    "2. features from application_train selected with l1 from Logistic regression model;\n",
    "3. repeated most important features from several models;\n",
    "4. all most important features from several models. "
   ]
  },
  {
   "cell_type": "code",
   "execution_count": 24,
   "metadata": {},
   "outputs": [],
   "source": [
    "application_train_imputed = DataFrameImputer().fit_transform(application_train)"
   ]
  },
  {
   "cell_type": "code",
   "execution_count": 29,
   "metadata": {},
   "outputs": [],
   "source": [
    "application_train_imputed_enc = pd.get_dummies(\n",
    "    application_train_imputed, drop_first=True\n",
    ")\n",
    "\n",
    "train_sample = application_train_imputed_enc.sample(\n",
    "    frac=0.01, replace=True, random_state=42\n",
    ")\n",
    "features_list = list(train_sample.columns[2:])\n",
    "\n",
    "X_app_all = train_sample[train_sample.columns[2:]].values\n",
    "y = train_sample[\"TARGET\"].to_numpy()"
   ]
  },
  {
   "cell_type": "code",
   "execution_count": 32,
   "metadata": {},
   "outputs": [],
   "source": [
    "main_features = list(\n",
    "    set(top_features_lr) & set(top_lgb_features) & set(top_xgb_features)\n",
    ")\n",
    "main_features.sort()\n",
    "\n",
    "all_features = set(top_features_lr + top_lgb_features + top_xgb_features)"
   ]
  },
  {
   "cell_type": "code",
   "execution_count": 37,
   "metadata": {},
   "outputs": [],
   "source": [
    "X_main_features = train_sample[main_features].values\n",
    "X_all_selected = train_sample[all_features].values"
   ]
  },
  {
   "cell_type": "code",
   "execution_count": 77,
   "metadata": {},
   "outputs": [],
   "source": [
    "datasets = [X_app_all, X_lr_top, X_main_features, X_all_selected]"
   ]
  },
  {
   "cell_type": "code",
   "execution_count": 6,
   "metadata": {},
   "outputs": [],
   "source": [
    "X_train, X_test, y_train, y_test = train_test_split(\n",
    "    X_app_all, y, test_size=0.2, random_state=RANDOM\n",
    ")\n",
    "\n",
    "scaler = StandardScaler()\n",
    "X_train = scaler.fit_transform(X_train)\n",
    "X_test = scaler.transform(X_test)"
   ]
  },
  {
   "cell_type": "markdown",
   "metadata": {},
   "source": [
    "### Logistic regression"
   ]
  },
  {
   "cell_type": "markdown",
   "metadata": {},
   "source": [
    "#### Select main features"
   ]
  },
  {
   "cell_type": "code",
   "execution_count": 9,
   "metadata": {},
   "outputs": [
    {
     "data": {
      "text/html": [
       "\n",
       "    <style>\n",
       "    table.eli5-weights tr:hover {\n",
       "        filter: brightness(85%);\n",
       "    }\n",
       "</style>\n",
       "\n",
       "\n",
       "\n",
       "    \n",
       "\n",
       "    \n",
       "\n",
       "    \n",
       "\n",
       "    \n",
       "\n",
       "    \n",
       "\n",
       "    \n",
       "\n",
       "\n",
       "    \n",
       "\n",
       "    \n",
       "\n",
       "    \n",
       "\n",
       "    \n",
       "        \n",
       "\n",
       "    \n",
       "\n",
       "        \n",
       "            \n",
       "                \n",
       "                \n",
       "    \n",
       "        <p style=\"margin-bottom: 0.5em; margin-top: 0em\">\n",
       "            <b>\n",
       "    \n",
       "        y=1\n",
       "    \n",
       "</b>\n",
       "\n",
       "top features\n",
       "        </p>\n",
       "    \n",
       "    <table class=\"eli5-weights\"\n",
       "           style=\"border-collapse: collapse; border: none; margin-top: 0em; table-layout: auto; margin-bottom: 2em;\">\n",
       "        <thead>\n",
       "        <tr style=\"border: none;\">\n",
       "            \n",
       "                <th style=\"padding: 0 1em 0 0.5em; text-align: right; border: none;\" title=\"Feature weights. Note that weights do not account for feature value scales, so if feature values have different scales, features with highest weights might not be the most important.\">\n",
       "                    Weight<sup>?</sup>\n",
       "                </th>\n",
       "            \n",
       "            <th style=\"padding: 0 0.5em 0 0.5em; text-align: left; border: none;\">Feature</th>\n",
       "            \n",
       "        </tr>\n",
       "        </thead>\n",
       "        <tbody>\n",
       "        \n",
       "            <tr style=\"background-color: hsl(120, 100.00%, 95.96%); border: none;\">\n",
       "    <td style=\"padding: 0 1em 0 0.5em; text-align: right; border: none;\">\n",
       "        +0.278\n",
       "    </td>\n",
       "    <td style=\"padding: 0 0.5em 0 0.5em; text-align: left; border: none;\">\n",
       "        CODE_GENDER_M\n",
       "    </td>\n",
       "    \n",
       "</tr>\n",
       "        \n",
       "            <tr style=\"background-color: hsl(120, 100.00%, 97.58%); border: none;\">\n",
       "    <td style=\"padding: 0 1em 0 0.5em; text-align: right; border: none;\">\n",
       "        +0.134\n",
       "    </td>\n",
       "    <td style=\"padding: 0 0.5em 0 0.5em; text-align: left; border: none;\">\n",
       "        NAME_INCOME_TYPE_Working\n",
       "    </td>\n",
       "    \n",
       "</tr>\n",
       "        \n",
       "            <tr style=\"background-color: hsl(120, 100.00%, 97.70%); border: none;\">\n",
       "    <td style=\"padding: 0 1em 0 0.5em; text-align: right; border: none;\">\n",
       "        +0.125\n",
       "    </td>\n",
       "    <td style=\"padding: 0 0.5em 0 0.5em; text-align: left; border: none;\">\n",
       "        OBS_60_CNT_SOCIAL_CIRCLE\n",
       "    </td>\n",
       "    \n",
       "</tr>\n",
       "        \n",
       "            <tr style=\"background-color: hsl(120, 100.00%, 97.75%); border: none;\">\n",
       "    <td style=\"padding: 0 1em 0 0.5em; text-align: right; border: none;\">\n",
       "        +0.121\n",
       "    </td>\n",
       "    <td style=\"padding: 0 0.5em 0 0.5em; text-align: left; border: none;\">\n",
       "        ORGANIZATION_TYPE_Agriculture\n",
       "    </td>\n",
       "    \n",
       "</tr>\n",
       "        \n",
       "            <tr style=\"background-color: hsl(120, 100.00%, 97.87%); border: none;\">\n",
       "    <td style=\"padding: 0 1em 0 0.5em; text-align: right; border: none;\">\n",
       "        +0.111\n",
       "    </td>\n",
       "    <td style=\"padding: 0 0.5em 0 0.5em; text-align: left; border: none;\">\n",
       "        ORGANIZATION_TYPE_Self-employed\n",
       "    </td>\n",
       "    \n",
       "</tr>\n",
       "        \n",
       "        \n",
       "            <tr style=\"background-color: hsl(120, 100.00%, 97.87%); border: none;\">\n",
       "                <td colspan=\"2\" style=\"padding: 0 0.5em 0 0.5em; text-align: center; border: none; white-space: nowrap;\">\n",
       "                    <i>&hellip; 28 more positive &hellip;</i>\n",
       "                </td>\n",
       "            </tr>\n",
       "        \n",
       "\n",
       "        \n",
       "            <tr style=\"background-color: hsl(0, 100.00%, 97.80%); border: none;\">\n",
       "                <td colspan=\"2\" style=\"padding: 0 0.5em 0 0.5em; text-align: center; border: none; white-space: nowrap;\">\n",
       "                    <i>&hellip; 27 more negative &hellip;</i>\n",
       "                </td>\n",
       "            </tr>\n",
       "        \n",
       "        \n",
       "            <tr style=\"background-color: hsl(0, 100.00%, 97.80%); border: none;\">\n",
       "    <td style=\"padding: 0 1em 0 0.5em; text-align: right; border: none;\">\n",
       "        -0.117\n",
       "    </td>\n",
       "    <td style=\"padding: 0 0.5em 0 0.5em; text-align: left; border: none;\">\n",
       "        AMT_REQ_CREDIT_BUREAU_WEEK\n",
       "    </td>\n",
       "    \n",
       "</tr>\n",
       "        \n",
       "            <tr style=\"background-color: hsl(0, 100.00%, 97.41%); border: none;\">\n",
       "    <td style=\"padding: 0 1em 0 0.5em; text-align: right; border: none;\">\n",
       "        -0.148\n",
       "    </td>\n",
       "    <td style=\"padding: 0 0.5em 0 0.5em; text-align: left; border: none;\">\n",
       "        OCCUPATION_TYPE_Core staff\n",
       "    </td>\n",
       "    \n",
       "</tr>\n",
       "        \n",
       "            <tr style=\"background-color: hsl(0, 100.00%, 94.94%); border: none;\">\n",
       "    <td style=\"padding: 0 1em 0 0.5em; text-align: right; border: none;\">\n",
       "        -0.384\n",
       "    </td>\n",
       "    <td style=\"padding: 0 0.5em 0 0.5em; text-align: left; border: none;\">\n",
       "        EXT_SOURCE_3\n",
       "    </td>\n",
       "    \n",
       "</tr>\n",
       "        \n",
       "            <tr style=\"background-color: hsl(0, 100.00%, 94.79%); border: none;\">\n",
       "    <td style=\"padding: 0 1em 0 0.5em; text-align: right; border: none;\">\n",
       "        -0.400\n",
       "    </td>\n",
       "    <td style=\"padding: 0 0.5em 0 0.5em; text-align: left; border: none;\">\n",
       "        EXT_SOURCE_2\n",
       "    </td>\n",
       "    \n",
       "</tr>\n",
       "        \n",
       "            <tr style=\"background-color: hsl(0, 100.00%, 80.00%); border: none;\">\n",
       "    <td style=\"padding: 0 1em 0 0.5em; text-align: right; border: none;\">\n",
       "        -2.733\n",
       "    </td>\n",
       "    <td style=\"padding: 0 0.5em 0 0.5em; text-align: left; border: none;\">\n",
       "        &lt;BIAS&gt;\n",
       "    </td>\n",
       "    \n",
       "</tr>\n",
       "        \n",
       "\n",
       "        </tbody>\n",
       "    </table>\n",
       "\n",
       "            \n",
       "        \n",
       "\n",
       "        \n",
       "\n",
       "\n",
       "\n",
       "    \n",
       "\n",
       "    \n",
       "\n",
       "    \n",
       "\n",
       "    \n",
       "\n",
       "\n",
       "    \n",
       "\n",
       "    \n",
       "\n",
       "    \n",
       "\n",
       "    \n",
       "\n",
       "    \n",
       "\n",
       "    \n",
       "\n",
       "\n",
       "    \n",
       "\n",
       "    \n",
       "\n",
       "    \n",
       "\n",
       "    \n",
       "\n",
       "    \n",
       "\n",
       "    \n",
       "\n",
       "\n",
       "\n"
      ],
      "text/plain": [
       "Explanation(estimator=\"LogisticRegression(C=0.1, penalty='l1', random_state=42, solver='liblinear')\", description=\"\\nFeatures with largest coefficients.\\nCaveats:\\n1. Be careful with features which are not\\n   independent - weights don't show their importance.\\n2. If scale of input features is different then scale of coefficients\\n   will also be different, making direct comparison between coefficient values\\n   incorrect.\\n3. Depending on regularization, rare features sometimes may have high\\n   coefficients; this doesn't mean they contribute much to the\\n   classification result for most examples.\\n\", error=None, method='linear model', is_regression=False, targets=[TargetExplanation(target=1, feature_weights=FeatureWeights(pos=[FeatureWeight(feature='CODE_GENDER_M', weight=0.27824365138298385, std=None, value=None), FeatureWeight(feature='NAME_INCOME_TYPE_Working', weight=0.1335045680107794, std=None, value=None), FeatureWeight(feature='OBS_60_CNT_SOCIAL_CIRCLE', weight=0.12459110077426466, std=None, value=None), FeatureWeight(feature='ORGANIZATION_TYPE_Agriculture', weight=0.120874859492022, std=None, value=None), FeatureWeight(feature='ORGANIZATION_TYPE_Self-employed', weight=0.11118717232112532, std=None, value=None)], neg=[FeatureWeight(feature='<BIAS>', weight=-2.7325733191789774, std=None, value=None), FeatureWeight(feature='EXT_SOURCE_2', weight=-0.40019385015244696, std=None, value=None), FeatureWeight(feature='EXT_SOURCE_3', weight=-0.38386475449063545, std=None, value=None), FeatureWeight(feature='OCCUPATION_TYPE_Core staff', weight=-0.14758758839834432, std=None, value=None), FeatureWeight(feature='AMT_REQ_CREDIT_BUREAU_WEEK', weight=-0.11685983382132374, std=None, value=None)], pos_remaining=28, neg_remaining=27), proba=None, score=None, weighted_spans=None, heatmap=None)], feature_importances=None, decision_tree=None, highlight_spaces=None, transition_features=None, image=None)"
      ]
     },
     "execution_count": 9,
     "metadata": {},
     "output_type": "execute_result"
    }
   ],
   "source": [
    "eli5.explain_weights(lr, top=10, feature_names=features_list)"
   ]
  },
  {
   "cell_type": "code",
   "execution_count": 10,
   "metadata": {},
   "outputs": [],
   "source": [
    "top_features_lr = [\n",
    "    i[:]\n",
    "    for i in eli5.formatters.as_dataframe.explain_weights_df(\n",
    "        lr, feature_names=features_list\n",
    "    ).feature[:]\n",
    "    if \"BIAS\" not in i\n",
    "]\n",
    "\n",
    "X_lr_top = train_sample[top_features_lr].values"
   ]
  },
  {
   "cell_type": "markdown",
   "metadata": {},
   "source": [
    "#### Results"
   ]
  },
  {
   "cell_type": "code",
   "execution_count": 83,
   "metadata": {},
   "outputs": [
    {
     "data": {
      "text/plain": [
       "('CV_all mean score all: 0.634',\n",
       " 'CV_all mean score top lr: 0.73',\n",
       " 'CV_all mean score main features: 0.75',\n",
       " 'CV_all mean score all selected features: 0.634')"
      ]
     },
     "execution_count": 83,
     "metadata": {},
     "output_type": "execute_result"
    }
   ],
   "source": [
    "lr = LogisticRegression(random_state=RANDOM)\n",
    "get_mean_scores(lr, datasets, y)"
   ]
  },
  {
   "cell_type": "code",
   "execution_count": 84,
   "metadata": {},
   "outputs": [],
   "source": [
    "X_train, X_test, y_train, y_test = train_test_split(\n",
    "    X_main_features, y, test_size=0.2, random_state=RANDOM\n",
    ")\n",
    "\n",
    "scaler = StandardScaler()\n",
    "X_train = scaler.fit_transform(X_train)\n",
    "X_test = scaler.transform(X_test)"
   ]
  },
  {
   "cell_type": "code",
   "execution_count": 102,
   "metadata": {},
   "outputs": [
    {
     "name": "stdout",
     "output_type": "stream",
     "text": [
      "Best score: 0.7639434885850376\n",
      "Best parameters: {'C': 0.001, 'class_weight': 'balanced', 'penalty': 'l2', 'solver': 'liblinear'}\n"
     ]
    }
   ],
   "source": [
    "lr = LogisticRegression(max_iter=10000)\n",
    "\n",
    "parameter_grid = {\n",
    "    \"class_weight\": [\"balanced\", None],\n",
    "    \"penalty\": [\"l2\", \"l1\"],\n",
    "    \"C\": [0.001, 0.01, 0.1, 1.0, 10.0, 100.0],\n",
    "    \"solver\": [\"newton-cg\", \"sag\", \"lbfgs\", \"liblinear\"],\n",
    "}\n",
    "\n",
    "grid_search = GridSearchCV(lr, param_grid=parameter_grid, cv=5, scoring=\"roc_auc\")\n",
    "grid_search.fit(X_train, y_train)\n",
    "print(\"Best score: {}\".format(grid_search.best_score_))\n",
    "print(\"Best parameters: {}\".format(grid_search.best_params_))"
   ]
  },
  {
   "cell_type": "code",
   "execution_count": 108,
   "metadata": {},
   "outputs": [
    {
     "name": "stdout",
     "output_type": "stream",
     "text": [
      "Train score: 0.7239837398373984\n",
      "CV_all mean score: 0.759\n",
      "Classification report:\n",
      "               precision    recall  f1-score   support\n",
      "\n",
      "           0       0.96      0.69      0.80       559\n",
      "           1       0.19      0.71      0.30        56\n",
      "\n",
      "    accuracy                           0.69       615\n",
      "   macro avg       0.57      0.70      0.55       615\n",
      "weighted avg       0.89      0.69      0.75       615\n",
      "\n"
     ]
    }
   ],
   "source": [
    "lr = LogisticRegression(\n",
    "    class_weight=\"balanced\",\n",
    "    random_state=RANDOM,\n",
    "    penalty=\"l2\",\n",
    "    C=10.0,\n",
    "    solver=\"liblinear\",\n",
    ")\n",
    "lr.fit(X_train, y_train)\n",
    "\n",
    "scores_all = cross_val_score(lr, X_main_features, y, cv=5, scoring=\"roc_auc\")\n",
    "\n",
    "y_pred = lr.predict(X_test)\n",
    "\n",
    "print(\"Train score:\", lr.score(X_train, y_train))\n",
    "print(\"CV_all mean score:\", round(scores_all.mean(), 3))\n",
    "print(\"Classification report:\\n\", classification_report(y_test, y_pred))"
   ]
  },
  {
   "cell_type": "markdown",
   "metadata": {},
   "source": [
    "### LGBM Classifier"
   ]
  },
  {
   "cell_type": "markdown",
   "metadata": {},
   "source": [
    "#### Select main features"
   ]
  },
  {
   "cell_type": "code",
   "execution_count": 13,
   "metadata": {},
   "outputs": [
    {
     "data": {
      "text/html": [
       "<div>\n",
       "<style scoped>\n",
       "    .dataframe tbody tr th:only-of-type {\n",
       "        vertical-align: middle;\n",
       "    }\n",
       "\n",
       "    .dataframe tbody tr th {\n",
       "        vertical-align: top;\n",
       "    }\n",
       "\n",
       "    .dataframe thead th {\n",
       "        text-align: right;\n",
       "    }\n",
       "</style>\n",
       "<table border=\"1\" class=\"dataframe\">\n",
       "  <thead>\n",
       "    <tr style=\"text-align: right;\">\n",
       "      <th></th>\n",
       "      <th>feature</th>\n",
       "      <th>importance</th>\n",
       "    </tr>\n",
       "  </thead>\n",
       "  <tbody>\n",
       "    <tr>\n",
       "      <th>20</th>\n",
       "      <td>EXT_SOURCE_2</td>\n",
       "      <td>287</td>\n",
       "    </tr>\n",
       "    <tr>\n",
       "      <th>21</th>\n",
       "      <td>EXT_SOURCE_3</td>\n",
       "      <td>219</td>\n",
       "    </tr>\n",
       "    <tr>\n",
       "      <th>2</th>\n",
       "      <td>AMT_CREDIT</td>\n",
       "      <td>171</td>\n",
       "    </tr>\n",
       "    <tr>\n",
       "      <th>8</th>\n",
       "      <td>DAYS_REGISTRATION</td>\n",
       "      <td>144</td>\n",
       "    </tr>\n",
       "    <tr>\n",
       "      <th>7</th>\n",
       "      <td>DAYS_EMPLOYED</td>\n",
       "      <td>143</td>\n",
       "    </tr>\n",
       "    <tr>\n",
       "      <th>...</th>\n",
       "      <td>...</td>\n",
       "      <td>...</td>\n",
       "    </tr>\n",
       "    <tr>\n",
       "      <th>52</th>\n",
       "      <td>NONLIVINGAPARTMENTS_MEDI</td>\n",
       "      <td>1</td>\n",
       "    </tr>\n",
       "    <tr>\n",
       "      <th>56</th>\n",
       "      <td>DEF_30_CNT_SOCIAL_CIRCLE</td>\n",
       "      <td>1</td>\n",
       "    </tr>\n",
       "    <tr>\n",
       "      <th>14</th>\n",
       "      <td>REGION_RATING_CLIENT</td>\n",
       "      <td>1</td>\n",
       "    </tr>\n",
       "    <tr>\n",
       "      <th>12</th>\n",
       "      <td>FLAG_PHONE</td>\n",
       "      <td>1</td>\n",
       "    </tr>\n",
       "    <tr>\n",
       "      <th>85</th>\n",
       "      <td>ORGANIZATION_TYPE_XNA</td>\n",
       "      <td>1</td>\n",
       "    </tr>\n",
       "  </tbody>\n",
       "</table>\n",
       "<p>87 rows × 2 columns</p>\n",
       "</div>"
      ],
      "text/plain": [
       "                     feature importance\n",
       "20              EXT_SOURCE_2        287\n",
       "21              EXT_SOURCE_3        219\n",
       "2                 AMT_CREDIT        171\n",
       "8          DAYS_REGISTRATION        144\n",
       "7              DAYS_EMPLOYED        143\n",
       "..                       ...        ...\n",
       "52  NONLIVINGAPARTMENTS_MEDI          1\n",
       "56  DEF_30_CNT_SOCIAL_CIRCLE          1\n",
       "14      REGION_RATING_CLIENT          1\n",
       "12                FLAG_PHONE          1\n",
       "85     ORGANIZATION_TYPE_XNA          1\n",
       "\n",
       "[87 rows x 2 columns]"
      ]
     },
     "execution_count": 13,
     "metadata": {},
     "output_type": "execute_result"
    }
   ],
   "source": [
    "lgb_feature_importance = lgb.feature_importances_\n",
    "lgb_model_features = get_feature_importance(features_list, lgb_feature_importance)\n",
    "lgb_model_features.sort_values(by=['importance'], ascending=False)"
   ]
  },
  {
   "cell_type": "code",
   "execution_count": 14,
   "metadata": {},
   "outputs": [],
   "source": [
    "top_lgb_features = list(lgb_model_features[\"feature\"])"
   ]
  },
  {
   "cell_type": "markdown",
   "metadata": {},
   "source": [
    "#### Results"
   ]
  },
  {
   "cell_type": "code",
   "execution_count": 59,
   "metadata": {},
   "outputs": [
    {
     "data": {
      "text/plain": [
       "('CV_all mean score all: 0.719',\n",
       " 'CV_all mean score top lr: 0.717',\n",
       " 'CV_all mean score main features: 0.711',\n",
       " 'CV_all mean score all selected features: 0.733')"
      ]
     },
     "execution_count": 59,
     "metadata": {},
     "output_type": "execute_result"
    }
   ],
   "source": [
    "lgb = LGBMClassifier(random_state=RANDOM, objective=\"binary\", verbose=-1)\n",
    "get_mean_scores(lgb, datasets, y)"
   ]
  },
  {
   "cell_type": "code",
   "execution_count": 114,
   "metadata": {},
   "outputs": [],
   "source": [
    "X_train, X_test, y_train, y_test = train_test_split(\n",
    "    X_app_all, y, test_size=0.2, random_state=RANDOM\n",
    ")\n",
    "\n",
    "scaler = StandardScaler()\n",
    "X_train = scaler.fit_transform(X_train)\n",
    "X_test = scaler.transform(X_test)"
   ]
  },
  {
   "cell_type": "code",
   "execution_count": null,
   "metadata": {},
   "outputs": [],
   "source": [
    "lgb = LGBMClassifier(random_state=RANDOM, objective=\"binary\", verbose=-1)\n",
    "\n",
    "parameter_grid = {\n",
    "    \"n_estimators\": [200, 300, 500, 700],\n",
    "    \"feature_fraction\": [0.1, 0.2, 0.3, 0.4, 0.5, 0.6, 0.7, 0.8, 0.9, 1.0],\n",
    "    \"max_depth\": [2, 3, 4, 5, 6, 7, 8, 9, 10, 12, 14, 20, 30],\n",
    "    \"max_bin\": [255, 510],\n",
    "    \"boosting_type\": [\"gbdt\", \"dart\"],\n",
    "    \"num_leaves\": [6, 8, 12, 16, 32, 48, 100, 130, 150, 180, 200],\n",
    "    \"min_data_in_leaf\": [5, 10, 25, 50, 75, 100, 150],\n",
    "}\n",
    "\n",
    "grid_search = RandomizedSearchCV(lgb, parameter_grid, cv=5, scoring=\"roc_auc\")\n",
    "grid_search.fit(X_train, y_train)\n",
    "print(\"Best score: {}\".format(grid_search.best_score_))\n",
    "print(\"Best parameters: {}\".format(grid_search.best_params_))"
   ]
  },
  {
   "cell_type": "markdown",
   "metadata": {},
   "source": [
    "Best score: 0.7225390120373418\n",
    "Best parameters: {'num_leaves': 180, 'n_estimators': 500, 'min_data_in_leaf': 10, 'max_depth': 3, 'max_bin': 510, 'feature_fraction': 0.7, 'boosting_type': 'dart'}"
   ]
  },
  {
   "cell_type": "code",
   "execution_count": null,
   "metadata": {},
   "outputs": [],
   "source": [
    "lgb = LGBMClassifier(\n",
    "    random_state=RANDOM,\n",
    "    objective=\"binary\",\n",
    "    verbose=-1,\n",
    "    num_leaves=12,\n",
    "    n_estimators=500,\n",
    "    min_data_in_leaf=150,\n",
    "    max_depth=3,\n",
    "    max_bin=510,\n",
    "    feature_fraction=0.4,\n",
    "    boosting_type=\"dart\",\n",
    ")\n",
    "\n",
    "lgb.fit(X_train, y_train)\n",
    "\n",
    "scores_all = cross_val_score(lgb, X_app_all, y, cv=3, scoring=\"roc_auc\")\n",
    "scores_lr_top = cross_val_score(lgb, X_lr_top, y, cv=3, scoring=\"roc_auc\")\n",
    "scores_main_features = cross_val_score(lgb, X_main_features, y, cv=3, scoring=\"roc_auc\")\n",
    "scores_all_selected = cross_val_score(lgb, X_all_selected, y, cv=3, scoring=\"roc_auc\")\n",
    "\n",
    "y_pred = lgb.predict(X_test)\n",
    "\n",
    "print(\"Train score:\", lgb.score(X_train, y_train))\n",
    "print(\"CV_all mean score all:\", round(scores_all.mean(), 3))\n",
    "print(\"CV_all mean score top lr:\", round(scores_lr_top.mean(), 3))\n",
    "print(\"CV_all mean score main features:\", round(scores_main_features.mean(), 3))\n",
    "print(\"CV_all mean score all_selected features:\", round(scores_all_selected.mean(), 3))\n",
    "print(\"Classification report:\\n\", classification_report(y_test, y_pred))"
   ]
  },
  {
   "cell_type": "markdown",
   "metadata": {},
   "source": [
    "Train score: 0.9235772357723577\n",
    "CV_all mean score all: 0.752\n",
    "CV_all mean score top lr: 0.732\n",
    "CV_all mean score main features: 0.733\n",
    "CV_all mean score all_selected features: 0.746\n",
    "Classification report:\n",
    "               precision    recall  f1-score   support\n",
    "\n",
    "           0       0.91      1.00      0.95       559\n",
    "           1       0.67      0.04      0.07        56\n",
    "\n",
    "    accuracy                           0.91       615\n",
    "   macro avg       0.79      0.52      0.51       615\n",
    "weighted avg       0.89      0.91      0.87       615"
   ]
  },
  {
   "cell_type": "markdown",
   "metadata": {},
   "source": [
    "### Random Forest Classifier"
   ]
  },
  {
   "cell_type": "markdown",
   "metadata": {},
   "source": [
    "#### Results"
   ]
  },
  {
   "cell_type": "code",
   "execution_count": 48,
   "metadata": {},
   "outputs": [
    {
     "data": {
      "text/plain": [
       "('CV_all mean score all: 0.681',\n",
       " 'CV_all mean score top lr: 0.75',\n",
       " 'CV_all mean score main features: 0.736',\n",
       " 'CV_all mean score all selected features: 0.707')"
      ]
     },
     "execution_count": 48,
     "metadata": {},
     "output_type": "execute_result"
    }
   ],
   "source": [
    "rfc = RandomForestClassifier(random_state=RANDOM)\n",
    "get_mean_scores(rfc, datasets, y)"
   ]
  },
  {
   "cell_type": "code",
   "execution_count": 117,
   "metadata": {},
   "outputs": [],
   "source": [
    "X_train, X_test, y_train, y_test = train_test_split(\n",
    "    X_lr_top, y, test_size=0.2, random_state=RANDOM\n",
    ")\n",
    "\n",
    "scaler = StandardScaler()\n",
    "X_train = scaler.fit_transform(X_train)\n",
    "X_test = scaler.transform(X_test)"
   ]
  },
  {
   "cell_type": "code",
   "execution_count": 118,
   "metadata": {},
   "outputs": [
    {
     "name": "stdout",
     "output_type": "stream",
     "text": [
      "Best score: 0.759087551236719\n",
      "Best parameters: {'n_estimators': 300, 'min_samples_split': 2, 'min_samples_leaf': 5, 'max_features': 3, 'max_depth': 8, 'class_weight': None}\n"
     ]
    }
   ],
   "source": [
    "rfc = RandomForestClassifier()\n",
    "\n",
    "parameter_grid = {\n",
    "    \"class_weight\": [None, \"balanced\"],\n",
    "    \"n_estimators\": [200, 300, 500, 700],\n",
    "    \"min_samples_split\": [2, 3, 4, 5, 6],\n",
    "    \"min_samples_leaf\": [1, 2, 3, 4, 5],\n",
    "    \"max_features\": [2, 3, 4, 5, 6, 7, 8],\n",
    "    \"max_depth\": [2, 3, 4, 5, 6, 7, 8, 9, 10, 12, 14, 20, 30],\n",
    "}\n",
    "\n",
    "grid_search = RandomizedSearchCV(rfc, parameter_grid, cv=5, scoring=\"roc_auc\")\n",
    "grid_search.fit(X_train, y_train)\n",
    "print(\"Best score: {}\".format(grid_search.best_score_))\n",
    "print(\"Best parameters: {}\".format(grid_search.best_params_))"
   ]
  },
  {
   "cell_type": "code",
   "execution_count": 119,
   "metadata": {},
   "outputs": [
    {
     "name": "stdout",
     "output_type": "stream",
     "text": [
      "Train score: 0.9203252032520325\n",
      "CV_all mean score all: 0.704\n",
      "CV_all mean score top lr: 0.755\n",
      "CV_all mean score main features: 0.75\n",
      "CV_all mean score all_selected features: 0.711\n",
      "Classification report:\n",
      "               precision    recall  f1-score   support\n",
      "\n",
      "           0       0.91      1.00      0.95       559\n",
      "           1       0.00      0.00      0.00        56\n",
      "\n",
      "    accuracy                           0.91       615\n",
      "   macro avg       0.45      0.50      0.48       615\n",
      "weighted avg       0.83      0.91      0.87       615\n",
      "\n"
     ]
    }
   ],
   "source": [
    "rfc = RandomForestClassifier(\n",
    "    class_weight=None,\n",
    "    max_depth=8,\n",
    "    max_features=3,\n",
    "    n_estimators=300,\n",
    "    min_samples_split=2,\n",
    "    min_samples_leaf=5,\n",
    ")\n",
    "rfc.fit(X_train, y_train)\n",
    "\n",
    "scores_all = cross_val_score(rfc, X_app_all, y, cv=3, scoring=\"roc_auc\")\n",
    "scores_lr_top = cross_val_score(rfc, X_lr_top, y, cv=3, scoring=\"roc_auc\")\n",
    "scores_main_features = cross_val_score(rfc, X_main_features, y, cv=3, scoring=\"roc_auc\")\n",
    "scores_all_selected = cross_val_score(rfc, X_all_selected, y, cv=3, scoring=\"roc_auc\")\n",
    "\n",
    "y_pred = rfc.predict(X_test)\n",
    "\n",
    "print(\"Train score:\", rfc.score(X_train, y_train))\n",
    "print(\"CV_all mean score all:\", round(scores_all.mean(), 3))\n",
    "print(\"CV_all mean score top lr:\", round(scores_lr_top.mean(), 3))\n",
    "print(\"CV_all mean score main features:\", round(scores_main_features.mean(), 3))\n",
    "print(\"CV_all mean score all_selected features:\", round(scores_all_selected.mean(), 3))\n",
    "print(\"Classification report:\\n\", classification_report(y_test, y_pred))"
   ]
  },
  {
   "cell_type": "markdown",
   "metadata": {},
   "source": [
    "### Gradient Boosting Classifier"
   ]
  },
  {
   "cell_type": "markdown",
   "metadata": {},
   "source": [
    "#### Results"
   ]
  },
  {
   "cell_type": "code",
   "execution_count": 49,
   "metadata": {},
   "outputs": [
    {
     "data": {
      "text/plain": [
       "('CV_all mean score all: 0.74',\n",
       " 'CV_all mean score top lr: 0.746',\n",
       " 'CV_all mean score main features: 0.732',\n",
       " 'CV_all mean score all selected features: 0.744')"
      ]
     },
     "execution_count": 49,
     "metadata": {},
     "output_type": "execute_result"
    }
   ],
   "source": [
    "gbc = GradientBoostingClassifier(random_state=RANDOM)\n",
    "get_mean_scores(gbc, datasets, y)"
   ]
  },
  {
   "cell_type": "code",
   "execution_count": 120,
   "metadata": {},
   "outputs": [
    {
     "name": "stdout",
     "output_type": "stream",
     "text": [
      "Best score: 0.6506275627751557\n",
      "Best parameters: {'ccp_alpha': 0.0025954465866409927, 'learning_rate': 0.001, 'max_depth': 2, 'min_samples_leaf': 6, 'min_samples_split': 7, 'n_estimators': 452, 'subsample': 0.5}\n"
     ]
    }
   ],
   "source": [
    "gbc = GradientBoostingClassifier()\n",
    "\n",
    "parameter_grid = {\n",
    "    \"learning_rate\": [0.0001, 0.001, 0.005, 0.01, 0.05, 0.1, 0.5],\n",
    "    \"subsample\": [0.5, 0.6, 0.7, 0.8, 0.9, 1],\n",
    "    \"ccp_alpha\": uniform(loc=0, scale=0.1),\n",
    "    \"n_estimators\": sp_randInt(100, 1000),\n",
    "    \"max_depth\": sp_randInt(2, 10),\n",
    "    \"min_samples_split\": [2, 3, 4, 5, 6, 7, 8],\n",
    "    \"min_samples_leaf\": [2, 3, 4, 5, 6, 7, 8],\n",
    "}\n",
    "\n",
    "grid_search = RandomizedSearchCV(gbc, parameter_grid, cv=5, scoring=\"roc_auc\")\n",
    "grid_search.fit(X_train, y_train)\n",
    "print(\"Best score: {}\".format(grid_search.best_score_))\n",
    "print(\"Best parameters: {}\".format(grid_search.best_params_))"
   ]
  },
  {
   "cell_type": "code",
   "execution_count": 121,
   "metadata": {},
   "outputs": [
    {
     "name": "stdout",
     "output_type": "stream",
     "text": [
      "Train score: 0.9203252032520325\n",
      "CV_all mean score all: 0.694\n",
      "CV_all mean score top lr: 0.697\n",
      "CV_all mean score main features: 0.688\n",
      "CV_all mean score all_selected features: 0.69\n",
      "Classification report:\n",
      "               precision    recall  f1-score   support\n",
      "\n",
      "           0       0.91      1.00      0.95       559\n",
      "           1       0.00      0.00      0.00        56\n",
      "\n",
      "    accuracy                           0.91       615\n",
      "   macro avg       0.45      0.50      0.48       615\n",
      "weighted avg       0.83      0.91      0.87       615\n",
      "\n"
     ]
    }
   ],
   "source": [
    "gbc = GradientBoostingClassifier(\n",
    "    learning_rate=0.001,\n",
    "    max_depth=2,\n",
    "    n_estimators=452,\n",
    "    subsample=0.5,\n",
    "    ccp_alpha=0.0025954465866409927,\n",
    "    min_samples_leaf=6,\n",
    "    min_samples_split=7,\n",
    ")\n",
    "gbc.fit(X_train, y_train)\n",
    "\n",
    "scores_all = cross_val_score(gbc, X_app_all, y, cv=3, scoring=\"roc_auc\")\n",
    "scores_lr_top = cross_val_score(gbc, X_lr_top, y, cv=3, scoring=\"roc_auc\")\n",
    "scores_main_features = cross_val_score(gbc, X_main_features, y, cv=3, scoring=\"roc_auc\")\n",
    "scores_all_selected = cross_val_score(gbc, X_all_selected, y, cv=3, scoring=\"roc_auc\")\n",
    "\n",
    "y_pred = gbc.predict(X_test)\n",
    "\n",
    "print(\"Train score:\", gbc.score(X_train, y_train))\n",
    "print(\"CV_all mean score all:\", round(scores_all.mean(), 3))\n",
    "print(\"CV_all mean score top lr:\", round(scores_lr_top.mean(), 3))\n",
    "print(\"CV_all mean score main features:\", round(scores_main_features.mean(), 3))\n",
    "print(\"CV_all mean score all_selected features:\", round(scores_all_selected.mean(), 3))\n",
    "print(\"Classification report:\\n\", classification_report(y_test, y_pred))"
   ]
  },
  {
   "cell_type": "markdown",
   "metadata": {},
   "source": [
    "### XGB Classifier"
   ]
  },
  {
   "cell_type": "markdown",
   "metadata": {},
   "source": [
    "#### Select main features"
   ]
  },
  {
   "cell_type": "code",
   "execution_count": 30,
   "metadata": {},
   "outputs": [
    {
     "data": {
      "text/html": [
       "<div>\n",
       "<style scoped>\n",
       "    .dataframe tbody tr th:only-of-type {\n",
       "        vertical-align: middle;\n",
       "    }\n",
       "\n",
       "    .dataframe tbody tr th {\n",
       "        vertical-align: top;\n",
       "    }\n",
       "\n",
       "    .dataframe thead th {\n",
       "        text-align: right;\n",
       "    }\n",
       "</style>\n",
       "<table border=\"1\" class=\"dataframe\">\n",
       "  <thead>\n",
       "    <tr style=\"text-align: right;\">\n",
       "      <th></th>\n",
       "      <th>feature</th>\n",
       "      <th>importance</th>\n",
       "    </tr>\n",
       "  </thead>\n",
       "  <tbody>\n",
       "    <tr>\n",
       "      <th>55</th>\n",
       "      <td>FLAG_OWN_CAR_Y</td>\n",
       "      <td>0.024956</td>\n",
       "    </tr>\n",
       "    <tr>\n",
       "      <th>54</th>\n",
       "      <td>CODE_GENDER_M</td>\n",
       "      <td>0.023586</td>\n",
       "    </tr>\n",
       "    <tr>\n",
       "      <th>18</th>\n",
       "      <td>EXT_SOURCE_2</td>\n",
       "      <td>0.022477</td>\n",
       "    </tr>\n",
       "    <tr>\n",
       "      <th>58</th>\n",
       "      <td>NAME_INCOME_TYPE_Working</td>\n",
       "      <td>0.018849</td>\n",
       "    </tr>\n",
       "    <tr>\n",
       "      <th>3</th>\n",
       "      <td>AMT_ANNUITY</td>\n",
       "      <td>0.018345</td>\n",
       "    </tr>\n",
       "    <tr>\n",
       "      <th>...</th>\n",
       "      <td>...</td>\n",
       "      <td>...</td>\n",
       "    </tr>\n",
       "    <tr>\n",
       "      <th>60</th>\n",
       "      <td>NAME_FAMILY_STATUS_Married</td>\n",
       "      <td>0.005758</td>\n",
       "    </tr>\n",
       "    <tr>\n",
       "      <th>27</th>\n",
       "      <td>LIVINGAPARTMENTS_AVG</td>\n",
       "      <td>0.005675</td>\n",
       "    </tr>\n",
       "    <tr>\n",
       "      <th>51</th>\n",
       "      <td>AMT_REQ_CREDIT_BUREAU_MON</td>\n",
       "      <td>0.005659</td>\n",
       "    </tr>\n",
       "    <tr>\n",
       "      <th>79</th>\n",
       "      <td>WALLSMATERIAL_MODE_Stone, brick</td>\n",
       "      <td>0.005183</td>\n",
       "    </tr>\n",
       "    <tr>\n",
       "      <th>77</th>\n",
       "      <td>FONDKAPREMONT_MODE_reg oper account</td>\n",
       "      <td>0.004091</td>\n",
       "    </tr>\n",
       "  </tbody>\n",
       "</table>\n",
       "<p>80 rows × 2 columns</p>\n",
       "</div>"
      ],
      "text/plain": [
       "                                feature  importance\n",
       "55                       FLAG_OWN_CAR_Y    0.024956\n",
       "54                        CODE_GENDER_M    0.023586\n",
       "18                         EXT_SOURCE_2    0.022477\n",
       "58             NAME_INCOME_TYPE_Working    0.018849\n",
       "3                           AMT_ANNUITY    0.018345\n",
       "..                                  ...         ...\n",
       "60           NAME_FAMILY_STATUS_Married    0.005758\n",
       "27                 LIVINGAPARTMENTS_AVG    0.005675\n",
       "51            AMT_REQ_CREDIT_BUREAU_MON    0.005659\n",
       "79      WALLSMATERIAL_MODE_Stone, brick    0.005183\n",
       "77  FONDKAPREMONT_MODE_reg oper account    0.004091\n",
       "\n",
       "[80 rows x 2 columns]"
      ]
     },
     "execution_count": 30,
     "metadata": {},
     "output_type": "execute_result"
    }
   ],
   "source": [
    "xgb_feature_importance = xgb.feature_importances_\n",
    "xgb_model_features = get_feature_importance(features_list, xgb_feature_importance)\n",
    "xgb_model_features.sort_values(by=[\"importance\"], ascending=False)"
   ]
  },
  {
   "cell_type": "code",
   "execution_count": 31,
   "metadata": {},
   "outputs": [],
   "source": [
    "top_xgb_features = list(xgb_model_features[\"feature\"])"
   ]
  },
  {
   "cell_type": "markdown",
   "metadata": {},
   "source": [
    "#### Results"
   ]
  },
  {
   "cell_type": "code",
   "execution_count": 68,
   "metadata": {},
   "outputs": [
    {
     "data": {
      "text/plain": [
       "('CV_all mean score all: 0.711',\n",
       " 'CV_all mean score top lr: 0.706',\n",
       " 'CV_all mean score main features: 0.679',\n",
       " 'CV_all mean score all selected features: 0.714')"
      ]
     },
     "execution_count": 68,
     "metadata": {},
     "output_type": "execute_result"
    }
   ],
   "source": [
    "xgb = XGBClassifier(random_state=RANDOM)\n",
    "get_mean_scores(xgb, datasets, y)"
   ]
  },
  {
   "cell_type": "code",
   "execution_count": 122,
   "metadata": {},
   "outputs": [],
   "source": [
    "X_train, X_test, y_train, y_test = train_test_split(\n",
    "    X_all_selected, y, test_size=0.2, random_state=RANDOM\n",
    ")\n",
    "\n",
    "scaler = StandardScaler()\n",
    "X_train = scaler.fit_transform(X_train)\n",
    "X_test = scaler.transform(X_test)"
   ]
  },
  {
   "cell_type": "code",
   "execution_count": 123,
   "metadata": {},
   "outputs": [
    {
     "name": "stdout",
     "output_type": "stream",
     "text": [
      "Best score: 0.7261318199372762\n",
      "Best parameters: {'subsample': 0.8, 'reg_lambda': 0.5, 'reg_alpha': 0.1, 'n_estimators': 200, 'min_child_weight': 7, 'max_depth': 4, 'learning_rate': 0.1, 'gamma': 0.45, 'colsample_bytree': 0.5}\n"
     ]
    }
   ],
   "source": [
    "xgb = XGBClassifier(verbosity=0, nthread=4, objective=\"binary:logistic\")\n",
    "\n",
    "parameter_grid = {\n",
    "    \"max_depth\": list(range(2, 6)),\n",
    "    #     \"weights\": [1, 10, 25, 50, 75, 99, 100, 1000],\n",
    "    \"min_child_weight\": list(range(1, 20)),\n",
    "    \"subsample\": [0.5, 0.6, 0.7, 0.8, 0.9],\n",
    "    \"gamma\": [0, 0.05, 0.1, 0.15, 0.2, 0.25, 0.3, 0.35, 0.4, 0.45, 0.5],\n",
    "    \"colsample_bytree\": [0.4, 0.5, 0.6, 0.7, 0.8, 0.9, 1],\n",
    "    \"reg_lambda\": [0, 0.5, 1, 1.5, 2, 2.5, 3, 3.5, 4],\n",
    "    \"reg_alpha\": [1e-5, 1e-2, 0.1, 1, 100],\n",
    "    \"learning_rate\": [0.001, 0.01, 0.02, 0.03, 0.05, 0.07, 0.1, 0.13, 0.16, 0.19,],\n",
    "    \"n_estimators\": [100, 200, 300, 400, 500, 600, 700, 800, 900, 1000, 2000],\n",
    "}\n",
    "\n",
    "grid_search = RandomizedSearchCV(xgb, parameter_grid, cv=5, scoring=\"roc_auc\")\n",
    "grid_search.fit(X_train, y_train)\n",
    "print(\"Best score: {}\".format(grid_search.best_score_))\n",
    "print(\"Best parameters: {}\".format(grid_search.best_params_))"
   ]
  },
  {
   "cell_type": "code",
   "execution_count": 145,
   "metadata": {},
   "outputs": [
    {
     "name": "stdout",
     "output_type": "stream",
     "text": [
      "Train score: 0.925609756097561\n",
      "CV_all mean score all: 0.755\n",
      "CV_all mean score top lr: 0.748\n",
      "CV_all mean score main features: 0.747\n",
      "CV_all mean score all_selected features: 0.756\n",
      "Classification report:\n",
      "               precision    recall  f1-score   support\n",
      "\n",
      "           0       0.91      1.00      0.95       559\n",
      "           1       1.00      0.05      0.10        56\n",
      "\n",
      "    accuracy                           0.91       615\n",
      "   macro avg       0.96      0.53      0.53       615\n",
      "weighted avg       0.92      0.91      0.88       615\n",
      "\n"
     ]
    }
   ],
   "source": [
    "xgb = XGBClassifier(\n",
    "#     scale_pos_weight=100,\n",
    "    verbosity=0,\n",
    "    nthread=4,\n",
    "    objective=\"binary:logistic\",\n",
    "    colsample_bytree=1,\n",
    "    gamma=0.2,\n",
    "    learning_rate=0.03,\n",
    "    max_depth=3,\n",
    "    min_child_weight=1,\n",
    "    n_estimators=200,\n",
    "    reg_alpha=0.1,\n",
    "    reg_lambda=3.5,\n",
    "    subsample=0.9,\n",
    ")\n",
    "\n",
    "xgb.fit(X_train, y_train)\n",
    "\n",
    "scores_all = cross_val_score(xgb, X_app_all, y, cv=3, scoring=\"roc_auc\")\n",
    "scores_lr_top = cross_val_score(xgb, X_lr_top, y, cv=3, scoring=\"roc_auc\")\n",
    "scores_main_features = cross_val_score(xgb, X_main_features, y, cv=3, scoring=\"roc_auc\")\n",
    "scores_all_selected = cross_val_score(xgb, X_all_selected, y, cv=3, scoring=\"roc_auc\")\n",
    "\n",
    "y_pred = xgb.predict(X_test)\n",
    "\n",
    "print(\"Train score:\", xgb.score(X_train, y_train))\n",
    "print(\"CV_all mean score all:\", round(scores_all.mean(), 3))\n",
    "print(\"CV_all mean score top lr:\", round(scores_lr_top.mean(), 3))\n",
    "print(\"CV_all mean score main features:\", round(scores_main_features.mean(), 3))\n",
    "print(\"CV_all mean score all_selected features:\", round(scores_all_selected.mean(), 3))\n",
    "print(\"Classification report:\\n\", classification_report(y_test, y_pred))"
   ]
  },
  {
   "cell_type": "markdown",
   "metadata": {},
   "source": [
    "### CatBoost Classifier"
   ]
  },
  {
   "cell_type": "markdown",
   "metadata": {},
   "source": [
    "#### Results"
   ]
  },
  {
   "cell_type": "code",
   "execution_count": 73,
   "metadata": {},
   "outputs": [
    {
     "data": {
      "text/plain": [
       "('CV_all mean score all: 0.739',\n",
       " 'CV_all mean score top lr: 0.751',\n",
       " 'CV_all mean score main features: 0.734',\n",
       " 'CV_all mean score all selected features: 0.748')"
      ]
     },
     "execution_count": 73,
     "metadata": {},
     "output_type": "execute_result"
    }
   ],
   "source": [
    "cbc = CatBoostClassifier(random_state=RANDOM)\n",
    "get_mean_scores(cbc, datasets, y)"
   ]
  },
  {
   "cell_type": "code",
   "execution_count": 127,
   "metadata": {},
   "outputs": [],
   "source": [
    "X_train, X_test, y_train, y_test = train_test_split(\n",
    "    X_lr_top, y, test_size=0.2, random_state=RANDOM\n",
    ")\n",
    "\n",
    "scaler = StandardScaler()\n",
    "X_train = scaler.fit_transform(X_train)\n",
    "X_test = scaler.transform(X_test)"
   ]
  },
  {
   "cell_type": "code",
   "execution_count": 134,
   "metadata": {},
   "outputs": [],
   "source": [
    "cbc = CatBoostClassifier(random_state=RANDOM)\n",
    "\n",
    "weights = np.linspace(0.0, 0.99, 200)\n",
    "\n",
    "param_dist = {\n",
    "    \"learning_rate\": np.linspace(0, 0.2, 5),\n",
    "    \"max_depth\": sp_randInt(3, 10),\n",
    "    \"n_estimators\": [100, 200, 300, 400, 500, 600, 700, 800, 900, 1000, 2000],\n",
    "    \"reg_lambda\": [0, 0.5, 1, 1.5, 2, 2.5, 3, 3.5, 4],\n",
    "    \"subsample\": [0.5, 0.6, 0.7, 0.8, 0.9],\n",
    "    #     \"class_weights\": [{0:x, 1:1.0-x} for x in weights]\n",
    "}\n",
    "\n",
    "rscv = RandomizedSearchCV(cbc, param_dist, scoring=\"roc_auc\", cv=5)\n",
    "rscv.fit(X_train,y_train)\n",
    "print(rscv.best_params_)\n",
    "print(rscv.best_score_)"
   ]
  },
  {
   "cell_type": "markdown",
   "metadata": {},
   "source": [
    "{'learning_rate': 0.1, 'max_depth': 8, 'n_estimators': 300, 'reg_lambda': 4, 'subsample': 0.8}\n",
    "0.7374115019202343"
   ]
  },
  {
   "cell_type": "code",
   "execution_count": 147,
   "metadata": {},
   "outputs": [
    {
     "name": "stdout",
     "output_type": "stream",
     "text": [
      "Train score: 0.9577235772357724\n",
      "CV_all mean score lr top: 0.751\n",
      "CV_all mean score all_selected features: 0.748\n",
      "Classification report:\n",
      "               precision    recall  f1-score   support\n",
      "\n",
      "           0       0.91      1.00      0.95       559\n",
      "           1       0.75      0.05      0.10        56\n",
      "\n",
      "    accuracy                           0.91       615\n",
      "   macro avg       0.83      0.53      0.53       615\n",
      "weighted avg       0.90      0.91      0.88       615\n",
      "\n"
     ]
    }
   ],
   "source": [
    "cbc = CatBoostClassifier(\n",
    "    random_state=RANDOM,\n",
    "    verbose=0,\n",
    "    #     class_weights= {0: 0.4278391959798995, 1: 0.5721608040201005},\n",
    "    #     max_depth=4,\n",
    "    #     learning_rate=0.05,\n",
    "    #     n_estimators=400,\n",
    "    #     reg_lambda=2.5,\n",
    "    #     subsample=0.8,\n",
    ")\n",
    "\n",
    "cbc.fit(X_train, y_train)\n",
    "\n",
    "scores_lr_top = cross_val_score(cbc, X_lr_top, y, cv=3, scoring=\"roc_auc\")\n",
    "scores_all_selected = cross_val_score(cbc, X_all_selected, y, cv=3, scoring=\"roc_auc\")\n",
    "\n",
    "y_pred = cbc.predict(X_test)\n",
    "\n",
    "print(\"Train score:\", cbc.score(X_train, y_train))\n",
    "print(\"CV_all mean score lr top:\", round(scores_lr_top.mean(), 3))\n",
    "print(\"CV_all mean score all_selected features:\", round(scores_all_selected.mean(), 3))\n",
    "print(\"Classification report:\\n\", classification_report(y_test, y_pred))"
   ]
  },
  {
   "cell_type": "markdown",
   "metadata": {},
   "source": [
    "### Baseline modelling results and conclusions"
   ]
  },
  {
   "cell_type": "code",
   "execution_count": 153,
   "metadata": {},
   "outputs": [],
   "source": [
    "basic_model_results = {\n",
    "    \"model\": [\n",
    "        \"LogisticRegression\",\n",
    "        \"LightGBM\",\n",
    "        \"RandomForestClassifier\",\n",
    "        \"GradientBoostingClassifier\",\n",
    "        \"XGBClassifier\",\n",
    "        \"CatBoostClassifier\",\n",
    "    ],\n",
    "    \"all features score\": [0.634, 0.719, 0.681, 0.740, 0.711, 0.739],\n",
    "    \"top lr features\": [0.730, 0.717, 0.750, 0.746, 0.706, 0.751],\n",
    "    \"main features\": [0.750, 0.711, 0.736, 0.732, 0.679, 0.734],\n",
    "    \"all selected features\": [0.634, 0.733, 0.707, 0.744, 0.714, 0.748],\n",
    "    \"best dataset with tuned parameters\": [0.759, 0.752, 0.755, 0.697, 0.756, 0.751],\n",
    "    \"train score\": [0.724, 0.924, 0.920, 0.920, 0.925, 0.958],\n",
    "    \"1 class precision\": [0.19, 0.67, 0.00, 0.00, 1.00, 0.75],\n",
    "    \"accuracy\": [0.69, 0.91, 0.91, 0.91, 0.91, 0.91],\n",
    "}"
   ]
  },
  {
   "cell_type": "code",
   "execution_count": 155,
   "metadata": {},
   "outputs": [
    {
     "data": {
      "text/html": [
       "<div>\n",
       "<style scoped>\n",
       "    .dataframe tbody tr th:only-of-type {\n",
       "        vertical-align: middle;\n",
       "    }\n",
       "\n",
       "    .dataframe tbody tr th {\n",
       "        vertical-align: top;\n",
       "    }\n",
       "\n",
       "    .dataframe thead th {\n",
       "        text-align: right;\n",
       "    }\n",
       "</style>\n",
       "<table border=\"1\" class=\"dataframe\">\n",
       "  <thead>\n",
       "    <tr style=\"text-align: right;\">\n",
       "      <th></th>\n",
       "      <th>model</th>\n",
       "      <th>all features score</th>\n",
       "      <th>top lr features</th>\n",
       "      <th>main features</th>\n",
       "      <th>all selected features</th>\n",
       "      <th>best dataset with tuned parameters</th>\n",
       "      <th>train score</th>\n",
       "      <th>1 class precision</th>\n",
       "      <th>accuracy</th>\n",
       "      <th>overall score</th>\n",
       "    </tr>\n",
       "  </thead>\n",
       "  <tbody>\n",
       "    <tr>\n",
       "      <th>4</th>\n",
       "      <td>XGBClassifier</td>\n",
       "      <td>0.711</td>\n",
       "      <td>0.706000</td>\n",
       "      <td>0.679000</td>\n",
       "      <td>0.714000</td>\n",
       "      <td>0.756</td>\n",
       "      <td>0.925000</td>\n",
       "      <td>1.000</td>\n",
       "      <td>0.910000</td>\n",
       "      <td>2.666000</td>\n",
       "    </tr>\n",
       "    <tr>\n",
       "      <th>5</th>\n",
       "      <td>CatBoostClassifier</td>\n",
       "      <td>0.739</td>\n",
       "      <td>0.751000</td>\n",
       "      <td>0.734000</td>\n",
       "      <td>0.748000</td>\n",
       "      <td>0.751</td>\n",
       "      <td>0.958000</td>\n",
       "      <td>0.750</td>\n",
       "      <td>0.910000</td>\n",
       "      <td>2.411000</td>\n",
       "    </tr>\n",
       "    <tr>\n",
       "      <th>1</th>\n",
       "      <td>LightGBM</td>\n",
       "      <td>0.719</td>\n",
       "      <td>0.717000</td>\n",
       "      <td>0.711000</td>\n",
       "      <td>0.733000</td>\n",
       "      <td>0.752</td>\n",
       "      <td>0.924000</td>\n",
       "      <td>0.670</td>\n",
       "      <td>0.910000</td>\n",
       "      <td>2.332000</td>\n",
       "    </tr>\n",
       "    <tr>\n",
       "      <th>mean</th>\n",
       "      <td>NaN</td>\n",
       "      <td>0.704</td>\n",
       "      <td>0.733333</td>\n",
       "      <td>0.723667</td>\n",
       "      <td>0.713333</td>\n",
       "      <td>0.745</td>\n",
       "      <td>0.895167</td>\n",
       "      <td>0.435</td>\n",
       "      <td>0.873333</td>\n",
       "      <td>2.053333</td>\n",
       "    </tr>\n",
       "    <tr>\n",
       "      <th>2</th>\n",
       "      <td>RandomForestClassifier</td>\n",
       "      <td>0.681</td>\n",
       "      <td>0.750000</td>\n",
       "      <td>0.736000</td>\n",
       "      <td>0.707000</td>\n",
       "      <td>0.755</td>\n",
       "      <td>0.920000</td>\n",
       "      <td>0.000</td>\n",
       "      <td>0.910000</td>\n",
       "      <td>1.665000</td>\n",
       "    </tr>\n",
       "    <tr>\n",
       "      <th>0</th>\n",
       "      <td>LogisticRegression</td>\n",
       "      <td>0.634</td>\n",
       "      <td>0.730000</td>\n",
       "      <td>0.750000</td>\n",
       "      <td>0.634000</td>\n",
       "      <td>0.759</td>\n",
       "      <td>0.724000</td>\n",
       "      <td>0.190</td>\n",
       "      <td>0.690000</td>\n",
       "      <td>1.639000</td>\n",
       "    </tr>\n",
       "    <tr>\n",
       "      <th>3</th>\n",
       "      <td>GradientBoostingClassifier</td>\n",
       "      <td>0.740</td>\n",
       "      <td>0.746000</td>\n",
       "      <td>0.732000</td>\n",
       "      <td>0.744000</td>\n",
       "      <td>0.697</td>\n",
       "      <td>0.920000</td>\n",
       "      <td>0.000</td>\n",
       "      <td>0.910000</td>\n",
       "      <td>1.607000</td>\n",
       "    </tr>\n",
       "  </tbody>\n",
       "</table>\n",
       "</div>"
      ],
      "text/plain": [
       "                           model  all features score  top lr features  \\\n",
       "4                  XGBClassifier               0.711         0.706000   \n",
       "5             CatBoostClassifier               0.739         0.751000   \n",
       "1                       LightGBM               0.719         0.717000   \n",
       "mean                         NaN               0.704         0.733333   \n",
       "2         RandomForestClassifier               0.681         0.750000   \n",
       "0             LogisticRegression               0.634         0.730000   \n",
       "3     GradientBoostingClassifier               0.740         0.746000   \n",
       "\n",
       "      main features  all selected features  \\\n",
       "4          0.679000               0.714000   \n",
       "5          0.734000               0.748000   \n",
       "1          0.711000               0.733000   \n",
       "mean       0.723667               0.713333   \n",
       "2          0.736000               0.707000   \n",
       "0          0.750000               0.634000   \n",
       "3          0.732000               0.744000   \n",
       "\n",
       "      best dataset with tuned parameters  train score  1 class precision  \\\n",
       "4                                  0.756     0.925000              1.000   \n",
       "5                                  0.751     0.958000              0.750   \n",
       "1                                  0.752     0.924000              0.670   \n",
       "mean                               0.745     0.895167              0.435   \n",
       "2                                  0.755     0.920000              0.000   \n",
       "0                                  0.759     0.724000              0.190   \n",
       "3                                  0.697     0.920000              0.000   \n",
       "\n",
       "      accuracy  overall score  \n",
       "4     0.910000       2.666000  \n",
       "5     0.910000       2.411000  \n",
       "1     0.910000       2.332000  \n",
       "mean  0.873333       2.053333  \n",
       "2     0.910000       1.665000  \n",
       "0     0.690000       1.639000  \n",
       "3     0.910000       1.607000  "
      ]
     },
     "execution_count": 155,
     "metadata": {},
     "output_type": "execute_result"
    }
   ],
   "source": [
    "basic_modelling = pd.DataFrame.from_dict(basic_model_results)\n",
    "basic_modelling[\"overall score\"] = (\n",
    "    basic_modelling[\"best dataset with tuned parameters\"]\n",
    "    + basic_modelling[\"1 class precision\"]\n",
    "    + basic_modelling[\"accuracy\"]\n",
    ")\n",
    "\n",
    "basic_modelling.loc[\"mean\"] = basic_modelling.mean()\n",
    "\n",
    "basic_modelling.sort_values(by=[\"overall score\"], ascending=False)"
   ]
  },
  {
   "cell_type": "markdown",
   "metadata": {},
   "source": [
    "1. LogisticRegression's best score reached with main features dataset, class_weight=\"balanced\", random_state=RANDOM, penalty=\"l2\", C=10.0, solver=\"liblinear\". \n",
    "2. LightGBM's best score reach with all selected features dataset, but randomized search cv finds the best with all features and such params:     \n",
    "    num_leaves=12,\n",
    "    n_estimators=500,\n",
    "    min_data_in_leaf=150,\n",
    "    max_depth=3,\n",
    "    max_bin=510,\n",
    "    feature_fraction=0.4,\n",
    "    boosting_type=\"dart\".\n",
    "3. Random Forest is the best with smallest datasets, best params found: \n",
    "    class_weight=None,\n",
    "    max_depth=8,\n",
    "    max_features=3,\n",
    "    n_estimators=300,\n",
    "    min_samples_split=2,\n",
    "    min_samples_leaf=5\n",
    "4. GradientBoostingClassifier also is the best with smallest dataset, although results are very similar. I am not sure what I am doing wrong with Randomized Search, but my results just get worsen with it.\n",
    "5. XGBClassifier gives the best result with longer datasets. Best score is reached with params     \n",
    "    nthread=4,\n",
    "    objective=\"binary:logistic\",\n",
    "    colsample_bytree=1,\n",
    "    gamma=0.2,\n",
    "    learning_rate=0.03,\n",
    "    max_depth=3,\n",
    "    min_child_weight=1,\n",
    "    n_estimators=200,\n",
    "    reg_alpha=0.1,\n",
    "    reg_lambda=3.5,\n",
    "    subsample=0.9\n",
    "6. CatBoostClassifier seems to be the best with lr features, although results are very similar to all selected features. \n",
    "  \n",
    "\n"
   ]
  },
  {
   "cell_type": "markdown",
   "metadata": {},
   "source": [
    "__Conlusions__\n",
    "\n",
    "Based on the overall score which consists of area under the roc curve, 1st class precision and accuracy, I decided to continue working on the following models: \n",
    "* CatBoostClassifier,\n",
    "* XGBClassifier, \n",
    "* LightGBM.  \n",
    "\n",
    "On average, the best results were with dataset of columns which were selected with Logistic Regression model's L1 penalty. Despite this, models I am going to work with, shown the best results with all selected features, so I am going to continue with that one. \n",
    "\n",
    "My next actions be: \n",
    "* investigate selected features\n",
    "* change their imputation or labeling\n",
    "* remove outliers\n",
    "* add another features \n",
    "* add features from another files"
   ]
  },
  {
   "cell_type": "markdown",
   "metadata": {},
   "source": [
    "## FEATURE ENGINEERING"
   ]
  },
  {
   "cell_type": "markdown",
   "metadata": {},
   "source": [
    "### Selecting features and detecting outliers"
   ]
  },
  {
   "cell_type": "markdown",
   "metadata": {},
   "source": [
    "First, lets label features which has only two different values"
   ]
  },
  {
   "cell_type": "code",
   "execution_count": 4,
   "metadata": {},
   "outputs": [],
   "source": [
    "def encode_features(dataframe):\n",
    "    le = LabelEncoder()\n",
    "    dataframe[\n",
    "        [\n",
    "            \"CODE_GENDER\",\n",
    "            \"FLAG_OWN_CAR\",\n",
    "            \"NAME_CONTRACT_TYPE\",\n",
    "            \"FLAG_OWN_REALTY\",\n",
    "        ]\n",
    "    ] = dataframe[\n",
    "        [\n",
    "            \"CODE_GENDER\",\n",
    "            \"FLAG_OWN_CAR\",\n",
    "            \"NAME_CONTRACT_TYPE\",\n",
    "            \"FLAG_OWN_REALTY\",\n",
    "        ]\n",
    "    ].apply(\n",
    "        lambda col: le.fit_transform(col.astype(str)), axis=0, result_type=\"expand\"\n",
    "    )\n",
    "    return dataframe"
   ]
  },
  {
   "cell_type": "markdown",
   "metadata": {},
   "source": [
    "Now, let's write down features to drop because they weren't important in any of the models above"
   ]
  },
  {
   "cell_type": "code",
   "execution_count": 4,
   "metadata": {},
   "outputs": [],
   "source": [
    "columns_to_drop = [\n",
    "    \"FLAG_OWN_REALTY\",\n",
    "    \"DAYS_REGISTRATION\",\n",
    "    \"FLAG_MOBIL\",\n",
    "    \"FLAG_CONT_MOBILE\",\n",
    "    \"REG_REGION_NOT_LIVE_REGION\",\n",
    "    \"LIVE_REGION_NOT_WORK_REGION\",\n",
    "    \"ELEVATORS_AVG\",\n",
    "    \"NONLIVINGAPARTMENTS_AVG\",\n",
    "    \"ELEVATORS_MODE\",\n",
    "    \"FLOORSMIN_MODE\",\n",
    "    \"LIVINGAPARTMENTS_MODE\",\n",
    "    \"ENTRANCES_MEDI\",\n",
    "    \"LIVINGAPARTMENTS_MEDI\",\n",
    "    \"EMERGENCYSTATE_MODE\",\n",
    "    \"FLAG_DOCUMENT_2\",\n",
    "    \"FLAG_DOCUMENT_4\",\n",
    "    \"FLAG_DOCUMENT_5\",\n",
    "    \"FLAG_DOCUMENT_7\",\n",
    "    \"FLAG_DOCUMENT_8\",\n",
    "    \"FLAG_DOCUMENT_9\",\n",
    "    \"FLAG_DOCUMENT_10\",\n",
    "    \"FLAG_DOCUMENT_12\",\n",
    "    \"FLAG_DOCUMENT_15\",\n",
    "    \"FLAG_DOCUMENT_16\",\n",
    "    \"FLAG_DOCUMENT_17\",\n",
    "    \"FLAG_DOCUMENT_19\",\n",
    "    \"FLAG_DOCUMENT_20\",\n",
    "    \"FLAG_DOCUMENT_21\",\n",
    "]"
   ]
  },
  {
   "cell_type": "markdown",
   "metadata": {},
   "source": [
    "Next step is to select only necessary columns from object type columns:"
   ]
  },
  {
   "cell_type": "code",
   "execution_count": 5,
   "metadata": {},
   "outputs": [],
   "source": [
    "object_columns = [\n",
    "    \"NAME_TYPE_SUITE_Unaccompanied\",\n",
    "    \"NAME_TYPE_SUITE_Family\",\n",
    "    \"NAME_INCOME_TYPE_Working\",\n",
    "    \"NAME_INCOME_TYPE_Commercial associate\",\n",
    "    \"NAME_INCOME_TYPE_Pensioner\",\n",
    "    \"NAME_INCOME_TYPE_State servant\",\n",
    "    \"NAME_EDUCATION_TYPE_Higher education\",\n",
    "    \"NAME_EDUCATION_TYPE_Lower secondary\",\n",
    "    \"NAME_EDUCATION_TYPE_Secondary / secondary special\",\n",
    "    \"NAME_FAMILY_STATUS_Married\",\n",
    "    \"NAME_FAMILY_STATUS_Single / not married\",\n",
    "    \"NAME_HOUSING_TYPE_House / apartment\",\n",
    "    \"NAME_HOUSING_TYPE_Municipal apartment\",\n",
    "    \"NAME_HOUSING_TYPE_Rented apartment\",\n",
    "    \"OCCUPATION_TYPE_Cooking staff\",\n",
    "    \"OCCUPATION_TYPE_Core staff\",\n",
    "    \"OCCUPATION_TYPE_Drivers\",\n",
    "    \"OCCUPATION_TYPE_High skill tech staff\",\n",
    "    \"OCCUPATION_TYPE_Laborers\",\n",
    "    \"OCCUPATION_TYPE_Low-skill Laborers\",\n",
    "    \"OCCUPATION_TYPE_Medicine staff\",\n",
    "    \"OCCUPATION_TYPE_Sales staff\",\n",
    "    \"OCCUPATION_TYPE_Waiters/barmen staff\",\n",
    "    \"ORGANIZATION_TYPE_Agriculture\",\n",
    "    \"ORGANIZATION_TYPE_Business Entity Type 1\",\n",
    "    \"ORGANIZATION_TYPE_Business Entity Type 2\",\n",
    "    \"ORGANIZATION_TYPE_Business Entity Type 3\",\n",
    "    \"ORGANIZATION_TYPE_Industry: type 3\",\n",
    "    \"ORGANIZATION_TYPE_Industry: type 4\",\n",
    "    \"ORGANIZATION_TYPE_Industry: type 5\",\n",
    "    \"ORGANIZATION_TYPE_Industry: type 7\",\n",
    "    \"ORGANIZATION_TYPE_Medicine\",\n",
    "    \"ORGANIZATION_TYPE_Security Ministries\",\n",
    "    \"ORGANIZATION_TYPE_Self-employed\",\n",
    "    \"ORGANIZATION_TYPE_Trade: type 3\",\n",
    "    \"ORGANIZATION_TYPE_Transport: type 1\",\n",
    "    \"ORGANIZATION_TYPE_Transport: type 2\",\n",
    "    \"ORGANIZATION_TYPE_Transport: type 3\",\n",
    "    \"ORGANIZATION_TYPE_XNA\",\n",
    "    \"FONDKAPREMONT_MODE_reg oper account\",\n",
    "    \"HOUSETYPE_MODE_terraced house\",\n",
    "    \"WALLSMATERIAL_MODE_Mixed\",\n",
    "    \"WALLSMATERIAL_MODE_Others\",\n",
    "    \"WALLSMATERIAL_MODE_Stone, brick\",\n",
    "    \"WEEKDAY_APPR_PROCESS_START_MONDAY\",\n",
    "    \"WEEKDAY_APPR_PROCESS_START_SATURDAY\",\n",
    "    \"WEEKDAY_APPR_PROCESS_START_SUNDAY\",\n",
    "    \"WEEKDAY_APPR_PROCESS_START_THURSDAY\",\n",
    "    \"WEEKDAY_APPR_PROCESS_START_TUESDAY\",\n",
    "    \"WEEKDAY_APPR_PROCESS_START_WEDNESDAY\",\n",
    "]"
   ]
  },
  {
   "cell_type": "markdown",
   "metadata": {},
   "source": [
    "Now let's deal with numerical values"
   ]
  },
  {
   "cell_type": "code",
   "execution_count": 20,
   "metadata": {},
   "outputs": [],
   "source": [
    "numeric_df = app_train.select_dtypes(exclude=\"object\")"
   ]
  },
  {
   "cell_type": "code",
   "execution_count": 207,
   "metadata": {},
   "outputs": [
    {
     "data": {
      "text/html": [
       "<div>\n",
       "<style scoped>\n",
       "    .dataframe tbody tr th:only-of-type {\n",
       "        vertical-align: middle;\n",
       "    }\n",
       "\n",
       "    .dataframe tbody tr th {\n",
       "        vertical-align: top;\n",
       "    }\n",
       "\n",
       "    .dataframe thead th {\n",
       "        text-align: right;\n",
       "    }\n",
       "</style>\n",
       "<table border=\"1\" class=\"dataframe\">\n",
       "  <thead>\n",
       "    <tr style=\"text-align: right;\">\n",
       "      <th></th>\n",
       "      <th>SK_ID_CURR</th>\n",
       "      <th>TARGET</th>\n",
       "      <th>NAME_CONTRACT_TYPE</th>\n",
       "      <th>CODE_GENDER</th>\n",
       "      <th>FLAG_OWN_CAR</th>\n",
       "      <th>CNT_CHILDREN</th>\n",
       "      <th>AMT_INCOME_TOTAL</th>\n",
       "      <th>AMT_CREDIT</th>\n",
       "      <th>AMT_ANNUITY</th>\n",
       "      <th>AMT_GOODS_PRICE</th>\n",
       "      <th>REGION_POPULATION_RELATIVE</th>\n",
       "      <th>DAYS_BIRTH</th>\n",
       "      <th>DAYS_EMPLOYED</th>\n",
       "      <th>DAYS_ID_PUBLISH</th>\n",
       "      <th>OWN_CAR_AGE</th>\n",
       "      <th>FLAG_EMP_PHONE</th>\n",
       "      <th>FLAG_WORK_PHONE</th>\n",
       "      <th>FLAG_PHONE</th>\n",
       "      <th>FLAG_EMAIL</th>\n",
       "      <th>CNT_FAM_MEMBERS</th>\n",
       "      <th>REGION_RATING_CLIENT</th>\n",
       "      <th>REGION_RATING_CLIENT_W_CITY</th>\n",
       "      <th>HOUR_APPR_PROCESS_START</th>\n",
       "      <th>REG_REGION_NOT_WORK_REGION</th>\n",
       "      <th>REG_CITY_NOT_LIVE_CITY</th>\n",
       "      <th>REG_CITY_NOT_WORK_CITY</th>\n",
       "      <th>LIVE_CITY_NOT_WORK_CITY</th>\n",
       "      <th>EXT_SOURCE_1</th>\n",
       "      <th>EXT_SOURCE_2</th>\n",
       "      <th>EXT_SOURCE_3</th>\n",
       "      <th>APARTMENTS_AVG</th>\n",
       "      <th>BASEMENTAREA_AVG</th>\n",
       "      <th>YEARS_BEGINEXPLUATATION_AVG</th>\n",
       "      <th>YEARS_BUILD_AVG</th>\n",
       "      <th>COMMONAREA_AVG</th>\n",
       "      <th>ENTRANCES_AVG</th>\n",
       "      <th>FLOORSMAX_AVG</th>\n",
       "      <th>FLOORSMIN_AVG</th>\n",
       "      <th>LANDAREA_AVG</th>\n",
       "      <th>LIVINGAPARTMENTS_AVG</th>\n",
       "      <th>LIVINGAREA_AVG</th>\n",
       "      <th>NONLIVINGAREA_AVG</th>\n",
       "      <th>APARTMENTS_MODE</th>\n",
       "      <th>BASEMENTAREA_MODE</th>\n",
       "      <th>YEARS_BEGINEXPLUATATION_MODE</th>\n",
       "      <th>YEARS_BUILD_MODE</th>\n",
       "      <th>COMMONAREA_MODE</th>\n",
       "      <th>ENTRANCES_MODE</th>\n",
       "      <th>FLOORSMAX_MODE</th>\n",
       "      <th>LANDAREA_MODE</th>\n",
       "      <th>LIVINGAREA_MODE</th>\n",
       "      <th>NONLIVINGAPARTMENTS_MODE</th>\n",
       "      <th>NONLIVINGAREA_MODE</th>\n",
       "      <th>APARTMENTS_MEDI</th>\n",
       "      <th>BASEMENTAREA_MEDI</th>\n",
       "      <th>YEARS_BEGINEXPLUATATION_MEDI</th>\n",
       "      <th>YEARS_BUILD_MEDI</th>\n",
       "      <th>COMMONAREA_MEDI</th>\n",
       "      <th>ELEVATORS_MEDI</th>\n",
       "      <th>FLOORSMAX_MEDI</th>\n",
       "      <th>FLOORSMIN_MEDI</th>\n",
       "      <th>LANDAREA_MEDI</th>\n",
       "      <th>LIVINGAREA_MEDI</th>\n",
       "      <th>NONLIVINGAPARTMENTS_MEDI</th>\n",
       "      <th>NONLIVINGAREA_MEDI</th>\n",
       "      <th>TOTALAREA_MODE</th>\n",
       "      <th>OBS_30_CNT_SOCIAL_CIRCLE</th>\n",
       "      <th>DEF_30_CNT_SOCIAL_CIRCLE</th>\n",
       "      <th>OBS_60_CNT_SOCIAL_CIRCLE</th>\n",
       "      <th>DEF_60_CNT_SOCIAL_CIRCLE</th>\n",
       "      <th>DAYS_LAST_PHONE_CHANGE</th>\n",
       "      <th>FLAG_DOCUMENT_3</th>\n",
       "      <th>FLAG_DOCUMENT_6</th>\n",
       "      <th>FLAG_DOCUMENT_11</th>\n",
       "      <th>FLAG_DOCUMENT_13</th>\n",
       "      <th>FLAG_DOCUMENT_14</th>\n",
       "      <th>FLAG_DOCUMENT_18</th>\n",
       "      <th>AMT_REQ_CREDIT_BUREAU_HOUR</th>\n",
       "      <th>AMT_REQ_CREDIT_BUREAU_DAY</th>\n",
       "      <th>AMT_REQ_CREDIT_BUREAU_WEEK</th>\n",
       "      <th>AMT_REQ_CREDIT_BUREAU_MON</th>\n",
       "      <th>AMT_REQ_CREDIT_BUREAU_QRT</th>\n",
       "      <th>AMT_REQ_CREDIT_BUREAU_YEAR</th>\n",
       "    </tr>\n",
       "  </thead>\n",
       "  <tbody>\n",
       "    <tr>\n",
       "      <th>0</th>\n",
       "      <td>100002</td>\n",
       "      <td>1</td>\n",
       "      <td>0</td>\n",
       "      <td>1</td>\n",
       "      <td>0</td>\n",
       "      <td>0</td>\n",
       "      <td>202500.0</td>\n",
       "      <td>406597.5</td>\n",
       "      <td>24700.5</td>\n",
       "      <td>351000.0</td>\n",
       "      <td>0.018801</td>\n",
       "      <td>-9461</td>\n",
       "      <td>-637</td>\n",
       "      <td>-2120</td>\n",
       "      <td>NaN</td>\n",
       "      <td>1</td>\n",
       "      <td>0</td>\n",
       "      <td>1</td>\n",
       "      <td>0</td>\n",
       "      <td>1.0</td>\n",
       "      <td>2</td>\n",
       "      <td>2</td>\n",
       "      <td>10</td>\n",
       "      <td>0</td>\n",
       "      <td>0</td>\n",
       "      <td>0</td>\n",
       "      <td>0</td>\n",
       "      <td>0.083037</td>\n",
       "      <td>0.262949</td>\n",
       "      <td>0.139376</td>\n",
       "      <td>0.0247</td>\n",
       "      <td>0.0369</td>\n",
       "      <td>0.9722</td>\n",
       "      <td>0.6192</td>\n",
       "      <td>0.0143</td>\n",
       "      <td>0.0690</td>\n",
       "      <td>0.0833</td>\n",
       "      <td>0.1250</td>\n",
       "      <td>0.0369</td>\n",
       "      <td>0.0202</td>\n",
       "      <td>0.0190</td>\n",
       "      <td>0.0000</td>\n",
       "      <td>0.0252</td>\n",
       "      <td>0.0383</td>\n",
       "      <td>0.9722</td>\n",
       "      <td>0.6341</td>\n",
       "      <td>0.0144</td>\n",
       "      <td>0.0690</td>\n",
       "      <td>0.0833</td>\n",
       "      <td>0.0377</td>\n",
       "      <td>0.0198</td>\n",
       "      <td>0.0</td>\n",
       "      <td>0.0</td>\n",
       "      <td>0.0250</td>\n",
       "      <td>0.0369</td>\n",
       "      <td>0.9722</td>\n",
       "      <td>0.6243</td>\n",
       "      <td>0.0144</td>\n",
       "      <td>0.00</td>\n",
       "      <td>0.0833</td>\n",
       "      <td>0.1250</td>\n",
       "      <td>0.0375</td>\n",
       "      <td>0.0193</td>\n",
       "      <td>0.0000</td>\n",
       "      <td>0.00</td>\n",
       "      <td>0.0149</td>\n",
       "      <td>2.0</td>\n",
       "      <td>2.0</td>\n",
       "      <td>2.0</td>\n",
       "      <td>2.0</td>\n",
       "      <td>-1134.0</td>\n",
       "      <td>1</td>\n",
       "      <td>0</td>\n",
       "      <td>0</td>\n",
       "      <td>0</td>\n",
       "      <td>0</td>\n",
       "      <td>0</td>\n",
       "      <td>0.0</td>\n",
       "      <td>0.0</td>\n",
       "      <td>0.0</td>\n",
       "      <td>0.0</td>\n",
       "      <td>0.0</td>\n",
       "      <td>1.0</td>\n",
       "    </tr>\n",
       "    <tr>\n",
       "      <th>1</th>\n",
       "      <td>100003</td>\n",
       "      <td>0</td>\n",
       "      <td>0</td>\n",
       "      <td>0</td>\n",
       "      <td>0</td>\n",
       "      <td>0</td>\n",
       "      <td>270000.0</td>\n",
       "      <td>1293502.5</td>\n",
       "      <td>35698.5</td>\n",
       "      <td>1129500.0</td>\n",
       "      <td>0.003541</td>\n",
       "      <td>-16765</td>\n",
       "      <td>-1188</td>\n",
       "      <td>-291</td>\n",
       "      <td>NaN</td>\n",
       "      <td>1</td>\n",
       "      <td>0</td>\n",
       "      <td>1</td>\n",
       "      <td>0</td>\n",
       "      <td>2.0</td>\n",
       "      <td>1</td>\n",
       "      <td>1</td>\n",
       "      <td>11</td>\n",
       "      <td>0</td>\n",
       "      <td>0</td>\n",
       "      <td>0</td>\n",
       "      <td>0</td>\n",
       "      <td>0.311267</td>\n",
       "      <td>0.622246</td>\n",
       "      <td>NaN</td>\n",
       "      <td>0.0959</td>\n",
       "      <td>0.0529</td>\n",
       "      <td>0.9851</td>\n",
       "      <td>0.7960</td>\n",
       "      <td>0.0605</td>\n",
       "      <td>0.0345</td>\n",
       "      <td>0.2917</td>\n",
       "      <td>0.3333</td>\n",
       "      <td>0.0130</td>\n",
       "      <td>0.0773</td>\n",
       "      <td>0.0549</td>\n",
       "      <td>0.0098</td>\n",
       "      <td>0.0924</td>\n",
       "      <td>0.0538</td>\n",
       "      <td>0.9851</td>\n",
       "      <td>0.8040</td>\n",
       "      <td>0.0497</td>\n",
       "      <td>0.0345</td>\n",
       "      <td>0.2917</td>\n",
       "      <td>0.0128</td>\n",
       "      <td>0.0554</td>\n",
       "      <td>0.0</td>\n",
       "      <td>0.0</td>\n",
       "      <td>0.0968</td>\n",
       "      <td>0.0529</td>\n",
       "      <td>0.9851</td>\n",
       "      <td>0.7987</td>\n",
       "      <td>0.0608</td>\n",
       "      <td>0.08</td>\n",
       "      <td>0.2917</td>\n",
       "      <td>0.3333</td>\n",
       "      <td>0.0132</td>\n",
       "      <td>0.0558</td>\n",
       "      <td>0.0039</td>\n",
       "      <td>0.01</td>\n",
       "      <td>0.0714</td>\n",
       "      <td>1.0</td>\n",
       "      <td>0.0</td>\n",
       "      <td>1.0</td>\n",
       "      <td>0.0</td>\n",
       "      <td>-828.0</td>\n",
       "      <td>1</td>\n",
       "      <td>0</td>\n",
       "      <td>0</td>\n",
       "      <td>0</td>\n",
       "      <td>0</td>\n",
       "      <td>0</td>\n",
       "      <td>0.0</td>\n",
       "      <td>0.0</td>\n",
       "      <td>0.0</td>\n",
       "      <td>0.0</td>\n",
       "      <td>0.0</td>\n",
       "      <td>0.0</td>\n",
       "    </tr>\n",
       "    <tr>\n",
       "      <th>2</th>\n",
       "      <td>100004</td>\n",
       "      <td>0</td>\n",
       "      <td>1</td>\n",
       "      <td>1</td>\n",
       "      <td>1</td>\n",
       "      <td>0</td>\n",
       "      <td>67500.0</td>\n",
       "      <td>135000.0</td>\n",
       "      <td>6750.0</td>\n",
       "      <td>135000.0</td>\n",
       "      <td>0.010032</td>\n",
       "      <td>-19046</td>\n",
       "      <td>-225</td>\n",
       "      <td>-2531</td>\n",
       "      <td>26.0</td>\n",
       "      <td>1</td>\n",
       "      <td>1</td>\n",
       "      <td>1</td>\n",
       "      <td>0</td>\n",
       "      <td>1.0</td>\n",
       "      <td>2</td>\n",
       "      <td>2</td>\n",
       "      <td>9</td>\n",
       "      <td>0</td>\n",
       "      <td>0</td>\n",
       "      <td>0</td>\n",
       "      <td>0</td>\n",
       "      <td>NaN</td>\n",
       "      <td>0.555912</td>\n",
       "      <td>0.729567</td>\n",
       "      <td>NaN</td>\n",
       "      <td>NaN</td>\n",
       "      <td>NaN</td>\n",
       "      <td>NaN</td>\n",
       "      <td>NaN</td>\n",
       "      <td>NaN</td>\n",
       "      <td>NaN</td>\n",
       "      <td>NaN</td>\n",
       "      <td>NaN</td>\n",
       "      <td>NaN</td>\n",
       "      <td>NaN</td>\n",
       "      <td>NaN</td>\n",
       "      <td>NaN</td>\n",
       "      <td>NaN</td>\n",
       "      <td>NaN</td>\n",
       "      <td>NaN</td>\n",
       "      <td>NaN</td>\n",
       "      <td>NaN</td>\n",
       "      <td>NaN</td>\n",
       "      <td>NaN</td>\n",
       "      <td>NaN</td>\n",
       "      <td>NaN</td>\n",
       "      <td>NaN</td>\n",
       "      <td>NaN</td>\n",
       "      <td>NaN</td>\n",
       "      <td>NaN</td>\n",
       "      <td>NaN</td>\n",
       "      <td>NaN</td>\n",
       "      <td>NaN</td>\n",
       "      <td>NaN</td>\n",
       "      <td>NaN</td>\n",
       "      <td>NaN</td>\n",
       "      <td>NaN</td>\n",
       "      <td>NaN</td>\n",
       "      <td>NaN</td>\n",
       "      <td>NaN</td>\n",
       "      <td>0.0</td>\n",
       "      <td>0.0</td>\n",
       "      <td>0.0</td>\n",
       "      <td>0.0</td>\n",
       "      <td>-815.0</td>\n",
       "      <td>0</td>\n",
       "      <td>0</td>\n",
       "      <td>0</td>\n",
       "      <td>0</td>\n",
       "      <td>0</td>\n",
       "      <td>0</td>\n",
       "      <td>0.0</td>\n",
       "      <td>0.0</td>\n",
       "      <td>0.0</td>\n",
       "      <td>0.0</td>\n",
       "      <td>0.0</td>\n",
       "      <td>0.0</td>\n",
       "    </tr>\n",
       "    <tr>\n",
       "      <th>3</th>\n",
       "      <td>100006</td>\n",
       "      <td>0</td>\n",
       "      <td>0</td>\n",
       "      <td>0</td>\n",
       "      <td>0</td>\n",
       "      <td>0</td>\n",
       "      <td>135000.0</td>\n",
       "      <td>312682.5</td>\n",
       "      <td>29686.5</td>\n",
       "      <td>297000.0</td>\n",
       "      <td>0.008019</td>\n",
       "      <td>-19005</td>\n",
       "      <td>-3039</td>\n",
       "      <td>-2437</td>\n",
       "      <td>NaN</td>\n",
       "      <td>1</td>\n",
       "      <td>0</td>\n",
       "      <td>0</td>\n",
       "      <td>0</td>\n",
       "      <td>2.0</td>\n",
       "      <td>2</td>\n",
       "      <td>2</td>\n",
       "      <td>17</td>\n",
       "      <td>0</td>\n",
       "      <td>0</td>\n",
       "      <td>0</td>\n",
       "      <td>0</td>\n",
       "      <td>NaN</td>\n",
       "      <td>0.650442</td>\n",
       "      <td>NaN</td>\n",
       "      <td>NaN</td>\n",
       "      <td>NaN</td>\n",
       "      <td>NaN</td>\n",
       "      <td>NaN</td>\n",
       "      <td>NaN</td>\n",
       "      <td>NaN</td>\n",
       "      <td>NaN</td>\n",
       "      <td>NaN</td>\n",
       "      <td>NaN</td>\n",
       "      <td>NaN</td>\n",
       "      <td>NaN</td>\n",
       "      <td>NaN</td>\n",
       "      <td>NaN</td>\n",
       "      <td>NaN</td>\n",
       "      <td>NaN</td>\n",
       "      <td>NaN</td>\n",
       "      <td>NaN</td>\n",
       "      <td>NaN</td>\n",
       "      <td>NaN</td>\n",
       "      <td>NaN</td>\n",
       "      <td>NaN</td>\n",
       "      <td>NaN</td>\n",
       "      <td>NaN</td>\n",
       "      <td>NaN</td>\n",
       "      <td>NaN</td>\n",
       "      <td>NaN</td>\n",
       "      <td>NaN</td>\n",
       "      <td>NaN</td>\n",
       "      <td>NaN</td>\n",
       "      <td>NaN</td>\n",
       "      <td>NaN</td>\n",
       "      <td>NaN</td>\n",
       "      <td>NaN</td>\n",
       "      <td>NaN</td>\n",
       "      <td>NaN</td>\n",
       "      <td>NaN</td>\n",
       "      <td>2.0</td>\n",
       "      <td>0.0</td>\n",
       "      <td>2.0</td>\n",
       "      <td>0.0</td>\n",
       "      <td>-617.0</td>\n",
       "      <td>1</td>\n",
       "      <td>0</td>\n",
       "      <td>0</td>\n",
       "      <td>0</td>\n",
       "      <td>0</td>\n",
       "      <td>0</td>\n",
       "      <td>NaN</td>\n",
       "      <td>NaN</td>\n",
       "      <td>NaN</td>\n",
       "      <td>NaN</td>\n",
       "      <td>NaN</td>\n",
       "      <td>NaN</td>\n",
       "    </tr>\n",
       "    <tr>\n",
       "      <th>4</th>\n",
       "      <td>100007</td>\n",
       "      <td>0</td>\n",
       "      <td>0</td>\n",
       "      <td>1</td>\n",
       "      <td>0</td>\n",
       "      <td>0</td>\n",
       "      <td>121500.0</td>\n",
       "      <td>513000.0</td>\n",
       "      <td>21865.5</td>\n",
       "      <td>513000.0</td>\n",
       "      <td>0.028663</td>\n",
       "      <td>-19932</td>\n",
       "      <td>-3038</td>\n",
       "      <td>-3458</td>\n",
       "      <td>NaN</td>\n",
       "      <td>1</td>\n",
       "      <td>0</td>\n",
       "      <td>0</td>\n",
       "      <td>0</td>\n",
       "      <td>1.0</td>\n",
       "      <td>2</td>\n",
       "      <td>2</td>\n",
       "      <td>11</td>\n",
       "      <td>0</td>\n",
       "      <td>0</td>\n",
       "      <td>1</td>\n",
       "      <td>1</td>\n",
       "      <td>NaN</td>\n",
       "      <td>0.322738</td>\n",
       "      <td>NaN</td>\n",
       "      <td>NaN</td>\n",
       "      <td>NaN</td>\n",
       "      <td>NaN</td>\n",
       "      <td>NaN</td>\n",
       "      <td>NaN</td>\n",
       "      <td>NaN</td>\n",
       "      <td>NaN</td>\n",
       "      <td>NaN</td>\n",
       "      <td>NaN</td>\n",
       "      <td>NaN</td>\n",
       "      <td>NaN</td>\n",
       "      <td>NaN</td>\n",
       "      <td>NaN</td>\n",
       "      <td>NaN</td>\n",
       "      <td>NaN</td>\n",
       "      <td>NaN</td>\n",
       "      <td>NaN</td>\n",
       "      <td>NaN</td>\n",
       "      <td>NaN</td>\n",
       "      <td>NaN</td>\n",
       "      <td>NaN</td>\n",
       "      <td>NaN</td>\n",
       "      <td>NaN</td>\n",
       "      <td>NaN</td>\n",
       "      <td>NaN</td>\n",
       "      <td>NaN</td>\n",
       "      <td>NaN</td>\n",
       "      <td>NaN</td>\n",
       "      <td>NaN</td>\n",
       "      <td>NaN</td>\n",
       "      <td>NaN</td>\n",
       "      <td>NaN</td>\n",
       "      <td>NaN</td>\n",
       "      <td>NaN</td>\n",
       "      <td>NaN</td>\n",
       "      <td>NaN</td>\n",
       "      <td>0.0</td>\n",
       "      <td>0.0</td>\n",
       "      <td>0.0</td>\n",
       "      <td>0.0</td>\n",
       "      <td>-1106.0</td>\n",
       "      <td>0</td>\n",
       "      <td>0</td>\n",
       "      <td>0</td>\n",
       "      <td>0</td>\n",
       "      <td>0</td>\n",
       "      <td>0</td>\n",
       "      <td>0.0</td>\n",
       "      <td>0.0</td>\n",
       "      <td>0.0</td>\n",
       "      <td>0.0</td>\n",
       "      <td>0.0</td>\n",
       "      <td>0.0</td>\n",
       "    </tr>\n",
       "  </tbody>\n",
       "</table>\n",
       "</div>"
      ],
      "text/plain": [
       "   SK_ID_CURR  TARGET  NAME_CONTRACT_TYPE  CODE_GENDER  FLAG_OWN_CAR  \\\n",
       "0      100002       1                   0            1             0   \n",
       "1      100003       0                   0            0             0   \n",
       "2      100004       0                   1            1             1   \n",
       "3      100006       0                   0            0             0   \n",
       "4      100007       0                   0            1             0   \n",
       "\n",
       "   CNT_CHILDREN  AMT_INCOME_TOTAL  AMT_CREDIT  AMT_ANNUITY  AMT_GOODS_PRICE  \\\n",
       "0             0          202500.0    406597.5      24700.5         351000.0   \n",
       "1             0          270000.0   1293502.5      35698.5        1129500.0   \n",
       "2             0           67500.0    135000.0       6750.0         135000.0   \n",
       "3             0          135000.0    312682.5      29686.5         297000.0   \n",
       "4             0          121500.0    513000.0      21865.5         513000.0   \n",
       "\n",
       "   REGION_POPULATION_RELATIVE  DAYS_BIRTH  DAYS_EMPLOYED  DAYS_ID_PUBLISH  \\\n",
       "0                    0.018801       -9461           -637            -2120   \n",
       "1                    0.003541      -16765          -1188             -291   \n",
       "2                    0.010032      -19046           -225            -2531   \n",
       "3                    0.008019      -19005          -3039            -2437   \n",
       "4                    0.028663      -19932          -3038            -3458   \n",
       "\n",
       "   OWN_CAR_AGE  FLAG_EMP_PHONE  FLAG_WORK_PHONE  FLAG_PHONE  FLAG_EMAIL  \\\n",
       "0          NaN               1                0           1           0   \n",
       "1          NaN               1                0           1           0   \n",
       "2         26.0               1                1           1           0   \n",
       "3          NaN               1                0           0           0   \n",
       "4          NaN               1                0           0           0   \n",
       "\n",
       "   CNT_FAM_MEMBERS  REGION_RATING_CLIENT  REGION_RATING_CLIENT_W_CITY  \\\n",
       "0              1.0                     2                            2   \n",
       "1              2.0                     1                            1   \n",
       "2              1.0                     2                            2   \n",
       "3              2.0                     2                            2   \n",
       "4              1.0                     2                            2   \n",
       "\n",
       "   HOUR_APPR_PROCESS_START  REG_REGION_NOT_WORK_REGION  \\\n",
       "0                       10                           0   \n",
       "1                       11                           0   \n",
       "2                        9                           0   \n",
       "3                       17                           0   \n",
       "4                       11                           0   \n",
       "\n",
       "   REG_CITY_NOT_LIVE_CITY  REG_CITY_NOT_WORK_CITY  LIVE_CITY_NOT_WORK_CITY  \\\n",
       "0                       0                       0                        0   \n",
       "1                       0                       0                        0   \n",
       "2                       0                       0                        0   \n",
       "3                       0                       0                        0   \n",
       "4                       0                       1                        1   \n",
       "\n",
       "   EXT_SOURCE_1  EXT_SOURCE_2  EXT_SOURCE_3  APARTMENTS_AVG  BASEMENTAREA_AVG  \\\n",
       "0      0.083037      0.262949      0.139376          0.0247            0.0369   \n",
       "1      0.311267      0.622246           NaN          0.0959            0.0529   \n",
       "2           NaN      0.555912      0.729567             NaN               NaN   \n",
       "3           NaN      0.650442           NaN             NaN               NaN   \n",
       "4           NaN      0.322738           NaN             NaN               NaN   \n",
       "\n",
       "   YEARS_BEGINEXPLUATATION_AVG  YEARS_BUILD_AVG  COMMONAREA_AVG  \\\n",
       "0                       0.9722           0.6192          0.0143   \n",
       "1                       0.9851           0.7960          0.0605   \n",
       "2                          NaN              NaN             NaN   \n",
       "3                          NaN              NaN             NaN   \n",
       "4                          NaN              NaN             NaN   \n",
       "\n",
       "   ENTRANCES_AVG  FLOORSMAX_AVG  FLOORSMIN_AVG  LANDAREA_AVG  \\\n",
       "0         0.0690         0.0833         0.1250        0.0369   \n",
       "1         0.0345         0.2917         0.3333        0.0130   \n",
       "2            NaN            NaN            NaN           NaN   \n",
       "3            NaN            NaN            NaN           NaN   \n",
       "4            NaN            NaN            NaN           NaN   \n",
       "\n",
       "   LIVINGAPARTMENTS_AVG  LIVINGAREA_AVG  NONLIVINGAREA_AVG  APARTMENTS_MODE  \\\n",
       "0                0.0202          0.0190             0.0000           0.0252   \n",
       "1                0.0773          0.0549             0.0098           0.0924   \n",
       "2                   NaN             NaN                NaN              NaN   \n",
       "3                   NaN             NaN                NaN              NaN   \n",
       "4                   NaN             NaN                NaN              NaN   \n",
       "\n",
       "   BASEMENTAREA_MODE  YEARS_BEGINEXPLUATATION_MODE  YEARS_BUILD_MODE  \\\n",
       "0             0.0383                        0.9722            0.6341   \n",
       "1             0.0538                        0.9851            0.8040   \n",
       "2                NaN                           NaN               NaN   \n",
       "3                NaN                           NaN               NaN   \n",
       "4                NaN                           NaN               NaN   \n",
       "\n",
       "   COMMONAREA_MODE  ENTRANCES_MODE  FLOORSMAX_MODE  LANDAREA_MODE  \\\n",
       "0           0.0144          0.0690          0.0833         0.0377   \n",
       "1           0.0497          0.0345          0.2917         0.0128   \n",
       "2              NaN             NaN             NaN            NaN   \n",
       "3              NaN             NaN             NaN            NaN   \n",
       "4              NaN             NaN             NaN            NaN   \n",
       "\n",
       "   LIVINGAREA_MODE  NONLIVINGAPARTMENTS_MODE  NONLIVINGAREA_MODE  \\\n",
       "0           0.0198                       0.0                 0.0   \n",
       "1           0.0554                       0.0                 0.0   \n",
       "2              NaN                       NaN                 NaN   \n",
       "3              NaN                       NaN                 NaN   \n",
       "4              NaN                       NaN                 NaN   \n",
       "\n",
       "   APARTMENTS_MEDI  BASEMENTAREA_MEDI  YEARS_BEGINEXPLUATATION_MEDI  \\\n",
       "0           0.0250             0.0369                        0.9722   \n",
       "1           0.0968             0.0529                        0.9851   \n",
       "2              NaN                NaN                           NaN   \n",
       "3              NaN                NaN                           NaN   \n",
       "4              NaN                NaN                           NaN   \n",
       "\n",
       "   YEARS_BUILD_MEDI  COMMONAREA_MEDI  ELEVATORS_MEDI  FLOORSMAX_MEDI  \\\n",
       "0            0.6243           0.0144            0.00          0.0833   \n",
       "1            0.7987           0.0608            0.08          0.2917   \n",
       "2               NaN              NaN             NaN             NaN   \n",
       "3               NaN              NaN             NaN             NaN   \n",
       "4               NaN              NaN             NaN             NaN   \n",
       "\n",
       "   FLOORSMIN_MEDI  LANDAREA_MEDI  LIVINGAREA_MEDI  NONLIVINGAPARTMENTS_MEDI  \\\n",
       "0          0.1250         0.0375           0.0193                    0.0000   \n",
       "1          0.3333         0.0132           0.0558                    0.0039   \n",
       "2             NaN            NaN              NaN                       NaN   \n",
       "3             NaN            NaN              NaN                       NaN   \n",
       "4             NaN            NaN              NaN                       NaN   \n",
       "\n",
       "   NONLIVINGAREA_MEDI  TOTALAREA_MODE  OBS_30_CNT_SOCIAL_CIRCLE  \\\n",
       "0                0.00          0.0149                       2.0   \n",
       "1                0.01          0.0714                       1.0   \n",
       "2                 NaN             NaN                       0.0   \n",
       "3                 NaN             NaN                       2.0   \n",
       "4                 NaN             NaN                       0.0   \n",
       "\n",
       "   DEF_30_CNT_SOCIAL_CIRCLE  OBS_60_CNT_SOCIAL_CIRCLE  \\\n",
       "0                       2.0                       2.0   \n",
       "1                       0.0                       1.0   \n",
       "2                       0.0                       0.0   \n",
       "3                       0.0                       2.0   \n",
       "4                       0.0                       0.0   \n",
       "\n",
       "   DEF_60_CNT_SOCIAL_CIRCLE  DAYS_LAST_PHONE_CHANGE  FLAG_DOCUMENT_3  \\\n",
       "0                       2.0                 -1134.0                1   \n",
       "1                       0.0                  -828.0                1   \n",
       "2                       0.0                  -815.0                0   \n",
       "3                       0.0                  -617.0                1   \n",
       "4                       0.0                 -1106.0                0   \n",
       "\n",
       "   FLAG_DOCUMENT_6  FLAG_DOCUMENT_11  FLAG_DOCUMENT_13  FLAG_DOCUMENT_14  \\\n",
       "0                0                 0                 0                 0   \n",
       "1                0                 0                 0                 0   \n",
       "2                0                 0                 0                 0   \n",
       "3                0                 0                 0                 0   \n",
       "4                0                 0                 0                 0   \n",
       "\n",
       "   FLAG_DOCUMENT_18  AMT_REQ_CREDIT_BUREAU_HOUR  AMT_REQ_CREDIT_BUREAU_DAY  \\\n",
       "0                 0                         0.0                        0.0   \n",
       "1                 0                         0.0                        0.0   \n",
       "2                 0                         0.0                        0.0   \n",
       "3                 0                         NaN                        NaN   \n",
       "4                 0                         0.0                        0.0   \n",
       "\n",
       "   AMT_REQ_CREDIT_BUREAU_WEEK  AMT_REQ_CREDIT_BUREAU_MON  \\\n",
       "0                         0.0                        0.0   \n",
       "1                         0.0                        0.0   \n",
       "2                         0.0                        0.0   \n",
       "3                         NaN                        NaN   \n",
       "4                         0.0                        0.0   \n",
       "\n",
       "   AMT_REQ_CREDIT_BUREAU_QRT  AMT_REQ_CREDIT_BUREAU_YEAR  \n",
       "0                        0.0                         1.0  \n",
       "1                        0.0                         0.0  \n",
       "2                        0.0                         0.0  \n",
       "3                        NaN                         NaN  \n",
       "4                        0.0                         0.0  "
      ]
     },
     "execution_count": 207,
     "metadata": {},
     "output_type": "execute_result"
    }
   ],
   "source": [
    "numeric_df.head()"
   ]
  },
  {
   "cell_type": "code",
   "execution_count": 228,
   "metadata": {},
   "outputs": [
    {
     "data": {
      "text/plain": [
       "count    307511.000000\n",
       "mean      63815.045904\n",
       "std      141275.766519\n",
       "min      -17912.000000\n",
       "25%       -2760.000000\n",
       "50%       -1213.000000\n",
       "75%        -289.000000\n",
       "max      365243.000000\n",
       "Name: DAYS_EMPLOYED, dtype: float64"
      ]
     },
     "execution_count": 228,
     "metadata": {},
     "output_type": "execute_result"
    }
   ],
   "source": [
    "numeric_df.DAYS_EMPLOYED.describe()"
   ]
  },
  {
   "cell_type": "code",
   "execution_count": 258,
   "metadata": {},
   "outputs": [
    {
     "data": {
      "image/png": "[encoded data removed]",
      "text/plain": [
       "<Figure size 864x288 with 1 Axes>"
      ]
     },
     "metadata": {},
     "output_type": "display_data"
    }
   ],
   "source": [
    "sns.set_theme(style=\"whitegrid\")\n",
    "plt.figure(figsize=(12,4))\n",
    "ax = sns.boxplot(x=numeric_df[\"DAYS_EMPLOYED\"])"
   ]
  },
  {
   "cell_type": "code",
   "execution_count": 236,
   "metadata": {},
   "outputs": [],
   "source": [
    "outliers_days_employed = app_train[\n",
    "    (app_train [\"DAYS_EMPLOYED\"] > 350000)\n",
    "].index"
   ]
  },
  {
   "cell_type": "code",
   "execution_count": 237,
   "metadata": {},
   "outputs": [
    {
     "data": {
      "text/plain": [
       "55374"
      ]
     },
     "execution_count": 237,
     "metadata": {},
     "output_type": "execute_result"
    }
   ],
   "source": [
    "len(outliers_days_employed)"
   ]
  },
  {
   "cell_type": "code",
   "execution_count": 238,
   "metadata": {},
   "outputs": [
    {
     "data": {
      "text/plain": [
       "Working                 158774\n",
       "Commercial associate     71617\n",
       "Pensioner                55362\n",
       "State servant            21703\n",
       "Unemployed                  22\n",
       "Student                     18\n",
       "Businessman                 10\n",
       "Maternity leave              5\n",
       "Name: NAME_INCOME_TYPE, dtype: int64"
      ]
     },
     "execution_count": 238,
     "metadata": {},
     "output_type": "execute_result"
    }
   ],
   "source": [
    "app_train[\"NAME_INCOME_TYPE\"].value_counts()"
   ]
  },
  {
   "cell_type": "markdown",
   "metadata": {},
   "source": [
    "It seems that outliers in the days employed column are actualy people who receive constant income but not from the employment, it is people who are pensioners. Moreover, there are more than 55k of them, which is about 18% of data. It means that these data should not be considered as outliers."
   ]
  },
  {
   "cell_type": "code",
   "execution_count": 240,
   "metadata": {},
   "outputs": [
    {
     "data": {
      "text/plain": [
       "count    104582.000000\n",
       "mean         12.061091\n",
       "std          11.944812\n",
       "min           0.000000\n",
       "25%           5.000000\n",
       "50%           9.000000\n",
       "75%          15.000000\n",
       "max          91.000000\n",
       "Name: OWN_CAR_AGE, dtype: float64"
      ]
     },
     "execution_count": 240,
     "metadata": {},
     "output_type": "execute_result"
    }
   ],
   "source": [
    "numeric_df.OWN_CAR_AGE.describe()"
   ]
  },
  {
   "cell_type": "markdown",
   "metadata": {},
   "source": [
    "OWN_CAR_AGE has a lot of missing values. It is probably due to the fact that many people don't own the car. So I will update missing values accordingly: with 0 if no car, and 12 (mean value) if owns a car. "
   ]
  },
  {
   "cell_type": "code",
   "execution_count": 7,
   "metadata": {},
   "outputs": [],
   "source": [
    "def impute_car_age(dataframe):\n",
    "    numeric_df = dataframe.select_dtypes(exclude=\"object\")\n",
    "    mask = (numeric_df[\"OWN_CAR_AGE\"].isnull()) & (numeric_df[\"FLAG_OWN_CAR\"] == 0)\n",
    "    numeric_df.loc[mask, [\"OWN_CAR_AGE\"]] = 0\n",
    "    \n",
    "    numeric_df[\"OWN_CAR_AGE\"] = numeric_df[\"OWN_CAR_AGE\"].fillna(12)\n",
    "    \n",
    "    return numeric_df"
   ]
  },
  {
   "cell_type": "markdown",
   "metadata": {},
   "source": [
    "### Missing values"
   ]
  },
  {
   "cell_type": "code",
   "execution_count": 71,
   "metadata": {},
   "outputs": [],
   "source": [
    "app_train_nan = percent_missing(numeric_df)"
   ]
  },
  {
   "cell_type": "code",
   "execution_count": 72,
   "metadata": {
    "scrolled": true
   },
   "outputs": [
    {
     "data": {
      "image/png": "[encoded data removed]",
      "text/plain": [
       "<Figure size 1080x360 with 1 Axes>"
      ]
     },
     "metadata": {
      "needs_background": "light"
     },
     "output_type": "display_data"
    }
   ],
   "source": [
    "plt.figure(figsize=(15,5))\n",
    "plt.xticks(rotation=90)\n",
    "plt.title(\"Missing Data\")\n",
    "\n",
    "ax = sns.barplot(x=app_train_nan.index, y=app_train_nan)"
   ]
  },
  {
   "cell_type": "markdown",
   "metadata": {},
   "source": [
    "Most missing values are in the columns about the place person lives. Imputing it with mean or median can negatively impact results, so it is worth trying to drop these columns and see if accuracy increases. "
   ]
  },
  {
   "cell_type": "code",
   "execution_count": 8,
   "metadata": {},
   "outputs": [],
   "source": [
    "housing_info = [\n",
    "    \"TOTALAREA_MODE\",\n",
    "    \"YEARS_BEGINEXPLUATATION_MODE\",\n",
    "    \"YEARS_BEGINEXPLUATATION_AVG\",\n",
    "    \"YEARS_BEGINEXPLUATATION_MEDI\",\n",
    "    \"FLOORSMAX_MEDI\",\n",
    "    \"FLOORSMAX_AVG\",\n",
    "    \"FLOORSMAX_MODE\",\n",
    "    \"LIVINGAREA_MEDI\",\n",
    "    \"LIVINGAREA_MODE\",\n",
    "    \"LIVINGAREA_AVG\",\n",
    "    \"ENTRANCES_AVG\",\n",
    "    \"ENTRANCES_MODE\",\n",
    "    \"APARTMENTS_AVG\",\n",
    "    \"APARTMENTS_MODE\",\n",
    "    \"APARTMENTS_MEDI\",\n",
    "    \"ELEVATORS_MEDI\",\n",
    "    \"NONLIVINGAREA_AVG\",\n",
    "    \"NONLIVINGAREA_MEDI\",\n",
    "    \"NONLIVINGAREA_MODE\",\n",
    "    \"BASEMENTAREA_MODE\",\n",
    "    \"BASEMENTAREA_MEDI\",\n",
    "    \"BASEMENTAREA_AVG\",\n",
    "    \"LANDAREA_MODE\",\n",
    "    \"LANDAREA_AVG\",\n",
    "    \"LANDAREA_MEDI\",\n",
    "    \"YEARS_BUILD_AVG\",\n",
    "    \"YEARS_BUILD_MODE\",\n",
    "    \"YEARS_BUILD_MEDI\",\n",
    "    \"FLOORSMIN_MEDI\",\n",
    "    \"FLOORSMIN_AVG\",\n",
    "    \"LIVINGAPARTMENTS_AVG\",\n",
    "    \"NONLIVINGAPARTMENTS_MODE\",\n",
    "    \"NONLIVINGAPARTMENTS_MEDI\",\n",
    "    \"COMMONAREA_MEDI\",\n",
    "    \"COMMONAREA_MODE\",\n",
    "    \"COMMONAREA_AVG\",\n",
    "]\n",
    "\n"
   ]
  },
  {
   "cell_type": "markdown",
   "metadata": {},
   "source": [
    "To this point, application dataframes can be cleaned by calling the function below:"
   ]
  },
  {
   "cell_type": "code",
   "execution_count": 9,
   "metadata": {},
   "outputs": [],
   "source": [
    "def get_cleaned_dataframe(dataframe):\n",
    "    copy_df = dataframe.copy()\n",
    "    label_encoded_df = encode_features(copy_df)\n",
    "    droped_columns_df = label_encoded_df.drop(columns_to_drop, axis=1)\n",
    "    objects_df = clean_object_features(droped_columns_df, object_columns)\n",
    "    numeric_df = impute_car_age(droped_columns_df)\n",
    "    all_df = pd.concat([numeric_df, objects_df], axis=1)\n",
    "    all_df_final = DataFrameImputer().fit_transform(all_df)\n",
    "    return all_df_final"
   ]
  },
  {
   "cell_type": "code",
   "execution_count": 10,
   "metadata": {},
   "outputs": [],
   "source": [
    "app_train = get_cleaned_dataframe(application_train)"
   ]
  },
  {
   "cell_type": "code",
   "execution_count": 11,
   "metadata": {},
   "outputs": [],
   "source": [
    "app_test = get_cleaned_dataframe(application_test)"
   ]
  },
  {
   "cell_type": "markdown",
   "metadata": {},
   "source": [
    "### Intermediate check"
   ]
  },
  {
   "cell_type": "code",
   "execution_count": 363,
   "metadata": {},
   "outputs": [],
   "source": [
    "app_train_no_house = app_train_final.drop(housing_info, axis=1)\n",
    "no_housing = app_train_no_house.columns[2:]"
   ]
  },
  {
   "cell_type": "code",
   "execution_count": 364,
   "metadata": {},
   "outputs": [],
   "source": [
    "train_sample = app_train_final.sample(frac=0.01, replace=True, random_state=42)\n",
    "features_list = list(train_sample.columns[2:])\n",
    "\n",
    "X_app_train = train_sample[train_sample.columns[2:]].values\n",
    "X_no_housing = train_sample[no_housing].values\n",
    "y = train_sample[\"TARGET\"].to_numpy()"
   ]
  },
  {
   "cell_type": "code",
   "execution_count": 367,
   "metadata": {},
   "outputs": [
    {
     "name": "stdout",
     "output_type": "stream",
     "text": [
      "CV_all mean score all: 0.746\n",
      "CV_all mean score no housing: 0.745\n"
     ]
    }
   ],
   "source": [
    "lgb = LGBMClassifier(random_state=RANDOM, objective=\"binary\", verbose=-1)\n",
    "xgb = XGBClassifier(random_state=RANDOM)\n",
    "cbc = CatBoostClassifier(random_state=RANDOM, verbose=0)\n",
    "\n",
    "scores_all = cross_val_score(\n",
    "    cbc, X_app_train, y, cv=5, scoring=\"roc_auc\", error_score=\"raise\"\n",
    ")\n",
    "scores_no_house = cross_val_score(\n",
    "    cbc, X_no_housing, y, cv=5, scoring=\"roc_auc\", error_score=\"raise\"\n",
    ")\n",
    "\n",
    "print(\"CV_all mean score all:\", round(scores_all.mean(), 3))\n",
    "print(\"CV_all mean score no housing:\", round(scores_no_house.mean(), 3))"
   ]
  },
  {
   "cell_type": "code",
   "execution_count": 26,
   "metadata": {},
   "outputs": [],
   "source": [
    "intermediate_model_results = {\n",
    "    \"model\": [\"LightGBM\", \"XGBClassifier\", \"CatBoostClassifier\",],\n",
    "    \"all selected features\": [0.733, 0.714, 0.748],\n",
    "    \"all selected, no median impute\": [0.723, 0.713, 0.746],\n",
    "    \"all selected, no median and housing\": [0.728, 0.714, 0.745],\n",
    "    \"all selected, median impute, no car age update\": [0.724, 0.720, 0.746],\n",
    "    \"all selected, median impute, no housing, no car age update\": [0.727, 0.719, 0.745],\n",
    "    \"with new features\": [0.729, 0.720, 0.75],\n",
    "    \"with new features, no housing\": [0.727, 0.719, 0.745],\n",
    "    \"plus bureau info\": [0.738, 0.729, 0.752],\n",
    "    \"plus bureau, minus housing\": [0.738, 0.718, 0.750],\n",
    "    \"plus POS\": [0.734, 0.731, 0.751],\n",
    "    \"plus POS, minus housing\": [0.737, 0.726, 0.752],\n",
    "    \"bureau and CC balance\": [0.735, 0.732, 0.752],\n",
    "    \"bureay and CC balance, no housing\": [0.736, 0.718, 0.766],\n",
    "    \"bureau, POS and CC balance\": [0.751, 0.727, 0.756],\n",
    "    \"bureau, POS and CC balance, no housing\": [0.746, 0.730, 0.759],\n",
    "    \"bureau and previous app\": [0.745, 0.733, 0.762],\n",
    "    \"bureau and previous app, no housing\": [0.741, 0.716, 0.766],\n",
    "    \"bureau, CC and previous app\": [0.740, 0.746, 0.761],\n",
    "    \"bureau, CC and previous app, no housing\": [0.735, 0.728, 0.760],\n",
    "    \"bureau, POS, CC and previous app\": [0.739, 0.729, 0.759],\n",
    "    \"bureau, POS, CC and previous app, no housing\": [0.736, 0.742, 0.763],\n",
    "    \"bureau and installment\": [0.733, 0.722, 0.755],\n",
    "    \"bureau and installment, no housing\": [0.726, 0.73, 0.761],\n",
    "    \"bureau, previous_app and install\": [0.733, 0.723, 0.763],\n",
    "    \"bureau, previous_app and install, no housing\": [0.736, 0.725, 0.763],\n",
    "    \"bureau, CC and install\": [0.747, 0.744, 0.761],\n",
    "    \"bureau, CC and install, no housing\": [0.753, 0.739, 0.764],\n",
    "    \"bureau, POS and install\": [0.739, 0.723, 0.754],\n",
    "    \"bureau, POS and install, no housing\": [0.743, 0.726, 0.755],\n",
    "    \"all files\": [0.748, 0.733, 0.761],\n",
    "    \"all files, no housing\": [0.739, 0.742, 0.765],\n",
    "}"
   ]
  },
  {
   "cell_type": "code",
   "execution_count": 27,
   "metadata": {},
   "outputs": [],
   "source": [
    "intermediate_model_results = pd.DataFrame.from_dict(intermediate_model_results)"
   ]
  },
  {
   "cell_type": "code",
   "execution_count": 28,
   "metadata": {},
   "outputs": [],
   "source": [
    "interm_results = intermediate_model_results.T\n",
    "interm_results.columns = interm_results.iloc[0]\n",
    "\n",
    "interm_results = interm_results.drop([\"model\"], axis=0)\n",
    "\n",
    "interm_results[\"mean\"] = interm_results.mean(axis=1)"
   ]
  },
  {
   "cell_type": "code",
   "execution_count": 32,
   "metadata": {},
   "outputs": [
    {
     "data": {
      "text/html": [
       "<div>\n",
       "<style scoped>\n",
       "    .dataframe tbody tr th:only-of-type {\n",
       "        vertical-align: middle;\n",
       "    }\n",
       "\n",
       "    .dataframe tbody tr th {\n",
       "        vertical-align: top;\n",
       "    }\n",
       "\n",
       "    .dataframe thead th {\n",
       "        text-align: right;\n",
       "    }\n",
       "</style>\n",
       "<table border=\"1\" class=\"dataframe\">\n",
       "  <thead>\n",
       "    <tr style=\"text-align: right;\">\n",
       "      <th>model</th>\n",
       "      <th>LightGBM</th>\n",
       "      <th>XGBClassifier</th>\n",
       "      <th>CatBoostClassifier</th>\n",
       "      <th>mean</th>\n",
       "    </tr>\n",
       "  </thead>\n",
       "  <tbody>\n",
       "    <tr>\n",
       "      <th>bureau, CC and install, no housing</th>\n",
       "      <td>0.753</td>\n",
       "      <td>0.739</td>\n",
       "      <td>0.764</td>\n",
       "      <td>0.752000</td>\n",
       "    </tr>\n",
       "    <tr>\n",
       "      <th>bureau, CC and install</th>\n",
       "      <td>0.747</td>\n",
       "      <td>0.744</td>\n",
       "      <td>0.761</td>\n",
       "      <td>0.750667</td>\n",
       "    </tr>\n",
       "    <tr>\n",
       "      <th>bureau, CC and previous app</th>\n",
       "      <td>0.74</td>\n",
       "      <td>0.746</td>\n",
       "      <td>0.761</td>\n",
       "      <td>0.749000</td>\n",
       "    </tr>\n",
       "    <tr>\n",
       "      <th>all files, no housing</th>\n",
       "      <td>0.739</td>\n",
       "      <td>0.742</td>\n",
       "      <td>0.765</td>\n",
       "      <td>0.748667</td>\n",
       "    </tr>\n",
       "    <tr>\n",
       "      <th>all files</th>\n",
       "      <td>0.748</td>\n",
       "      <td>0.733</td>\n",
       "      <td>0.761</td>\n",
       "      <td>0.747333</td>\n",
       "    </tr>\n",
       "    <tr>\n",
       "      <th>bureau, POS, CC and previous app, no housing</th>\n",
       "      <td>0.736</td>\n",
       "      <td>0.742</td>\n",
       "      <td>0.763</td>\n",
       "      <td>0.747000</td>\n",
       "    </tr>\n",
       "    <tr>\n",
       "      <th>bureau and previous app</th>\n",
       "      <td>0.745</td>\n",
       "      <td>0.733</td>\n",
       "      <td>0.762</td>\n",
       "      <td>0.746667</td>\n",
       "    </tr>\n",
       "    <tr>\n",
       "      <th>bureau, POS and CC balance, no housing</th>\n",
       "      <td>0.746</td>\n",
       "      <td>0.73</td>\n",
       "      <td>0.759</td>\n",
       "      <td>0.745000</td>\n",
       "    </tr>\n",
       "    <tr>\n",
       "      <th>bureau, POS and CC balance</th>\n",
       "      <td>0.751</td>\n",
       "      <td>0.727</td>\n",
       "      <td>0.756</td>\n",
       "      <td>0.744667</td>\n",
       "    </tr>\n",
       "    <tr>\n",
       "      <th>bureau, POS, CC and previous app</th>\n",
       "      <td>0.739</td>\n",
       "      <td>0.729</td>\n",
       "      <td>0.759</td>\n",
       "      <td>0.742333</td>\n",
       "    </tr>\n",
       "    <tr>\n",
       "      <th>bureau, POS and install, no housing</th>\n",
       "      <td>0.743</td>\n",
       "      <td>0.726</td>\n",
       "      <td>0.755</td>\n",
       "      <td>0.741333</td>\n",
       "    </tr>\n",
       "    <tr>\n",
       "      <th>bureau, previous_app and install, no housing</th>\n",
       "      <td>0.736</td>\n",
       "      <td>0.725</td>\n",
       "      <td>0.763</td>\n",
       "      <td>0.741333</td>\n",
       "    </tr>\n",
       "    <tr>\n",
       "      <th>bureau and previous app, no housing</th>\n",
       "      <td>0.741</td>\n",
       "      <td>0.716</td>\n",
       "      <td>0.766</td>\n",
       "      <td>0.741000</td>\n",
       "    </tr>\n",
       "    <tr>\n",
       "      <th>bureau, CC and previous app, no housing</th>\n",
       "      <td>0.735</td>\n",
       "      <td>0.728</td>\n",
       "      <td>0.76</td>\n",
       "      <td>0.741000</td>\n",
       "    </tr>\n",
       "    <tr>\n",
       "      <th>bureay and CC balance, no housing</th>\n",
       "      <td>0.736</td>\n",
       "      <td>0.718</td>\n",
       "      <td>0.766</td>\n",
       "      <td>0.740000</td>\n",
       "    </tr>\n",
       "    <tr>\n",
       "      <th>plus bureau info</th>\n",
       "      <td>0.738</td>\n",
       "      <td>0.729</td>\n",
       "      <td>0.752</td>\n",
       "      <td>0.739667</td>\n",
       "    </tr>\n",
       "    <tr>\n",
       "      <th>bureau and CC balance</th>\n",
       "      <td>0.735</td>\n",
       "      <td>0.732</td>\n",
       "      <td>0.752</td>\n",
       "      <td>0.739667</td>\n",
       "    </tr>\n",
       "    <tr>\n",
       "      <th>bureau, previous_app and install</th>\n",
       "      <td>0.733</td>\n",
       "      <td>0.723</td>\n",
       "      <td>0.763</td>\n",
       "      <td>0.739667</td>\n",
       "    </tr>\n",
       "    <tr>\n",
       "      <th>bureau and installment, no housing</th>\n",
       "      <td>0.726</td>\n",
       "      <td>0.73</td>\n",
       "      <td>0.761</td>\n",
       "      <td>0.739000</td>\n",
       "    </tr>\n",
       "    <tr>\n",
       "      <th>bureau, POS and install</th>\n",
       "      <td>0.739</td>\n",
       "      <td>0.723</td>\n",
       "      <td>0.754</td>\n",
       "      <td>0.738667</td>\n",
       "    </tr>\n",
       "    <tr>\n",
       "      <th>plus POS</th>\n",
       "      <td>0.734</td>\n",
       "      <td>0.731</td>\n",
       "      <td>0.751</td>\n",
       "      <td>0.738667</td>\n",
       "    </tr>\n",
       "    <tr>\n",
       "      <th>plus POS, minus housing</th>\n",
       "      <td>0.737</td>\n",
       "      <td>0.726</td>\n",
       "      <td>0.752</td>\n",
       "      <td>0.738333</td>\n",
       "    </tr>\n",
       "    <tr>\n",
       "      <th>bureau and installment</th>\n",
       "      <td>0.733</td>\n",
       "      <td>0.722</td>\n",
       "      <td>0.755</td>\n",
       "      <td>0.736667</td>\n",
       "    </tr>\n",
       "    <tr>\n",
       "      <th>plus bureau, minus housing</th>\n",
       "      <td>0.738</td>\n",
       "      <td>0.718</td>\n",
       "      <td>0.75</td>\n",
       "      <td>0.735333</td>\n",
       "    </tr>\n",
       "    <tr>\n",
       "      <th>with new features</th>\n",
       "      <td>0.729</td>\n",
       "      <td>0.72</td>\n",
       "      <td>0.75</td>\n",
       "      <td>0.733000</td>\n",
       "    </tr>\n",
       "    <tr>\n",
       "      <th>all selected features</th>\n",
       "      <td>0.733</td>\n",
       "      <td>0.714</td>\n",
       "      <td>0.748</td>\n",
       "      <td>0.731667</td>\n",
       "    </tr>\n",
       "    <tr>\n",
       "      <th>with new features, no housing</th>\n",
       "      <td>0.727</td>\n",
       "      <td>0.719</td>\n",
       "      <td>0.745</td>\n",
       "      <td>0.730333</td>\n",
       "    </tr>\n",
       "    <tr>\n",
       "      <th>all selected, median impute, no housing, no car age update</th>\n",
       "      <td>0.727</td>\n",
       "      <td>0.719</td>\n",
       "      <td>0.745</td>\n",
       "      <td>0.730333</td>\n",
       "    </tr>\n",
       "    <tr>\n",
       "      <th>all selected, median impute, no car age update</th>\n",
       "      <td>0.724</td>\n",
       "      <td>0.72</td>\n",
       "      <td>0.746</td>\n",
       "      <td>0.730000</td>\n",
       "    </tr>\n",
       "    <tr>\n",
       "      <th>all selected, no median and housing</th>\n",
       "      <td>0.728</td>\n",
       "      <td>0.714</td>\n",
       "      <td>0.745</td>\n",
       "      <td>0.729000</td>\n",
       "    </tr>\n",
       "    <tr>\n",
       "      <th>all selected, no median impute</th>\n",
       "      <td>0.723</td>\n",
       "      <td>0.713</td>\n",
       "      <td>0.746</td>\n",
       "      <td>0.727333</td>\n",
       "    </tr>\n",
       "  </tbody>\n",
       "</table>\n",
       "</div>"
      ],
      "text/plain": [
       "model                                              LightGBM XGBClassifier  \\\n",
       "bureau, CC and install, no housing                    0.753         0.739   \n",
       "bureau, CC and install                                0.747         0.744   \n",
       "bureau, CC and previous app                            0.74         0.746   \n",
       "all files, no housing                                 0.739         0.742   \n",
       "all files                                             0.748         0.733   \n",
       "bureau, POS, CC and previous app, no housing          0.736         0.742   \n",
       "bureau and previous app                               0.745         0.733   \n",
       "bureau, POS and CC balance, no housing                0.746          0.73   \n",
       "bureau, POS and CC balance                            0.751         0.727   \n",
       "bureau, POS, CC and previous app                      0.739         0.729   \n",
       "bureau, POS and install, no housing                   0.743         0.726   \n",
       "bureau, previous_app and install, no housing          0.736         0.725   \n",
       "bureau and previous app, no housing                   0.741         0.716   \n",
       "bureau, CC and previous app, no housing               0.735         0.728   \n",
       "bureay and CC balance, no housing                     0.736         0.718   \n",
       "plus bureau info                                      0.738         0.729   \n",
       "bureau and CC balance                                 0.735         0.732   \n",
       "bureau, previous_app and install                      0.733         0.723   \n",
       "bureau and installment, no housing                    0.726          0.73   \n",
       "bureau, POS and install                               0.739         0.723   \n",
       "plus POS                                              0.734         0.731   \n",
       "plus POS, minus housing                               0.737         0.726   \n",
       "bureau and installment                                0.733         0.722   \n",
       "plus bureau, minus housing                            0.738         0.718   \n",
       "with new features                                     0.729          0.72   \n",
       "all selected features                                 0.733         0.714   \n",
       "with new features, no housing                         0.727         0.719   \n",
       "all selected, median impute, no housing, no car...    0.727         0.719   \n",
       "all selected, median impute, no car age update        0.724          0.72   \n",
       "all selected, no median and housing                   0.728         0.714   \n",
       "all selected, no median impute                        0.723         0.713   \n",
       "\n",
       "model                                              CatBoostClassifier  \\\n",
       "bureau, CC and install, no housing                              0.764   \n",
       "bureau, CC and install                                          0.761   \n",
       "bureau, CC and previous app                                     0.761   \n",
       "all files, no housing                                           0.765   \n",
       "all files                                                       0.761   \n",
       "bureau, POS, CC and previous app, no housing                    0.763   \n",
       "bureau and previous app                                         0.762   \n",
       "bureau, POS and CC balance, no housing                          0.759   \n",
       "bureau, POS and CC balance                                      0.756   \n",
       "bureau, POS, CC and previous app                                0.759   \n",
       "bureau, POS and install, no housing                             0.755   \n",
       "bureau, previous_app and install, no housing                    0.763   \n",
       "bureau and previous app, no housing                             0.766   \n",
       "bureau, CC and previous app, no housing                          0.76   \n",
       "bureay and CC balance, no housing                               0.766   \n",
       "plus bureau info                                                0.752   \n",
       "bureau and CC balance                                           0.752   \n",
       "bureau, previous_app and install                                0.763   \n",
       "bureau and installment, no housing                              0.761   \n",
       "bureau, POS and install                                         0.754   \n",
       "plus POS                                                        0.751   \n",
       "plus POS, minus housing                                         0.752   \n",
       "bureau and installment                                          0.755   \n",
       "plus bureau, minus housing                                       0.75   \n",
       "with new features                                                0.75   \n",
       "all selected features                                           0.748   \n",
       "with new features, no housing                                   0.745   \n",
       "all selected, median impute, no housing, no car...              0.745   \n",
       "all selected, median impute, no car age update                  0.746   \n",
       "all selected, no median and housing                             0.745   \n",
       "all selected, no median impute                                  0.746   \n",
       "\n",
       "model                                                   mean  \n",
       "bureau, CC and install, no housing                  0.752000  \n",
       "bureau, CC and install                              0.750667  \n",
       "bureau, CC and previous app                         0.749000  \n",
       "all files, no housing                               0.748667  \n",
       "all files                                           0.747333  \n",
       "bureau, POS, CC and previous app, no housing        0.747000  \n",
       "bureau and previous app                             0.746667  \n",
       "bureau, POS and CC balance, no housing              0.745000  \n",
       "bureau, POS and CC balance                          0.744667  \n",
       "bureau, POS, CC and previous app                    0.742333  \n",
       "bureau, POS and install, no housing                 0.741333  \n",
       "bureau, previous_app and install, no housing        0.741333  \n",
       "bureau and previous app, no housing                 0.741000  \n",
       "bureau, CC and previous app, no housing             0.741000  \n",
       "bureay and CC balance, no housing                   0.740000  \n",
       "plus bureau info                                    0.739667  \n",
       "bureau and CC balance                               0.739667  \n",
       "bureau, previous_app and install                    0.739667  \n",
       "bureau and installment, no housing                  0.739000  \n",
       "bureau, POS and install                             0.738667  \n",
       "plus POS                                            0.738667  \n",
       "plus POS, minus housing                             0.738333  \n",
       "bureau and installment                              0.736667  \n",
       "plus bureau, minus housing                          0.735333  \n",
       "with new features                                   0.733000  \n",
       "all selected features                               0.731667  \n",
       "with new features, no housing                       0.730333  \n",
       "all selected, median impute, no housing, no car...  0.730333  \n",
       "all selected, median impute, no car age update      0.730000  \n",
       "all selected, no median and housing                 0.729000  \n",
       "all selected, no median impute                      0.727333  "
      ]
     },
     "execution_count": 32,
     "metadata": {},
     "output_type": "execute_result"
    }
   ],
   "source": [
    "interm_results.sort_values(by=[\"mean\"], ascending=False)"
   ]
  },
  {
   "cell_type": "markdown",
   "metadata": {},
   "source": [
    "I couldn't recreate results from baseline because different sample was taken from the dataset, but it seems that housing information do not play a huge impact on the score (negatively or positively)."
   ]
  },
  {
   "cell_type": "markdown",
   "metadata": {},
   "source": [
    "### New features"
   ]
  },
  {
   "cell_type": "code",
   "execution_count": 147,
   "metadata": {},
   "outputs": [],
   "source": [
    "corr_with_target = app_train_selected.corrwith(app_train_selected[\"TARGET\"]).sort_values()"
   ]
  },
  {
   "cell_type": "code",
   "execution_count": 148,
   "metadata": {},
   "outputs": [],
   "source": [
    "corr_with_target = corr_with_target.to_frame()"
   ]
  },
  {
   "cell_type": "code",
   "execution_count": null,
   "metadata": {},
   "outputs": [],
   "source": [
    "pd.set_option('display.max_rows', 500)\n",
    "corr_with_target "
   ]
  },
  {
   "cell_type": "markdown",
   "metadata": {},
   "source": [
    "- EXT_SOURCE_2\t__-0.160303__\n",
    "- EXT_SOURCE_3\t__-0.157397__\n",
    "- EXT_SOURCE_1\t__-0.099152__\n",
    "- NAME_EDUCATION_TYPE_Higher education\t__-0.056593__\n",
    "- NAME_INCOME_TYPE_Pensioner\t__-0.046209__\n",
    "- ORGANIZATION_TYPE_XNA\t__-0.045987__\n",
    "- DAYS_EMPLOYED\t__-0.044932__"
   ]
  },
  {
   "cell_type": "code",
   "execution_count": 13,
   "metadata": {},
   "outputs": [],
   "source": [
    "def add_new_features(original_df):\n",
    "    dataframe = original_df.copy()\n",
    "    dataframe[\"Interest_Rate\"] = dataframe[\"AMT_CREDIT\"] / dataframe[\"AMT_ANNUITY\"]\n",
    "    dataframe[\"Ratio_Income&Credit\"] = (\n",
    "        dataframe[\"AMT_CREDIT\"] / dataframe[\"AMT_INCOME_TOTAL\"]\n",
    "    )\n",
    "    dataframe[\"Region_ratings_sum\"] = (\n",
    "        dataframe[\"REGION_RATING_CLIENT_W_CITY\"] + dataframe[\"REGION_RATING_CLIENT\"]\n",
    "    )\n",
    "    dataframe[\"Region_ratings\"] = (\n",
    "        dataframe[\"REGION_RATING_CLIENT_W_CITY\"] * dataframe[\"REGION_RATING_CLIENT\"]\n",
    "    )\n",
    "    dataframe[\"Age_gender\"] = dataframe[\"DAYS_BIRTH\"] * dataframe[\"CODE_GENDER\"]\n",
    "    dataframe[\"Social_circle_sum\"] = (\n",
    "        dataframe[\"DEF_30_CNT_SOCIAL_CIRCLE\"] + dataframe[\"DEF_60_CNT_SOCIAL_CIRCLE\"]\n",
    "    )\n",
    "    dataframe[\"Social_circle\"] = (\n",
    "        dataframe[\"DEF_30_CNT_SOCIAL_CIRCLE\"] * dataframe[\"DEF_60_CNT_SOCIAL_CIRCLE\"]\n",
    "    )\n",
    "    dataframe[\"Working_age\"] = dataframe[\"DAYS_BIRTH\"] + dataframe[\"DAYS_EMPLOYED\"]\n",
    "    dataframe[\"Pensioner_XNA\"] = (\n",
    "        dataframe[\"NAME_INCOME_TYPE_Pensioner\"] + dataframe[\"ORGANIZATION_TYPE_XNA\"]\n",
    "    )\n",
    "    dataframe[\"EXT_SOURCE_all\"] = (\n",
    "        dataframe[\"EXT_SOURCE_1\"]\n",
    "        + dataframe[\"EXT_SOURCE_2\"]\n",
    "        + dataframe[\"EXT_SOURCE_3\"]\n",
    "    )\n",
    "    return dataframe"
   ]
  },
  {
   "cell_type": "code",
   "execution_count": 14,
   "metadata": {},
   "outputs": [],
   "source": [
    "train_with_new_features = add_new_features(app_train)\n",
    "test_with_new_features = add_new_features(app_test)"
   ]
  },
  {
   "cell_type": "markdown",
   "metadata": {},
   "source": [
    "New features improved the score on all trials, so decided to be kept."
   ]
  },
  {
   "cell_type": "markdown",
   "metadata": {},
   "source": [
    "### Features from additional files"
   ]
  },
  {
   "cell_type": "markdown",
   "metadata": {},
   "source": [
    "#### Bureau information"
   ]
  },
  {
   "cell_type": "code",
   "execution_count": 15,
   "metadata": {},
   "outputs": [],
   "source": [
    "bureau_balance_status = bureau_balance[[\"SK_ID_BUREAU\", \"STATUS\"]]\n",
    "bureau_balance_status = bureau_balance_status.replace({'C': 0})\n",
    "\n",
    "bureau_balance_status = bureau_balance_status[bureau_balance_status.STATUS != \"X\"]\n",
    "bureau_balance_status[\"STATUS\"] = pd.to_numeric(bureau_balance_status[\"STATUS\"])"
   ]
  },
  {
   "cell_type": "code",
   "execution_count": 16,
   "metadata": {},
   "outputs": [],
   "source": [
    "bureau_balance_status_sum = bureau_balance_status.groupby(\n",
    "    by=bureau_balance_status.SK_ID_BUREAU\n",
    ").sum()\n",
    "bureau_with_status = pd.merge(bureau, bureau_balance_status_sum, on=\"SK_ID_BUREAU\")"
   ]
  },
  {
   "cell_type": "code",
   "execution_count": 17,
   "metadata": {},
   "outputs": [],
   "source": [
    "bureau_with_status_imputed = DataFrameImputer().fit_transform(bureau_with_status)\n",
    "bureau_with_status_imputed_enc = pd.get_dummies(\n",
    "    bureau_with_status_imputed, drop_first=True\n",
    ")"
   ]
  },
  {
   "cell_type": "code",
   "execution_count": 18,
   "metadata": {},
   "outputs": [],
   "source": [
    "bureau_balance_status_sum = bureau_with_status_imputed_enc.groupby(\n",
    "    by=bureau_with_status_imputed_enc.SK_ID_CURR\n",
    ").sum()\n",
    "bureau_balance_status_sum = bureau_balance_status_sum.drop([\"SK_ID_BUREAU\"], axis=1)"
   ]
  },
  {
   "cell_type": "code",
   "execution_count": 19,
   "metadata": {},
   "outputs": [],
   "source": [
    "app_train_and_bureau = train_with_new_features.merge(\n",
    "    bureau_balance_status_sum, on=\"SK_ID_CURR\", how=\"left\"\n",
    ")"
   ]
  },
  {
   "cell_type": "code",
   "execution_count": 20,
   "metadata": {},
   "outputs": [],
   "source": [
    "app_train_and_bureau[\"no_bureau_info\"] = (\n",
    "    app_train_and_bureau.isnull().any(axis=1).astype(int)\n",
    ")\n",
    "app_train_and_bureau_imp = DataFrameImputer().fit_transform(app_train_and_bureau)"
   ]
  },
  {
   "cell_type": "code",
   "execution_count": 21,
   "metadata": {},
   "outputs": [],
   "source": [
    "app_test_and_bureau = test_with_new_features.merge(\n",
    "    bureau_balance_status_sum, on=\"SK_ID_CURR\", how=\"left\"\n",
    ")\n",
    "\n",
    "app_test_and_bureau[\"no_bureau_info\"] = (\n",
    "    app_test_and_bureau.isnull().any(axis=1).astype(int)\n",
    ")\n",
    "app_test_and_bureau_imp = DataFrameImputer().fit_transform(app_test_and_bureau)"
   ]
  },
  {
   "cell_type": "markdown",
   "metadata": {},
   "source": [
    "Bureau information increased model's accuraccy. File should be kept. "
   ]
  },
  {
   "cell_type": "markdown",
   "metadata": {},
   "source": [
    "#### POS_CASH_balance file"
   ]
  },
  {
   "cell_type": "code",
   "execution_count": 22,
   "metadata": {},
   "outputs": [],
   "source": [
    "POS_CASH_balance_enc = pd.get_dummies(POS_CASH_balance)\n",
    "POS_CASH_balance_enc = POS_CASH_balance_enc.drop(\"SK_ID_PREV\", axis=1)"
   ]
  },
  {
   "cell_type": "code",
   "execution_count": 23,
   "metadata": {},
   "outputs": [],
   "source": [
    "POS_CASH_balance_SK_ID_mean = POS_CASH_balance_enc.groupby(\"SK_ID_CURR\").agg(\n",
    "    {\n",
    "        \"MONTHS_BALANCE\": \"mean\",\n",
    "        \"CNT_INSTALMENT\": \"mean\",\n",
    "        \"CNT_INSTALMENT_FUTURE\": \"mean\",\n",
    "    }\n",
    ")\n",
    "\n",
    "POS_CASH_balance_SK_ID_mean.columns = [\n",
    "    \"MONTHS_BALANCE_mean\",\n",
    "    \"CNT_INSTALMENT_mean\",\n",
    "    \"CNT_INSTALMENT_FUTURE_mean\",\n",
    "]"
   ]
  },
  {
   "cell_type": "code",
   "execution_count": 24,
   "metadata": {},
   "outputs": [],
   "source": [
    "POS_CASH_balance_enc_grouped = POS_CASH_balance_enc.groupby(\n",
    "    by=POS_CASH_balance_enc.SK_ID_CURR\n",
    ").sum()"
   ]
  },
  {
   "cell_type": "code",
   "execution_count": 25,
   "metadata": {},
   "outputs": [],
   "source": [
    "POS_CASH_balance_enc_all = pd.concat(\n",
    "    [POS_CASH_balance_enc_grouped, POS_CASH_balance_SK_ID_mean], axis=1\n",
    ")"
   ]
  },
  {
   "cell_type": "code",
   "execution_count": 26,
   "metadata": {},
   "outputs": [],
   "source": [
    "POS_CASH_balance_enc_all = DataFrameImputer().fit_transform(POS_CASH_balance_enc_all)"
   ]
  },
  {
   "cell_type": "code",
   "execution_count": 27,
   "metadata": {},
   "outputs": [],
   "source": [
    "app_train_bureau_POS = app_train_and_bureau.merge(\n",
    "    POS_CASH_balance_enc_all, on=\"SK_ID_CURR\", how=\"left\"\n",
    ")"
   ]
  },
  {
   "cell_type": "code",
   "execution_count": 28,
   "metadata": {},
   "outputs": [],
   "source": [
    "app_test_bureau_POS = app_test_and_bureau.merge(\n",
    "    POS_CASH_balance_enc_all, on=\"SK_ID_CURR\", how=\"left\"\n",
    ")"
   ]
  },
  {
   "cell_type": "markdown",
   "metadata": {},
   "source": [
    "Results are ambiguous. XGB Clasifier results improve, LGBM - decrease and CatBoost more or less neutral. "
   ]
  },
  {
   "cell_type": "markdown",
   "metadata": {},
   "source": [
    "#### Credit card balance file"
   ]
  },
  {
   "cell_type": "code",
   "execution_count": 29,
   "metadata": {},
   "outputs": [],
   "source": [
    "credit_card_balance_imputed = DataFrameImputer().fit_transform(credit_card_balance)"
   ]
  },
  {
   "cell_type": "code",
   "execution_count": 30,
   "metadata": {},
   "outputs": [],
   "source": [
    "credit_card_balance_enc = pd.get_dummies(credit_card_balance)\n",
    "credit_card_balance_enc = credit_card_balance_enc.drop(\"SK_ID_PREV\", axis=1)"
   ]
  },
  {
   "cell_type": "code",
   "execution_count": 31,
   "metadata": {},
   "outputs": [],
   "source": [
    "credit_card_balance_numeric = credit_card_balance_imputed.select_dtypes(\n",
    "    include=[\"int64\", \"float64\"]\n",
    ")"
   ]
  },
  {
   "cell_type": "code",
   "execution_count": 32,
   "metadata": {},
   "outputs": [],
   "source": [
    "credit_card_balance_categorical = pd.get_dummies(\n",
    "    credit_card_balance_imputed[\"NAME_CONTRACT_STATUS\"]\n",
    ")"
   ]
  },
  {
   "cell_type": "code",
   "execution_count": 33,
   "metadata": {},
   "outputs": [],
   "source": [
    "credit_card_balance_categorical[\"SK_ID_CURR\"] = credit_card_balance_imputed[\n",
    "    \"SK_ID_CURR\"\n",
    "]"
   ]
  },
  {
   "cell_type": "code",
   "execution_count": 34,
   "metadata": {},
   "outputs": [],
   "source": [
    "credit_card_balance_categories_sum = credit_card_balance_categorical.groupby(\n",
    "    by=credit_card_balance_categorical.SK_ID_CURR\n",
    ").sum()"
   ]
  },
  {
   "cell_type": "code",
   "execution_count": 35,
   "metadata": {},
   "outputs": [],
   "source": [
    "credit_card_balance_numeric_grouped = credit_card_balance_numeric.groupby(\n",
    "    by=credit_card_balance_numeric.SK_ID_CURR\n",
    ").mean()\n",
    "\n",
    "credit_card_balance_numeric_grouped = credit_card_balance_numeric_grouped.drop(\n",
    "    [\"SK_ID_PREV\"], axis=1\n",
    ")"
   ]
  },
  {
   "cell_type": "code",
   "execution_count": 36,
   "metadata": {},
   "outputs": [],
   "source": [
    "credit_card_balance_all = pd.concat(\n",
    "    [credit_card_balance_numeric_grouped, credit_card_balance_categories_sum], axis=1\n",
    ")"
   ]
  },
  {
   "cell_type": "code",
   "execution_count": 37,
   "metadata": {},
   "outputs": [],
   "source": [
    "app_train_bureau_CC = app_train_and_bureau.merge(\n",
    "    credit_card_balance_all, on=\"SK_ID_CURR\", how=\"left\"\n",
    ")\n",
    "\n",
    "app_test_bureau_CC = app_test_and_bureau.merge(\n",
    "    credit_card_balance_all, on=\"SK_ID_CURR\", how=\"left\"\n",
    ")"
   ]
  },
  {
   "cell_type": "code",
   "execution_count": 38,
   "metadata": {},
   "outputs": [],
   "source": [
    "app_train_bureau_POS_CC = app_train_bureau_POS.merge(\n",
    "    credit_card_balance_all, on=\"SK_ID_CURR\", how=\"left\"\n",
    ")\n",
    "\n",
    "app_test_bureau_POS_CC = app_test_bureau_POS.merge(\n",
    "    credit_card_balance_all, on=\"SK_ID_CURR\", how=\"left\"\n",
    ")"
   ]
  },
  {
   "cell_type": "markdown",
   "metadata": {},
   "source": [
    "CC balance at some cases had great results, while on other trials were mostly neutral."
   ]
  },
  {
   "cell_type": "markdown",
   "metadata": {},
   "source": [
    "#### Previous application's info"
   ]
  },
  {
   "cell_type": "code",
   "execution_count": 39,
   "metadata": {},
   "outputs": [],
   "source": [
    "le = LabelEncoder()\n",
    "previous_application[[\"FLAG_LAST_APPL_PER_CONTRACT\"]] = previous_application[\n",
    "    [\"FLAG_LAST_APPL_PER_CONTRACT\"]\n",
    "].apply(lambda col: le.fit_transform(col.astype(str)), axis=0, result_type=\"expand\")"
   ]
  },
  {
   "cell_type": "code",
   "execution_count": 41,
   "metadata": {},
   "outputs": [],
   "source": [
    "features_to_other = [\n",
    "    \"NAME_CASH_LOAN_PURPOSE\",\n",
    "    \"NAME_GOODS_CATEGORY\",\n",
    "    \"NAME_SELLER_INDUSTRY\",\n",
    "]\n",
    "previous_app_upd_feat = change_to_other(previous_application, features_to_other, 10000)"
   ]
  },
  {
   "cell_type": "code",
   "execution_count": 42,
   "metadata": {},
   "outputs": [],
   "source": [
    "previous_app_imputed = DataFrameImputer().fit_transform(previous_app_upd_feat)\n",
    "previous_app_imputed_enc = pd.get_dummies(\n",
    "    previous_app_imputed, drop_first=True\n",
    ")"
   ]
  },
  {
   "cell_type": "code",
   "execution_count": 43,
   "metadata": {},
   "outputs": [],
   "source": [
    "previous_app_imputed_numeric = previous_app_imputed.select_dtypes(\n",
    "    include=[\"int64\", \"float64\"]\n",
    ")"
   ]
  },
  {
   "cell_type": "code",
   "execution_count": 44,
   "metadata": {},
   "outputs": [],
   "source": [
    "previous_app_imputed_cat = previous_app_imputed.select_dtypes(\n",
    "    exclude=[\"int64\", \"float64\"]\n",
    ")\n",
    "previous_app_imputed_cat_enc = pd.get_dummies(previous_app_imputed_cat)"
   ]
  },
  {
   "cell_type": "code",
   "execution_count": 45,
   "metadata": {},
   "outputs": [],
   "source": [
    "features_to_sum = [\n",
    "    \"AMT_ANNUITY\",\n",
    "    \"AMT_APPLICATION\",\n",
    "    \"AMT_CREDIT\",\n",
    "    \"AMT_DOWN_PAYMENT\",\n",
    "    \"AMT_GOODS_PRICE\",\n",
    "    \"NFLAG_INSURED_ON_APPROVAL\",\n",
    "]"
   ]
  },
  {
   "cell_type": "code",
   "execution_count": 46,
   "metadata": {},
   "outputs": [],
   "source": [
    "previous_app_to_sum = previous_app_imputed_numeric[features_to_sum]\n",
    "previous_app_to_sum[\"SK_ID_CURR\"] = previous_app_imputed_numeric[\"SK_ID_CURR\"]"
   ]
  },
  {
   "cell_type": "code",
   "execution_count": 47,
   "metadata": {},
   "outputs": [],
   "source": [
    "previous_app_sum = pd.concat(\n",
    "    [previous_app_imputed_cat_enc, previous_app_to_sum], axis=1\n",
    ")"
   ]
  },
  {
   "cell_type": "code",
   "execution_count": 48,
   "metadata": {},
   "outputs": [],
   "source": [
    "previous_app_grouped_sum = previous_app_sum.groupby(\n",
    "    by=previous_app_sum.SK_ID_CURR\n",
    ").sum()"
   ]
  },
  {
   "cell_type": "code",
   "execution_count": 49,
   "metadata": {},
   "outputs": [],
   "source": [
    "previous_app_to_mean = previous_app_imputed_numeric.drop(features_to_sum, axis=1)\n",
    "previous_app_to_mean = previous_app_to_mean.drop([\"SK_ID_PREV\"], axis=1)"
   ]
  },
  {
   "cell_type": "code",
   "execution_count": 50,
   "metadata": {},
   "outputs": [],
   "source": [
    "previous_app_grouped_mean = previous_app_to_mean.groupby(\n",
    "    by=previous_app_to_mean.SK_ID_CURR\n",
    ").mean()"
   ]
  },
  {
   "cell_type": "code",
   "execution_count": 51,
   "metadata": {},
   "outputs": [],
   "source": [
    "previous_app_all = pd.concat(\n",
    "    [previous_app_grouped_mean, previous_app_grouped_sum], axis=1\n",
    ")"
   ]
  },
  {
   "cell_type": "code",
   "execution_count": 52,
   "metadata": {},
   "outputs": [],
   "source": [
    "app_train_bureau_previous_app = app_train_and_bureau.merge(\n",
    "    previous_app_all, on=\"SK_ID_CURR\", how=\"left\"\n",
    ")"
   ]
  },
  {
   "cell_type": "code",
   "execution_count": 53,
   "metadata": {},
   "outputs": [],
   "source": [
    "app_train_bureau_CC_previous_app = app_train_bureau_CC.merge(\n",
    "    previous_app_all, on=\"SK_ID_CURR\", how=\"left\"\n",
    ")"
   ]
  },
  {
   "cell_type": "code",
   "execution_count": 54,
   "metadata": {},
   "outputs": [],
   "source": [
    "app_train_bureau_POS_CC_previous_app = app_train_bureau_POS_CC.merge(\n",
    "    previous_app_all, on=\"SK_ID_CURR\", how=\"left\"\n",
    ")"
   ]
  },
  {
   "cell_type": "code",
   "execution_count": 55,
   "metadata": {},
   "outputs": [],
   "source": [
    "app_test_bureau_previous_app = app_test_and_bureau.merge(\n",
    "    previous_app_all, on=\"SK_ID_CURR\", how=\"left\"\n",
    ")\n",
    "app_test_bureau_CC_previous_app = app_test_bureau_CC.merge(\n",
    "    previous_app_all, on=\"SK_ID_CURR\", how=\"left\"\n",
    ")\n",
    "app_test_bureau_POS_CC_previous_app = app_test_bureau_POS_CC.merge(\n",
    "    previous_app_all, on=\"SK_ID_CURR\", how=\"left\"\n",
    ")"
   ]
  },
  {
   "cell_type": "markdown",
   "metadata": {},
   "source": [
    "Previous application's info increased accuracy of all models. "
   ]
  },
  {
   "cell_type": "markdown",
   "metadata": {},
   "source": [
    "#### Installments_payments_all"
   ]
  },
  {
   "cell_type": "code",
   "execution_count": 56,
   "metadata": {},
   "outputs": [],
   "source": [
    "installments_payments_to_sum = installments_payments[\n",
    "    [\"SK_ID_CURR\", \"AMT_INSTALMENT\", \"AMT_PAYMENT\"]\n",
    "]\n",
    "installments_payments_to_mean = installments_payments.drop(\n",
    "    [\"AMT_INSTALMENT\", \"AMT_PAYMENT\", \"SK_ID_PREV\"], axis=1\n",
    ")"
   ]
  },
  {
   "cell_type": "code",
   "execution_count": 57,
   "metadata": {},
   "outputs": [],
   "source": [
    "installments_payments_sum = installments_payments_to_sum.groupby(\n",
    "    by=installments_payments_to_sum.SK_ID_CURR\n",
    ").sum()"
   ]
  },
  {
   "cell_type": "code",
   "execution_count": 58,
   "metadata": {},
   "outputs": [],
   "source": [
    "installments_payments_mean = installments_payments_to_mean.groupby(\n",
    "    by=installments_payments_to_mean.SK_ID_CURR\n",
    ").mean()"
   ]
  },
  {
   "cell_type": "code",
   "execution_count": 59,
   "metadata": {},
   "outputs": [],
   "source": [
    "installments_payments_all = pd.concat(\n",
    "    [installments_payments_sum, installments_payments_mean], axis=1\n",
    ")\n",
    "installments_payments_all = DataFrameImputer().fit_transform(installments_payments_all)"
   ]
  },
  {
   "cell_type": "code",
   "execution_count": 60,
   "metadata": {},
   "outputs": [],
   "source": [
    "app_train_bureau_install = app_train_and_bureau.merge(\n",
    "    installments_payments_all, on=\"SK_ID_CURR\", how=\"left\"\n",
    ")"
   ]
  },
  {
   "cell_type": "code",
   "execution_count": 61,
   "metadata": {},
   "outputs": [],
   "source": [
    "app_train_bureau_previous_app_install = app_train_bureau_previous_app.merge(\n",
    "    installments_payments_all, on=\"SK_ID_CURR\", how=\"left\"\n",
    ")"
   ]
  },
  {
   "cell_type": "code",
   "execution_count": 62,
   "metadata": {},
   "outputs": [],
   "source": [
    "app_train_bureau_POS_install = app_train_bureau_POS.merge(\n",
    "    installments_payments_all, on=\"SK_ID_CURR\", how=\"left\"\n",
    ")"
   ]
  },
  {
   "cell_type": "code",
   "execution_count": 63,
   "metadata": {},
   "outputs": [],
   "source": [
    "app_train_bureau_CC_install = app_train_bureau_CC.merge(\n",
    "    installments_payments_all, on=\"SK_ID_CURR\", how=\"left\"\n",
    ")"
   ]
  },
  {
   "cell_type": "code",
   "execution_count": 64,
   "metadata": {},
   "outputs": [],
   "source": [
    "all_files = app_train_bureau_POS_CC_previous_app.merge(\n",
    "    installments_payments_all, on=\"SK_ID_CURR\", how=\"left\"\n",
    ")"
   ]
  },
  {
   "cell_type": "code",
   "execution_count": 65,
   "metadata": {},
   "outputs": [],
   "source": [
    "all_files = all_files.fillna(0)"
   ]
  },
  {
   "cell_type": "code",
   "execution_count": 66,
   "metadata": {},
   "outputs": [],
   "source": [
    "app_test_bureau_install = app_test_and_bureau.merge(\n",
    "    installments_payments_all, on=\"SK_ID_CURR\", how=\"left\"\n",
    ")\n",
    "app_test_bureau_previous_app_install = app_test_bureau_previous_app.merge(\n",
    "    installments_payments_all, on=\"SK_ID_CURR\", how=\"left\"\n",
    ")\n",
    "app_test_bureau_POS_install = app_test_bureau_POS.merge(\n",
    "    installments_payments_all, on=\"SK_ID_CURR\", how=\"left\"\n",
    ")\n",
    "app_test_bureau_CC_install = app_test_bureau_CC.merge(\n",
    "    installments_payments_all, on=\"SK_ID_CURR\", how=\"left\"\n",
    ")\n",
    "all_test_files = app_test_bureau_POS_CC_previous_app.merge(\n",
    "    installments_payments_all, on=\"SK_ID_CURR\", how=\"left\"\n",
    ")"
   ]
  },
  {
   "cell_type": "code",
   "execution_count": 67,
   "metadata": {
    "scrolled": true
   },
   "outputs": [],
   "source": [
    "all_test_files = all_test_files.fillna(0)"
   ]
  },
  {
   "cell_type": "code",
   "execution_count": 68,
   "metadata": {},
   "outputs": [],
   "source": [
    "all_test_files_no_housing = all_test_files.drop(housing_info, axis=1)"
   ]
  },
  {
   "cell_type": "markdown",
   "metadata": {},
   "source": [
    "Taking the file \"Installments_payments_all\" alone, results were vey ambiguous - some models increased their score, while others dropped. Nevertheless, all files seems to be giving great results, so this file could be useful. "
   ]
  },
  {
   "cell_type": "markdown",
   "metadata": {},
   "source": [
    "## Modelling"
   ]
  },
  {
   "cell_type": "markdown",
   "metadata": {},
   "source": [
    "### Preparation"
   ]
  },
  {
   "cell_type": "markdown",
   "metadata": {},
   "source": [
    "#### Naming and preparing dataframes"
   ]
  },
  {
   "cell_type": "markdown",
   "metadata": {},
   "source": [
    "According to the intermediate results table, the best dataframes were: "
   ]
  },
  {
   "cell_type": "code",
   "execution_count": 72,
   "metadata": {},
   "outputs": [],
   "source": [
    "app_train_bureau_CC_no_housing = app_train_bureau_CC.drop(housing_info, axis=1)\n",
    "app_train_bureau_CC_no_housing.name = \"bureau, CC, no housing\"\n",
    "\n",
    "app_train_bureau_app_no_housing = app_train_bureau_previous_app.drop(\n",
    "    housing_info, axis=1\n",
    ")\n",
    "app_train_bureau_app_no_housing.name = \"bureau, app, no housing\"\n",
    "\n",
    "app_train_bureau_POS_CC.name = \"bureau, CC and POS\"\n",
    "\n",
    "app_train_bureau_CC_previous_app.name = \"bureau, CC and app\"\n",
    "\n",
    "app_train_bureau_CC_install.name = \"bureau, CC and installment\"\n",
    "\n",
    "app_train_bureau_CC_install_no_housing = app_train_bureau_CC_install.drop(\n",
    "    housing_info, axis=1\n",
    ")\n",
    "app_train_bureau_CC_install_no_housing.name = \"bureau, CC and installment, no housing\"\n",
    "\n",
    "all_files.name = \"all files\"\n",
    "\n",
    "all_files_no_housing = all_files.drop(housing_info, axis=1)\n",
    "all_files_no_housing.name = \"all files, no housing\""
   ]
  },
  {
   "cell_type": "code",
   "execution_count": 134,
   "metadata": {},
   "outputs": [],
   "source": [
    "best_dataframes = [\n",
    "    app_train_bureau_CC_no_housing,\n",
    "    app_train_bureau_app_no_housing,\n",
    "    app_train_bureau_POS_CC,\n",
    "    app_train_bureau_CC_previous_app,\n",
    "    app_train_bureau_CC_install,\n",
    "    app_train_bureau_CC_install_no_housing,\n",
    "    all_files,\n",
    "    all_files_no_housing,\n",
    "]"
   ]
  },
  {
   "cell_type": "markdown",
   "metadata": {},
   "source": [
    "#### Naming and setting base hyperparameters for models"
   ]
  },
  {
   "cell_type": "code",
   "execution_count": 202,
   "metadata": {},
   "outputs": [],
   "source": [
    "lgb = LGBMClassifier(random_state=RANDOM, objective=\"binary\", verbose=-1)\n",
    "# LGBMClassifier does not have an attribute name\n",
    "lgb.name = \"LightGBM\"\n",
    "\n",
    "xgb = XGBClassifier(random_state=RANDOM, verbosity=0, nthread=4)\n",
    "xgb.name = \"XGB\"\n",
    "\n",
    "cbc = CatBoostClassifier(random_state=RANDOM, verbose=0)\n",
    "cbc.name = \"CatBoost\"\n",
    "\n",
    "models = [lgb, xgb, cbc]"
   ]
  },
  {
   "cell_type": "markdown",
   "metadata": {},
   "source": [
    "#### Creating hyperparameters dictionaries for tuning"
   ]
  },
  {
   "cell_type": "code",
   "execution_count": 119,
   "metadata": {},
   "outputs": [],
   "source": [
    "xgb_params = dict(\n",
    "    model__max_depth=list(range(2, 6)),\n",
    "    model__min_child_weight=list(range(1, 20)),\n",
    "    model__subsample=[0.5, 0.6, 0.7, 0.8, 0.9],\n",
    "    model__gamma=[0, 0.05, 0.1, 0.15, 0.2, 0.25, 0.3, 0.35, 0.4, 0.45, 0.5],\n",
    "    model__colsample_bytree=[0.4, 0.5, 0.6, 0.7, 0.8, 0.9, 1],\n",
    "    model__reg_lambda=[0, 0.5, 1, 1.5, 2, 2.5, 3, 3.5, 4],\n",
    "    model__reg_alpha=[1e-5, 1e-2, 0.1, 1, 100],\n",
    "    model__learning_rate=[0.01, 0.02, 0.03, 0.05, 0.07, 0.1, 0.13, 0.16, 0.19],\n",
    "    model__n_estimators=[100, 200, 300, 400, 500, 600, 700, 800, 900, 1000, 2000],\n",
    ")"
   ]
  },
  {
   "cell_type": "code",
   "execution_count": 146,
   "metadata": {},
   "outputs": [],
   "source": [
    "lgb_params = dict(\n",
    "    model__max_depth=list(range(2, 6)),\n",
    "    model__num_leaves=[6, 8, 12, 16, 32, 48, 100, 130, 150, 180, 200],\n",
    "    model__min_data_in_leaf=[5, 10, 25, 50, 75, 100, 150],\n",
    "    model__feature_fraction=[0.1, 0.2, 0.3, 0.4, 0.5, 0.6, 0.7, 0.8, 0.9, 1.0],\n",
    "    model__subsample=[0.5, 0.6, 0.7, 0.8, 0.9],\n",
    "    model__learning_rate=[0.01, 0.02, 0.03, 0.05, 0.07, 0.1, 0.13, 0.16, 0.19],\n",
    "    model__n_estimators=[200, 300, 500, 700],\n",
    ")"
   ]
  },
  {
   "cell_type": "code",
   "execution_count": 121,
   "metadata": {},
   "outputs": [],
   "source": [
    "cbc_params = dict(\n",
    "    model__learning_rate=[0.01, 0.02, 0.03, 0.05, 0.07, 0.1, 0.13, 0.16, 0.19],\n",
    "    model__max_depth=list(range(2, 6)),\n",
    "    model__subsample=[0.5, 0.6, 0.7, 0.8, 0.9],\n",
    "    model__n_estimators=[200, 300, 500, 700]\n",
    ")"
   ]
  },
  {
   "cell_type": "markdown",
   "metadata": {},
   "source": [
    "#### Calculating results"
   ]
  },
  {
   "cell_type": "code",
   "execution_count": 212,
   "metadata": {},
   "outputs": [
    {
     "data": {
      "text/html": [
       "<div>\n",
       "<style scoped>\n",
       "    .dataframe tbody tr th:only-of-type {\n",
       "        vertical-align: middle;\n",
       "    }\n",
       "\n",
       "    .dataframe tbody tr th {\n",
       "        vertical-align: top;\n",
       "    }\n",
       "\n",
       "    .dataframe thead th {\n",
       "        text-align: right;\n",
       "    }\n",
       "</style>\n",
       "<table border=\"1\" class=\"dataframe\">\n",
       "  <thead>\n",
       "    <tr style=\"text-align: right;\">\n",
       "      <th></th>\n",
       "      <th>best_params</th>\n",
       "      <th>dataframe</th>\n",
       "      <th>model</th>\n",
       "      <th>time</th>\n",
       "      <th>training score</th>\n",
       "      <th>validation score</th>\n",
       "    </tr>\n",
       "  </thead>\n",
       "  <tbody>\n",
       "    <tr>\n",
       "      <th>23</th>\n",
       "      <td>{'model__subsample': 0.9, 'model__n_estimators...</td>\n",
       "      <td>all files, no housing</td>\n",
       "      <td>&lt;catboost.core.CatBoostClassifier object at 0x...</td>\n",
       "      <td>3.3571</td>\n",
       "      <td>0.879</td>\n",
       "      <td>0.811</td>\n",
       "    </tr>\n",
       "    <tr>\n",
       "      <th>17</th>\n",
       "      <td>{'model__subsample': 0.9, 'model__n_estimators...</td>\n",
       "      <td>bureau, CC and installment, no housing</td>\n",
       "      <td>&lt;catboost.core.CatBoostClassifier object at 0x...</td>\n",
       "      <td>2.3152</td>\n",
       "      <td>0.877</td>\n",
       "      <td>0.801</td>\n",
       "    </tr>\n",
       "    <tr>\n",
       "      <th>20</th>\n",
       "      <td>{'model__subsample': 0.9, 'model__n_estimators...</td>\n",
       "      <td>all files</td>\n",
       "      <td>&lt;catboost.core.CatBoostClassifier object at 0x...</td>\n",
       "      <td>4.0779</td>\n",
       "      <td>0.879</td>\n",
       "      <td>0.799</td>\n",
       "    </tr>\n",
       "    <tr>\n",
       "      <th>5</th>\n",
       "      <td>{'model__subsample': 0.9, 'model__n_estimators...</td>\n",
       "      <td>bureau, app, no housing</td>\n",
       "      <td>&lt;catboost.core.CatBoostClassifier object at 0x...</td>\n",
       "      <td>2.9332</td>\n",
       "      <td>0.863</td>\n",
       "      <td>0.797</td>\n",
       "    </tr>\n",
       "    <tr>\n",
       "      <th>21</th>\n",
       "      <td>{'model__subsample': 0.7, 'model__num_leaves':...</td>\n",
       "      <td>all files, no housing</td>\n",
       "      <td>LGBMClassifier(objective='binary', random_stat...</td>\n",
       "      <td>0.3008</td>\n",
       "      <td>0.841</td>\n",
       "      <td>0.793</td>\n",
       "    </tr>\n",
       "    <tr>\n",
       "      <th>2</th>\n",
       "      <td>{'model__subsample': 0.9, 'model__n_estimators...</td>\n",
       "      <td>bureau, CC, no housing</td>\n",
       "      <td>&lt;catboost.core.CatBoostClassifier object at 0x...</td>\n",
       "      <td>3.0429</td>\n",
       "      <td>0.871</td>\n",
       "      <td>0.791</td>\n",
       "    </tr>\n",
       "    <tr>\n",
       "      <th>18</th>\n",
       "      <td>{'model__subsample': 0.7, 'model__num_leaves':...</td>\n",
       "      <td>all files</td>\n",
       "      <td>LGBMClassifier(objective='binary', random_stat...</td>\n",
       "      <td>0.3528</td>\n",
       "      <td>0.842</td>\n",
       "      <td>0.791</td>\n",
       "    </tr>\n",
       "    <tr>\n",
       "      <th>11</th>\n",
       "      <td>{'model__subsample': 0.9, 'model__n_estimators...</td>\n",
       "      <td>bureau, CC and app</td>\n",
       "      <td>&lt;catboost.core.CatBoostClassifier object at 0x...</td>\n",
       "      <td>3.6597</td>\n",
       "      <td>0.871</td>\n",
       "      <td>0.788</td>\n",
       "    </tr>\n",
       "    <tr>\n",
       "      <th>8</th>\n",
       "      <td>{'model__subsample': 0.5, 'model__n_estimators...</td>\n",
       "      <td>bureau, CC and POS</td>\n",
       "      <td>&lt;catboost.core.CatBoostClassifier object at 0x...</td>\n",
       "      <td>2.7971</td>\n",
       "      <td>0.914</td>\n",
       "      <td>0.786</td>\n",
       "    </tr>\n",
       "    <tr>\n",
       "      <th>12</th>\n",
       "      <td>{'model__subsample': 0.8, 'model__num_leaves':...</td>\n",
       "      <td>bureau, CC and installment</td>\n",
       "      <td>LGBMClassifier(objective='binary', random_stat...</td>\n",
       "      <td>0.3617</td>\n",
       "      <td>0.929</td>\n",
       "      <td>0.784</td>\n",
       "    </tr>\n",
       "    <tr>\n",
       "      <th>15</th>\n",
       "      <td>{'model__subsample': 0.8, 'model__num_leaves':...</td>\n",
       "      <td>bureau, CC and installment, no housing</td>\n",
       "      <td>LGBMClassifier(objective='binary', random_stat...</td>\n",
       "      <td>0.2684</td>\n",
       "      <td>0.925</td>\n",
       "      <td>0.782</td>\n",
       "    </tr>\n",
       "    <tr>\n",
       "      <th>3</th>\n",
       "      <td>{'model__subsample': 0.7, 'model__num_leaves':...</td>\n",
       "      <td>bureau, app, no housing</td>\n",
       "      <td>LGBMClassifier(objective='binary', random_stat...</td>\n",
       "      <td>0.2834</td>\n",
       "      <td>0.832</td>\n",
       "      <td>0.782</td>\n",
       "    </tr>\n",
       "    <tr>\n",
       "      <th>6</th>\n",
       "      <td>{'model__subsample': 0.8, 'model__num_leaves':...</td>\n",
       "      <td>bureau, CC and POS</td>\n",
       "      <td>LGBMClassifier(objective='binary', random_stat...</td>\n",
       "      <td>0.2843</td>\n",
       "      <td>0.928</td>\n",
       "      <td>0.781</td>\n",
       "    </tr>\n",
       "    <tr>\n",
       "      <th>9</th>\n",
       "      <td>{'model__subsample': 0.5, 'model__num_leaves':...</td>\n",
       "      <td>bureau, CC and app</td>\n",
       "      <td>LGBMClassifier(objective='binary', random_stat...</td>\n",
       "      <td>0.5339</td>\n",
       "      <td>0.998</td>\n",
       "      <td>0.779</td>\n",
       "    </tr>\n",
       "    <tr>\n",
       "      <th>0</th>\n",
       "      <td>{'model__subsample': 0.8, 'model__num_leaves':...</td>\n",
       "      <td>bureau, CC, no housing</td>\n",
       "      <td>LGBMClassifier(objective='binary', random_stat...</td>\n",
       "      <td>0.3063</td>\n",
       "      <td>0.920</td>\n",
       "      <td>0.776</td>\n",
       "    </tr>\n",
       "    <tr>\n",
       "      <th>14</th>\n",
       "      <td>{'model__subsample': 0.8, 'model__n_estimators...</td>\n",
       "      <td>bureau, CC and installment</td>\n",
       "      <td>&lt;catboost.core.CatBoostClassifier object at 0x...</td>\n",
       "      <td>2.0150</td>\n",
       "      <td>0.993</td>\n",
       "      <td>0.771</td>\n",
       "    </tr>\n",
       "    <tr>\n",
       "      <th>16</th>\n",
       "      <td>{'model__subsample': 0.7, 'model__reg_lambda':...</td>\n",
       "      <td>bureau, CC and installment, no housing</td>\n",
       "      <td>XGBClassifier(base_score=None, booster=None, c...</td>\n",
       "      <td>4.8651</td>\n",
       "      <td>1.000</td>\n",
       "      <td>0.723</td>\n",
       "    </tr>\n",
       "    <tr>\n",
       "      <th>4</th>\n",
       "      <td>{'model__subsample': 0.7, 'model__reg_lambda':...</td>\n",
       "      <td>bureau, app, no housing</td>\n",
       "      <td>XGBClassifier(base_score=None, booster=None, c...</td>\n",
       "      <td>2.9745</td>\n",
       "      <td>0.689</td>\n",
       "      <td>0.715</td>\n",
       "    </tr>\n",
       "    <tr>\n",
       "      <th>10</th>\n",
       "      <td>{'model__subsample': 0.7, 'model__reg_lambda':...</td>\n",
       "      <td>bureau, CC and app</td>\n",
       "      <td>XGBClassifier(base_score=None, booster=None, c...</td>\n",
       "      <td>3.4507</td>\n",
       "      <td>0.700</td>\n",
       "      <td>0.693</td>\n",
       "    </tr>\n",
       "    <tr>\n",
       "      <th>1</th>\n",
       "      <td>{'model__subsample': 0.7, 'model__reg_lambda':...</td>\n",
       "      <td>bureau, CC, no housing</td>\n",
       "      <td>XGBClassifier(base_score=None, booster=None, c...</td>\n",
       "      <td>1.4830</td>\n",
       "      <td>0.676</td>\n",
       "      <td>0.686</td>\n",
       "    </tr>\n",
       "    <tr>\n",
       "      <th>22</th>\n",
       "      <td>{'model__subsample': 0.7, 'model__reg_lambda':...</td>\n",
       "      <td>all files, no housing</td>\n",
       "      <td>XGBClassifier(base_score=None, booster=None, c...</td>\n",
       "      <td>3.2277</td>\n",
       "      <td>0.704</td>\n",
       "      <td>0.684</td>\n",
       "    </tr>\n",
       "    <tr>\n",
       "      <th>13</th>\n",
       "      <td>{'model__subsample': 0.7, 'model__reg_lambda':...</td>\n",
       "      <td>bureau, CC and installment</td>\n",
       "      <td>XGBClassifier(base_score=None, booster=None, c...</td>\n",
       "      <td>1.7811</td>\n",
       "      <td>0.696</td>\n",
       "      <td>0.680</td>\n",
       "    </tr>\n",
       "    <tr>\n",
       "      <th>7</th>\n",
       "      <td>{'model__subsample': 0.7, 'model__reg_lambda':...</td>\n",
       "      <td>bureau, CC and POS</td>\n",
       "      <td>XGBClassifier(base_score=None, booster=None, c...</td>\n",
       "      <td>2.2140</td>\n",
       "      <td>0.680</td>\n",
       "      <td>0.680</td>\n",
       "    </tr>\n",
       "    <tr>\n",
       "      <th>19</th>\n",
       "      <td>{'model__subsample': 0.7, 'model__reg_lambda':...</td>\n",
       "      <td>all files</td>\n",
       "      <td>XGBClassifier(base_score=None, booster=None, c...</td>\n",
       "      <td>3.4960</td>\n",
       "      <td>0.704</td>\n",
       "      <td>0.680</td>\n",
       "    </tr>\n",
       "  </tbody>\n",
       "</table>\n",
       "</div>"
      ],
      "text/plain": [
       "                                          best_params  \\\n",
       "23  {'model__subsample': 0.9, 'model__n_estimators...   \n",
       "17  {'model__subsample': 0.9, 'model__n_estimators...   \n",
       "20  {'model__subsample': 0.9, 'model__n_estimators...   \n",
       "5   {'model__subsample': 0.9, 'model__n_estimators...   \n",
       "21  {'model__subsample': 0.7, 'model__num_leaves':...   \n",
       "2   {'model__subsample': 0.9, 'model__n_estimators...   \n",
       "18  {'model__subsample': 0.7, 'model__num_leaves':...   \n",
       "11  {'model__subsample': 0.9, 'model__n_estimators...   \n",
       "8   {'model__subsample': 0.5, 'model__n_estimators...   \n",
       "12  {'model__subsample': 0.8, 'model__num_leaves':...   \n",
       "15  {'model__subsample': 0.8, 'model__num_leaves':...   \n",
       "3   {'model__subsample': 0.7, 'model__num_leaves':...   \n",
       "6   {'model__subsample': 0.8, 'model__num_leaves':...   \n",
       "9   {'model__subsample': 0.5, 'model__num_leaves':...   \n",
       "0   {'model__subsample': 0.8, 'model__num_leaves':...   \n",
       "14  {'model__subsample': 0.8, 'model__n_estimators...   \n",
       "16  {'model__subsample': 0.7, 'model__reg_lambda':...   \n",
       "4   {'model__subsample': 0.7, 'model__reg_lambda':...   \n",
       "10  {'model__subsample': 0.7, 'model__reg_lambda':...   \n",
       "1   {'model__subsample': 0.7, 'model__reg_lambda':...   \n",
       "22  {'model__subsample': 0.7, 'model__reg_lambda':...   \n",
       "13  {'model__subsample': 0.7, 'model__reg_lambda':...   \n",
       "7   {'model__subsample': 0.7, 'model__reg_lambda':...   \n",
       "19  {'model__subsample': 0.7, 'model__reg_lambda':...   \n",
       "\n",
       "                                 dataframe  \\\n",
       "23                   all files, no housing   \n",
       "17  bureau, CC and installment, no housing   \n",
       "20                               all files   \n",
       "5                  bureau, app, no housing   \n",
       "21                   all files, no housing   \n",
       "2                   bureau, CC, no housing   \n",
       "18                               all files   \n",
       "11                      bureau, CC and app   \n",
       "8                       bureau, CC and POS   \n",
       "12              bureau, CC and installment   \n",
       "15  bureau, CC and installment, no housing   \n",
       "3                  bureau, app, no housing   \n",
       "6                       bureau, CC and POS   \n",
       "9                       bureau, CC and app   \n",
       "0                   bureau, CC, no housing   \n",
       "14              bureau, CC and installment   \n",
       "16  bureau, CC and installment, no housing   \n",
       "4                  bureau, app, no housing   \n",
       "10                      bureau, CC and app   \n",
       "1                   bureau, CC, no housing   \n",
       "22                   all files, no housing   \n",
       "13              bureau, CC and installment   \n",
       "7                       bureau, CC and POS   \n",
       "19                               all files   \n",
       "\n",
       "                                                model    time  training score  \\\n",
       "23  <catboost.core.CatBoostClassifier object at 0x...  3.3571           0.879   \n",
       "17  <catboost.core.CatBoostClassifier object at 0x...  2.3152           0.877   \n",
       "20  <catboost.core.CatBoostClassifier object at 0x...  4.0779           0.879   \n",
       "5   <catboost.core.CatBoostClassifier object at 0x...  2.9332           0.863   \n",
       "21  LGBMClassifier(objective='binary', random_stat...  0.3008           0.841   \n",
       "2   <catboost.core.CatBoostClassifier object at 0x...  3.0429           0.871   \n",
       "18  LGBMClassifier(objective='binary', random_stat...  0.3528           0.842   \n",
       "11  <catboost.core.CatBoostClassifier object at 0x...  3.6597           0.871   \n",
       "8   <catboost.core.CatBoostClassifier object at 0x...  2.7971           0.914   \n",
       "12  LGBMClassifier(objective='binary', random_stat...  0.3617           0.929   \n",
       "15  LGBMClassifier(objective='binary', random_stat...  0.2684           0.925   \n",
       "3   LGBMClassifier(objective='binary', random_stat...  0.2834           0.832   \n",
       "6   LGBMClassifier(objective='binary', random_stat...  0.2843           0.928   \n",
       "9   LGBMClassifier(objective='binary', random_stat...  0.5339           0.998   \n",
       "0   LGBMClassifier(objective='binary', random_stat...  0.3063           0.920   \n",
       "14  <catboost.core.CatBoostClassifier object at 0x...  2.0150           0.993   \n",
       "16  XGBClassifier(base_score=None, booster=None, c...  4.8651           1.000   \n",
       "4   XGBClassifier(base_score=None, booster=None, c...  2.9745           0.689   \n",
       "10  XGBClassifier(base_score=None, booster=None, c...  3.4507           0.700   \n",
       "1   XGBClassifier(base_score=None, booster=None, c...  1.4830           0.676   \n",
       "22  XGBClassifier(base_score=None, booster=None, c...  3.2277           0.704   \n",
       "13  XGBClassifier(base_score=None, booster=None, c...  1.7811           0.696   \n",
       "7   XGBClassifier(base_score=None, booster=None, c...  2.2140           0.680   \n",
       "19  XGBClassifier(base_score=None, booster=None, c...  3.4960           0.704   \n",
       "\n",
       "    validation score  \n",
       "23             0.811  \n",
       "17             0.801  \n",
       "20             0.799  \n",
       "5              0.797  \n",
       "21             0.793  \n",
       "2              0.791  \n",
       "18             0.791  \n",
       "11             0.788  \n",
       "8              0.786  \n",
       "12             0.784  \n",
       "15             0.782  \n",
       "3              0.782  \n",
       "6              0.781  \n",
       "9              0.779  \n",
       "0              0.776  \n",
       "14             0.771  \n",
       "16             0.723  \n",
       "4              0.715  \n",
       "10             0.693  \n",
       "1              0.686  \n",
       "22             0.684  \n",
       "13             0.680  \n",
       "7              0.680  \n",
       "19             0.680  "
      ]
     },
     "execution_count": 212,
     "metadata": {},
     "output_type": "execute_result"
    }
   ],
   "source": [
    "# results = check_dataframes(best_dataframes, models)\n",
    "# results.to_csv(\"modeling_results.csv\")\n",
    "modeling_results = pd.read_csv(\"modeling_results.csv\")\n",
    "modeling_results = modeling_results.drop([\"Unnamed: 0\"], axis=1)\n",
    "modeling_results.sort_values(by=\"validation score\", ascending=False)"
   ]
  },
  {
   "cell_type": "markdown",
   "metadata": {},
   "source": [
    "XGBClassifier results were unexpectedly bad. It seems that randomized search CV failed to find the best parameters because manual testings brings much better results, e.g.: "
   ]
  },
  {
   "cell_type": "code",
   "execution_count": 274,
   "metadata": {},
   "outputs": [],
   "source": [
    "train_sample = app_train_bureau_POS_CC.sample(frac=0.01, replace=True, random_state=42)\n",
    "features_list = list(train_sample.columns[2:])\n",
    "\n",
    "X = train_sample[train_sample.columns[2:]].values\n",
    "y = train_sample[\"TARGET\"].to_numpy()"
   ]
  },
  {
   "cell_type": "code",
   "execution_count": 275,
   "metadata": {},
   "outputs": [],
   "source": [
    "X_train, X_test, y_train, y_test = train_test_split(\n",
    "    X, y, test_size=0.2, random_state=RANDOM\n",
    ")\n",
    "\n",
    "scaler = StandardScaler()\n",
    "X_train = scaler.fit_transform(X_train)\n",
    "X_test = scaler.transform(X_test)"
   ]
  },
  {
   "cell_type": "code",
   "execution_count": 276,
   "metadata": {},
   "outputs": [
    {
     "name": "stdout",
     "output_type": "stream",
     "text": [
      "Training mean squared error is 0.9409344126343115\n",
      "Validation mean squared error is 0.7987797086634295\n"
     ]
    }
   ],
   "source": [
    "# app_train_bureau_POS_CC dataframe\n",
    "\n",
    "xgb = XGBClassifier(\n",
    "    verbosity=0,\n",
    "    nthread=4,\n",
    "    colsample_bytree=0.4,\n",
    "    gamma=0.25,\n",
    "    learning_rate=0.01,\n",
    "    max_depth=4,\n",
    "    min_child_weight=3,\n",
    "    n_estimators=500,\n",
    "    reg_alpha=1e-05,\n",
    "    reg_lambda=1.5,\n",
    "    subsample=0.5,\n",
    ")\n",
    "\n",
    "xgb.fit(X_train, y_train)\n",
    "y_pred_train = xgb.predict_proba(X_train)\n",
    "y_pred = xgb.predict_proba(X_test)\n",
    "\n",
    "print(\"Training ROC AUC score is\", roc_auc_score(y_train, y_pred_train[:, 1]))\n",
    "print(\"Validation ROC AUC score is\", roc_auc_score(y_test, y_pred[:, 1]))"
   ]
  },
  {
   "cell_type": "code",
   "execution_count": 277,
   "metadata": {},
   "outputs": [],
   "source": [
    "app_bureau_POS_CC_model_data = app_train_bureau_POS_CC.drop(\n",
    "    [\"SK_ID_CURR\", \"TARGET\"], axis=1\n",
    ")"
   ]
  },
  {
   "cell_type": "code",
   "execution_count": 278,
   "metadata": {},
   "outputs": [],
   "source": [
    "X = app_bureau_POS_CC_model_data.values\n",
    "y = app_train_bureau_POS_CC[\"TARGET\"].to_numpy()"
   ]
  },
  {
   "cell_type": "code",
   "execution_count": 279,
   "metadata": {},
   "outputs": [],
   "source": [
    "X_train, X_test, y_train, y_test = train_test_split(\n",
    "    X, y, test_size=0.1, random_state=RANDOM\n",
    ")\n",
    "\n",
    "scaler = StandardScaler()\n",
    "X_train = scaler.fit_transform(X_train)\n",
    "X_test = scaler.transform(X_test)"
   ]
  },
  {
   "cell_type": "code",
   "execution_count": 280,
   "metadata": {},
   "outputs": [
    {
     "name": "stdout",
     "output_type": "stream",
     "text": [
      "Training mean squared error is 0.7636852359765878\n",
      "Validation mean squared error is 0.7581847656391104\n"
     ]
    }
   ],
   "source": [
    "xgb = XGBClassifier(\n",
    "    verbosity=0,\n",
    "    nthread=4,\n",
    "    colsample_bytree=0.4,\n",
    "    gamma=0.25,\n",
    "    learning_rate=0.01,\n",
    "    max_depth=4,\n",
    "    min_child_weight=3,\n",
    "    n_estimators=500,\n",
    "    reg_alpha=1e-05,\n",
    "    reg_lambda=1.5,\n",
    "    subsample=0.5,\n",
    ")\n",
    "\n",
    "xgb.fit(X_train, y_train)\n",
    "y_pred_train = xgb.predict_proba(X_train)\n",
    "y_pred = xgb.predict_proba(X_test)\n",
    "\n",
    "print(\"Training ROC AUC score is\", roc_auc_score(y_train, y_pred_train[:, 1]))\n",
    "print(\"Validation ROC AUC score is\", roc_auc_score(y_test, y_pred[:, 1]))"
   ]
  },
  {
   "cell_type": "markdown",
   "metadata": {},
   "source": [
    "### Kaggle competition"
   ]
  },
  {
   "cell_type": "markdown",
   "metadata": {},
   "source": [
    "For kaggle competition I will try to use all 3 models with supposingly the best hyperparameters and suggested dataframes. "
   ]
  },
  {
   "cell_type": "code",
   "execution_count": 73,
   "metadata": {},
   "outputs": [],
   "source": [
    "X = train_with_more_features_data.values\n",
    "y = train_with_more_features[\"TARGET\"].to_numpy()"
   ]
  },
  {
   "cell_type": "code",
   "execution_count": 75,
   "metadata": {},
   "outputs": [],
   "source": [
    "X_train, X_test, y_train, y_test = train_test_split(\n",
    "    X, y, test_size=0.1, random_state=RANDOM\n",
    ")\n",
    "\n",
    "scaler = StandardScaler()\n",
    "X_train = scaler.fit_transform(X_train)\n",
    "X_test = scaler.transform(X_test)"
   ]
  },
  {
   "cell_type": "markdown",
   "metadata": {},
   "source": [
    "#### Best model with CatBoostClassifier"
   ]
  },
  {
   "cell_type": "code",
   "execution_count": 348,
   "metadata": {},
   "outputs": [
    {
     "name": "stdout",
     "output_type": "stream",
     "text": [
      "Training mean squared error is 0.8433302564527857\n",
      "Validation mean squared error is 0.7897655711256724\n"
     ]
    }
   ],
   "source": [
    "# all files with all features\n",
    "cbc = CatBoostClassifier(random_state=RANDOM, verbose=0, learning_rate=0.1)\n",
    "\n",
    "cbc.fit(X_train, y_train)\n",
    "y_pred_train = cbc.predict_proba(X_train)\n",
    "y_pred = cbc.predict_proba(X_test)\n",
    "\n",
    "print(\"Training ROC AUC score is\", roc_auc_score(y_train, y_pred_train[:, 1]))\n",
    "print(\"Validation ROC AUC score is\", roc_auc_score(y_test, y_pred[:, 1]))"
   ]
  },
  {
   "cell_type": "code",
   "execution_count": 361,
   "metadata": {},
   "outputs": [
    {
     "name": "stdout",
     "output_type": "stream",
     "text": [
      "Training mean squared error is 0.8139940080903971\n",
      "Validation mean squared error is 0.791442874271711\n"
     ]
    }
   ],
   "source": [
    "# all files, all features, params from RandomizedCVSearch\n",
    "cbc = CatBoostClassifier(\n",
    "    random_state=RANDOM,\n",
    "    verbose=0,\n",
    "    learning_rate=0.05,\n",
    "    max_depth=4,\n",
    "    n_estimators=2000,\n",
    "    reg_lambda=3.5,\n",
    "    subsample=0.8,\n",
    ")\n",
    "\n",
    "cbc.fit(X_train, y_train)\n",
    "y_pred_train = cbc.predict_proba(X_train)\n",
    "y_pred = cbc.predict_proba(X_test)\n",
    "\n",
    "print(\"Training ROC AUC score is\", roc_auc_score(y_train, y_pred_train[:, 1]))\n",
    "print(\"Validation ROC AUC score is\", roc_auc_score(y_test, y_pred[:, 1]))"
   ]
  },
  {
   "cell_type": "markdown",
   "metadata": {},
   "source": [
    "#### Best model with LGBMClassifier"
   ]
  },
  {
   "cell_type": "code",
   "execution_count": 294,
   "metadata": {},
   "outputs": [
    {
     "name": "stdout",
     "output_type": "stream",
     "text": [
      "[LightGBM] [Warning] min_data_in_leaf is set=25, min_child_samples=20 will be ignored. Current value: min_data_in_leaf=25\n",
      "[LightGBM] [Warning] feature_fraction is set=0.7, colsample_bytree=1.0 will be ignored. Current value: feature_fraction=0.7\n",
      "Training score is 0.8225316806068509\n",
      "Validation score is 0.789918244970147\n"
     ]
    }
   ],
   "source": [
    "# all files, all features, no housing\n",
    "lgb = LGBMClassifier(\n",
    "    random_state=RANDOM,\n",
    "    objective=\"binary\",\n",
    "    verbose=-1,\n",
    "    num_leaves=16,\n",
    "    n_estimators=700,\n",
    "    min_data_in_leaf=25,\n",
    "    max_depth=3,\n",
    "    max_bin=255,\n",
    "    feature_fraction=0.7,\n",
    "    boosting_type=\"gbdt\",\n",
    ")\n",
    "\n",
    "\n",
    "lgb.fit(X_train, y_train)\n",
    "y_pred_train = lgb.predict_proba(X_train)\n",
    "y_pred = lgb.predict_proba(X_test)\n",
    "\n",
    "print('Training score is', roc_auc_score(y_train, y_pred_train[:, 1]))\n",
    "print('Validation score is', roc_auc_score(y_test, y_pred[:, 1]))"
   ]
  },
  {
   "cell_type": "markdown",
   "metadata": {},
   "source": [
    "#### Best model with XGBClassifier"
   ]
  },
  {
   "cell_type": "code",
   "execution_count": 355,
   "metadata": {},
   "outputs": [
    {
     "name": "stdout",
     "output_type": "stream",
     "text": [
      "Training mean squared error is 0.8047801295504162\n",
      "Validation mean squared error is 0.788722958376467\n"
     ]
    }
   ],
   "source": [
    "# all files, all features, best params\n",
    "\n",
    "xgb = XGBClassifier(\n",
    "    verbosity=0,\n",
    "    nthread=4,\n",
    "    colsample_bytree=0.4,\n",
    "    gamma=0.05,\n",
    "    learning_rate=0.05,\n",
    "    max_depth=5,\n",
    "    min_child_weight=8,\n",
    "    n_estimators=900,\n",
    "    reg_alpha=100,\n",
    "    reg_lambda=1,\n",
    "    subsample=0.7,\n",
    ")\n",
    "\n",
    "xgb.fit(X_train, y_train)\n",
    "y_pred_train = xgb.predict_proba(X_train)\n",
    "y_pred = xgb.predict_proba(X_test)\n",
    "\n",
    "print('Training mean squared error is', roc_auc_score(y_train, y_pred_train[:, 1]))\n",
    "print('Validation mean squared error is', roc_auc_score(y_test, y_pred[:, 1]))"
   ]
  },
  {
   "cell_type": "markdown",
   "metadata": {},
   "source": [
    "#### Data Sampling"
   ]
  },
  {
   "cell_type": "code",
   "execution_count": 107,
   "metadata": {},
   "outputs": [],
   "source": [
    "over = RandomOverSampler(sampling_strategy=0.1)\n",
    "\n",
    "X, y = over.fit_resample(X, y)\n",
    "\n",
    "under = RandomUnderSampler(sampling_strategy=0.5)\n",
    "\n",
    "X, y = under.fit_resample(X, y)"
   ]
  },
  {
   "cell_type": "markdown",
   "metadata": {},
   "source": [
    "I tried all possible scenarios: using only oversampling, only undersampling and their combination, but nothing improved the score, because models were overfitting data. Example: "
   ]
  },
  {
   "cell_type": "code",
   "execution_count": 136,
   "metadata": {},
   "outputs": [
    {
     "name": "stdout",
     "output_type": "stream",
     "text": [
      "Training mean squared error is 0.9600344365991076\n",
      "Validation mean squared error is 0.7926250273787983\n"
     ]
    }
   ],
   "source": [
    "cbc = CatBoostClassifier(\n",
    "    random_state=RANDOM,\n",
    "    verbose=0,\n",
    "    class_weights={0: 0.5472361809045226, 1: 0.45276381909547736},\n",
    "    reg_lambda=2,\n",
    "    learning_rate=0.15,\n",
    "    max_depth=7,\n",
    "    n_estimators=1000,\n",
    "    subsample=0.7,\n",
    ")\n",
    "\n",
    "cbc.fit(X_train, y_train)\n",
    "y_pred_train = cbc.predict_proba(X_train)\n",
    "y_pred = cbc.predict_proba(X_test)\n",
    "\n",
    "print(\"Training mean squared error is\", roc_auc_score(y_train, y_pred_train[:, 1]))\n",
    "print(\"Validation mean squared error is\", roc_auc_score(y_test, y_pred[:, 1]))"
   ]
  },
  {
   "cell_type": "markdown",
   "metadata": {},
   "source": [
    "#### Model's hyperparameters optimization"
   ]
  },
  {
   "cell_type": "markdown",
   "metadata": {},
   "source": [
    "To find the best hyperparameters, for CatBoost and XGB classifiers I used RandomSearchCV, while for LightGBM I also tried optuna. "
   ]
  },
  {
   "cell_type": "markdown",
   "metadata": {},
   "source": [
    "##### Optuna for LightGBM"
   ]
  },
  {
   "cell_type": "code",
   "execution_count": 105,
   "metadata": {},
   "outputs": [],
   "source": [
    "def lgbtuna(trial, X=X, y=y):\n",
    "    X_train, X_test, y_train, y_test = train_test_split(\n",
    "        X, y, test_size=0.1, random_state=RANDOM\n",
    "    )\n",
    "\n",
    "    n_estimators = trial.suggest_int(\"n_estimators\", 100, 5000)\n",
    "    learning_rate = trial.suggest_loguniform(\"learning_rate\", 0.001, 0.1)\n",
    "    max_depth = trial.suggest_int(\"max_depth\", 1, 20)\n",
    "    num_leaves = trial.suggest_int(\"num_leaves\", 2, 256)\n",
    "    feature_fraction = (trial.suggest_uniform(\"feature_fraction\", 0.4, 1.0),)\n",
    "    subsample = trial.suggest_float(\"subsample\", 0.5, 1.0)\n",
    "    lambda_l1 = trial.suggest_loguniform(\"lambda_l1\", 1e-8, 10.0)\n",
    "    lambda_l2 = trial.suggest_loguniform(\"lambda_l2\", 1e-8, 10.0)\n",
    "    min_child_weight = trial.suggest_int(\"min_child_samples\", 1, 10)\n",
    "    min_child_samples = trial.suggest_int(\"min_child_samples\", 5, 100)\n",
    "\n",
    "    lgbm_tuna = lgbm.LGBMClassifier(\n",
    "        n_estimators=n_estimators,\n",
    "        learning_rate=learning_rate,\n",
    "        max_depth=max_depth,\n",
    "        num_leaves=num_leaves,\n",
    "        feature_fraction=feature_fraction,\n",
    "        subsample=subsample,\n",
    "        lambda_l1=lambda_l1,\n",
    "        lambda_l2=lambda_l2,\n",
    "        min_child_weight=min_child_weight,\n",
    "        min_child_samples=min_child_samples,\n",
    "        verbose=-1,\n",
    "    )\n",
    "\n",
    "    lgbm_tuna.fit(X_train, y_train)\n",
    "\n",
    "    y_pred_train = lgbm_tuna.predict_proba(X_train)\n",
    "    y_pred = lgbm_tuna.predict_proba(X_test)\n",
    "\n",
    "    return -roc_auc_score(y_test, y_pred[:, 1])"
   ]
  },
  {
   "cell_type": "code",
   "execution_count": null,
   "metadata": {},
   "outputs": [],
   "source": [
    "%time \n",
    "lgbm_study = optuna.create_study()\n",
    "lgbm_study.optimize(lgbtuna, n_trials=100, n_jobs=-1, gc_after_trial=True)\n",
    "\n",
    "print('Best score:', lgbm_study.best_value)\n",
    "print('Best trial:', lgbm_study.best_params)"
   ]
  },
  {
   "cell_type": "markdown",
   "metadata": {},
   "source": [
    "[I 2021-08-07 13:13:41,706] Trial 9 finished with value: -0.7906956751470674 and parameters: {'n_estimators': 3373, 'learning_rate': 0.009164447496968044, 'max_depth': 4, 'num_leaves': 117, 'feature_fraction': 0.40539349913462347, 'subsample': 0.9508225056823643, 'lambda_l1': 4.633450011240734e-08, 'lambda_l2': 8.64307071096595, 'min_child_samples': 4}. Best is trial 9 with value: -0.7906956751470674."
   ]
  },
  {
   "cell_type": "code",
   "execution_count": 155,
   "metadata": {},
   "outputs": [
    {
     "name": "stdout",
     "output_type": "stream",
     "text": [
      "[LightGBM] [Warning] lambda_l1 is set=4.633450011240734e-08, reg_alpha=0.0 will be ignored. Current value: lambda_l1=4.633450011240734e-08\n",
      "[LightGBM] [Warning] feature_fraction is set=0.40539349913462347, colsample_bytree=1.0 will be ignored. Current value: feature_fraction=0.40539349913462347\n",
      "[LightGBM] [Warning] lambda_l2 is set=8.64307071096595, reg_lambda=0.0 will be ignored. Current value: lambda_l2=8.64307071096595\n",
      "Training score is 0.817917019777076\n",
      "Validation score is 0.7912242264285007\n"
     ]
    }
   ],
   "source": [
    "lgb = LGBMClassifier(\n",
    "    random_state=RANDOM,\n",
    "    verbose=-1,\n",
    "    n_estimators=3373,  \n",
    "    learning_rate=0.009164447496968044,\n",
    "    max_depth=4,\n",
    "    num_leaves=117,\n",
    "    feature_fraction=0.40539349913462347,\n",
    "    subsample=0.9508225056823643,\n",
    "    lambda_l1=4.633450011240734e-08,\n",
    "    lambda_l2=8.64307071096595,\n",
    "    min_child_samples=4\n",
    ")\n",
    "\n",
    "\n",
    "lgb.fit(X_train, y_train)\n",
    "y_pred_train = lgb.predict_proba(X_train)\n",
    "y_pred = lgb.predict_proba(X_test)\n",
    "\n",
    "print('Training score is', roc_auc_score(y_train, y_pred_train[:, 1]))\n",
    "print('Validation score is', roc_auc_score(y_test, y_pred[:, 1]))"
   ]
  },
  {
   "cell_type": "markdown",
   "metadata": {},
   "source": [
    "##### RandomizedSearchCV for CatBoostClassifier"
   ]
  },
  {
   "cell_type": "code",
   "execution_count": 118,
   "metadata": {},
   "outputs": [
    {
     "name": "stdout",
     "output_type": "stream",
     "text": [
      "0.7861628849733776\n",
      "{'class_weights': {0: 0.5223618090452261, 1: 0.4776381909547739}, 'learning_rate': 0.1, 'max_depth': 5, 'n_estimators': 800, 'reg_lambda': 0.5, 'subsample': 0.7}\n"
     ]
    }
   ],
   "source": [
    "cbc = CatBoostClassifier(random_state=RANDOM, verbose=0)\n",
    "\n",
    "weights = np.linspace(0.0, 0.99, 200)\n",
    "\n",
    "param_dist = {\n",
    "    \"learning_rate\": np.linspace(0, 0.2, 5),\n",
    "    \"max_depth\": sp_randInt(3, 10),\n",
    "    \"n_estimators\": [100, 200, 300, 400, 500, 600, 700, 800, 900, 1000, 2000],\n",
    "    \"reg_lambda\": [0, 0.5, 1, 1.5, 2, 2.5, 3, 3.5, 4],\n",
    "    \"subsample\": [0.5, 0.6, 0.7, 0.8, 0.9],\n",
    "    \"class_weights\": [{0: x, 1: 1.0 - x} for x in weights],\n",
    "}\n",
    "\n",
    "rscv = RandomizedSearchCV(cbc, param_dist, scoring=\"roc_auc\", cv=5)\n",
    "\n",
    "rscv.fit(X_train, y_train)\n",
    "print(rscv.best_score_)\n",
    "print(rscv.best_params_)"
   ]
  },
  {
   "cell_type": "code",
   "execution_count": 246,
   "metadata": {},
   "outputs": [
    {
     "name": "stdout",
     "output_type": "stream",
     "text": [
      "Training mean squared error is 0.8791352671810775\n",
      "Validation mean squared error is 0.8107270636340403\n"
     ]
    }
   ],
   "source": [
    "cbc = CatBoostClassifier(\n",
    "    random_state=RANDOM,\n",
    "    verbose=0,\n",
    "    learning_rate=0.01,\n",
    "    max_depth=4,\n",
    "    n_estimators=500,\n",
    "    subsample=0.9,\n",
    ")\n",
    "\n",
    "cbc.fit(X_train, y_train)\n",
    "y_pred_train = cbc.predict_proba(X_train)\n",
    "y_pred = cbc.predict_proba(X_test)\n",
    "\n",
    "print(\"Training ROC AUC score is\", roc_auc_score(y_train, y_pred_train[:, 1]))\n",
    "print(\"Validation ROC AUC score is\", roc_auc_score(y_test, y_pred[:, 1]))"
   ]
  },
  {
   "cell_type": "markdown",
   "metadata": {},
   "source": [
    "##### RandomizedSearchCV for XGBClassifier"
   ]
  },
  {
   "cell_type": "code",
   "execution_count": 353,
   "metadata": {},
   "outputs": [
    {
     "name": "stdout",
     "output_type": "stream",
     "text": [
      "Best score: 0.786694249970034\n",
      "Best parameters: {'subsample': 0.7, 'reg_lambda': 1, 'reg_alpha': 100, 'n_estimators': 900, 'min_child_weight': 8, 'max_depth': 5, 'learning_rate': 0.05, 'gamma': 0.05, 'colsample_bytree': 0.9}\n"
     ]
    }
   ],
   "source": [
    "xgb = XGBClassifier(verbosity=0, nthread=4)\n",
    "\n",
    "parameter_grid = {\n",
    "    \"max_depth\": list(range(2, 6)),\n",
    "    \"weights\": [1, 10, 25, 50, 75, 99, 100, 1000],\n",
    "    \"min_child_weight\": list(range(1, 20)),\n",
    "    \"subsample\": [0.5, 0.6, 0.7, 0.8, 0.9],\n",
    "    \"gamma\": [0, 0.05, 0.1, 0.15, 0.2, 0.25, 0.3, 0.35, 0.4, 0.45, 0.5],\n",
    "    \"colsample_bytree\": [0.4, 0.5, 0.6, 0.7, 0.8, 0.9, 1],\n",
    "    \"reg_lambda\": [0, 0.5, 1, 1.5, 2, 2.5, 3, 3.5, 4],\n",
    "    \"reg_alpha\": [1e-5, 1e-2, 0.1, 1, 100],\n",
    "    \"learning_rate\": [0.001, 0.01, 0.02, 0.03, 0.05, 0.07, 0.1, 0.13, 0.16, 0.19,],\n",
    "    \"n_estimators\": [100, 200, 300, 400, 500, 600, 700, 800, 900, 1000, 2000],\n",
    "}\n",
    "\n",
    "grid_search = RandomizedSearchCV(xgb, parameter_grid, cv=5, scoring=\"roc_auc\")\n",
    "grid_search.fit(X_train, y_train)\n",
    "print(\"Best score: {}\".format(grid_search.best_score_))\n",
    "print(\"Best parameters: {}\".format(grid_search.best_params_))"
   ]
  },
  {
   "cell_type": "code",
   "execution_count": null,
   "metadata": {},
   "outputs": [],
   "source": [
    "# all files, all features, best params\n",
    "\n",
    "xgb = XGBClassifier(\n",
    "    verbosity=0,\n",
    "    nthread=4,\n",
    "    colsample_bytree=0.9,\n",
    "    gamma=0.05,\n",
    "    learning_rate=0.05,\n",
    "    max_depth=5,\n",
    "    min_child_weight=8,\n",
    "    n_estimators=900,\n",
    "    reg_alpha=100,\n",
    "    reg_lambda=1,\n",
    "    subsample=0.7,\n",
    ")\n",
    "\n",
    "xgb.fit(X_train, y_train)\n",
    "y_pred_train = xgb.predict_proba(X_train)\n",
    "y_pred = xgb.predict_proba(X_test)\n",
    "\n",
    "print('Training mean squared error is', roc_auc_score(y_train, y_pred_train[:, 1]))\n",
    "print('Validation mean squared error is', roc_auc_score(y_test, y_pred[:, 1]))"
   ]
  },
  {
   "cell_type": "markdown",
   "metadata": {},
   "source": [
    "#### Combining several models"
   ]
  },
  {
   "cell_type": "markdown",
   "metadata": {},
   "source": [
    "To improve my predictions I expected that combining all or two of my best performing models would make a difference. Unfortunately, it not only didn't improve the kaggle score, but decreased it. It seemed that combination of models also lead to the tendency of overfitting."
   ]
  },
  {
   "cell_type": "code",
   "execution_count": 91,
   "metadata": {},
   "outputs": [
    {
     "name": "stdout",
     "output_type": "stream",
     "text": [
      "[LightGBM] [Warning] lambda_l1 is set=4.633450011240734e-08, reg_alpha=0.0 will be ignored. Current value: lambda_l1=4.633450011240734e-08\n",
      "[LightGBM] [Warning] feature_fraction is set=0.40539349913462347, colsample_bytree=1.0 will be ignored. Current value: feature_fraction=0.40539349913462347\n",
      "[LightGBM] [Warning] lambda_l2 is set=8.64307071096595, reg_lambda=0.0 will be ignored. Current value: lambda_l2=8.64307071096595\n"
     ]
    },
    {
     "name": "stderr",
     "output_type": "stream",
     "text": [
      "[Parallel(n_jobs=1)]: Using backend SequentialBackend with 1 concurrent workers.\n",
      "[Parallel(n_jobs=1)]: Done   1 out of   1 | elapsed:  3.6min remaining:    0.0s\n",
      "[Parallel(n_jobs=1)]: Done   5 out of   5 | elapsed: 32.7min finished\n",
      "[Parallel(n_jobs=1)]: Using backend SequentialBackend with 1 concurrent workers.\n",
      "[Parallel(n_jobs=1)]: Done   1 out of   1 | elapsed:  8.6min remaining:    0.0s\n"
     ]
    },
    {
     "name": "stdout",
     "output_type": "stream",
     "text": [
      "[LightGBM] [Warning] lambda_l1 is set=4.633450011240734e-08, reg_alpha=0.0 will be ignored. Current value: lambda_l1=4.633450011240734e-08\n",
      "[LightGBM] [Warning] feature_fraction is set=0.40539349913462347, colsample_bytree=1.0 will be ignored. Current value: feature_fraction=0.40539349913462347\n",
      "[LightGBM] [Warning] lambda_l2 is set=8.64307071096595, reg_lambda=0.0 will be ignored. Current value: lambda_l2=8.64307071096595\n",
      "[LightGBM] [Warning] lambda_l1 is set=4.633450011240734e-08, reg_alpha=0.0 will be ignored. Current value: lambda_l1=4.633450011240734e-08\n",
      "[LightGBM] [Warning] feature_fraction is set=0.40539349913462347, colsample_bytree=1.0 will be ignored. Current value: feature_fraction=0.40539349913462347\n",
      "[LightGBM] [Warning] lambda_l2 is set=8.64307071096595, reg_lambda=0.0 will be ignored. Current value: lambda_l2=8.64307071096595\n",
      "[LightGBM] [Warning] lambda_l1 is set=4.633450011240734e-08, reg_alpha=0.0 will be ignored. Current value: lambda_l1=4.633450011240734e-08\n",
      "[LightGBM] [Warning] feature_fraction is set=0.40539349913462347, colsample_bytree=1.0 will be ignored. Current value: feature_fraction=0.40539349913462347\n",
      "[LightGBM] [Warning] lambda_l2 is set=8.64307071096595, reg_lambda=0.0 will be ignored. Current value: lambda_l2=8.64307071096595\n",
      "[LightGBM] [Warning] lambda_l1 is set=4.633450011240734e-08, reg_alpha=0.0 will be ignored. Current value: lambda_l1=4.633450011240734e-08\n",
      "[LightGBM] [Warning] feature_fraction is set=0.40539349913462347, colsample_bytree=1.0 will be ignored. Current value: feature_fraction=0.40539349913462347\n",
      "[LightGBM] [Warning] lambda_l2 is set=8.64307071096595, reg_lambda=0.0 will be ignored. Current value: lambda_l2=8.64307071096595\n"
     ]
    },
    {
     "name": "stderr",
     "output_type": "stream",
     "text": [
      "[Parallel(n_jobs=1)]: Done   5 out of   5 | elapsed: 36.6min finished\n"
     ]
    },
    {
     "data": {
      "text/plain": [
       "0.9190015348994511"
      ]
     },
     "execution_count": 91,
     "metadata": {},
     "output_type": "execute_result"
    }
   ],
   "source": [
    "base_learners = [\n",
    "    (\n",
    "        \"rf_1\",\n",
    "        CatBoostClassifier(\n",
    "            random_state=RANDOM,\n",
    "            verbose=0,\n",
    "            learning_rate=0.1,\n",
    "            max_depth=6,\n",
    "            n_estimators=1000,\n",
    "            reg_lambda=3,\n",
    "            subsample=0.5,\n",
    "        ),\n",
    "    ),\n",
    "    (\n",
    "        \"rf_2\",\n",
    "        LGBMClassifier(\n",
    "            random_state=RANDOM,\n",
    "            verbose=-1,\n",
    "            n_estimators=3373,\n",
    "            learning_rate=0.009164447496968044,\n",
    "            max_depth=4,\n",
    "            num_leaves=117,\n",
    "            feature_fraction=0.40539349913462347,\n",
    "            subsample=0.9508225056823643,\n",
    "            lambda_l1=4.633450011240734e-08,\n",
    "            lambda_l2=8.64307071096595,\n",
    "            min_child_samples=4,\n",
    "        ),\n",
    "    ),\n",
    "]\n",
    "\n",
    "clf = StackingClassifier(\n",
    "    estimators=base_learners, \n",
    "    passthrough=True, \n",
    "    cv=5, \n",
    "    verbose=2)\n",
    "\n",
    "# Extract score\n",
    "X_train, X_test, y_train, y_test = train_test_split(\n",
    "    X, y, stratify=y, random_state=RANDOM\n",
    ")\n",
    "clf.fit(X_train, y_train).score(X_test, y_test)"
   ]
  },
  {
   "cell_type": "code",
   "execution_count": 92,
   "metadata": {},
   "outputs": [
    {
     "name": "stdout",
     "output_type": "stream",
     "text": [
      "Training ROC AUC score is 0.6105169663329439\n",
      "Validation ROC AUC score is 0.6080796035240459\n"
     ]
    }
   ],
   "source": [
    "y_pred_train = clf.predict_proba(X_train)\n",
    "y_pred = clf.predict_proba(X_test)\n",
    "\n",
    "print('Training ROC AUC score is', roc_auc_score(y_train, y_pred_train[:, 1]))\n",
    "print('Validation ROC AUC score is', roc_auc_score(y_test, y_pred[:, 1]))"
   ]
  },
  {
   "cell_type": "markdown",
   "metadata": {},
   "source": [
    "#### Additional features"
   ]
  },
  {
   "cell_type": "markdown",
   "metadata": {},
   "source": [
    "##### Magic feature borrowed from colleagues"
   ]
  },
  {
   "cell_type": "code",
   "execution_count": 69,
   "metadata": {},
   "outputs": [],
   "source": [
    "# additional feature which will be used\n",
    "for data in [all_files, all_test_files]:\n",
    "    data[\"CREDIT_ANNUITY_RATIO\"] = data[\"AMT_CREDIT_x\"] / (\n",
    "        data[\"AMT_ANNUITY_x\"] + 0.00001\n",
    "    )\n",
    "\n",
    "# KNN classifier result as a feature (which has high correlation with target)\n",
    "knn = KNeighborsClassifier(500, n_jobs=-1)\n",
    "train_data_for_neighbors = all_files[\n",
    "    [\"EXT_SOURCE_1\", \"EXT_SOURCE_2\", \"EXT_SOURCE_3\", \"CREDIT_ANNUITY_RATIO\"]\n",
    "]\n",
    "train_target = all_files.TARGET\n",
    "test_data_for_neighbors = all_test_files[\n",
    "    [\"EXT_SOURCE_1\", \"EXT_SOURCE_2\", \"EXT_SOURCE_3\", \"CREDIT_ANNUITY_RATIO\"]\n",
    "]\n",
    "\n",
    "knn.fit(train_data_for_neighbors, train_target)\n",
    "\n",
    "train_500_neighbors = knn.kneighbors(train_data_for_neighbors)[1]\n",
    "test_500_neighbors = knn.kneighbors(test_data_for_neighbors)[1]\n",
    "\n",
    "all_files[\"TARGET_NEIGHBORS_500_MEAN\"] = [\n",
    "    all_files[\"TARGET\"].iloc[ele].mean() for ele in train_500_neighbors\n",
    "]\n",
    "all_test_files[\"TARGET_NEIGHBORS_500_MEAN\"] = [\n",
    "    all_files[\"TARGET\"].iloc[ele].mean() for ele in test_500_neighbors\n",
    "]"
   ]
  },
  {
   "cell_type": "code",
   "execution_count": null,
   "metadata": {},
   "outputs": [],
   "source": [
    "pd.set_option(\"display.max_rows\", 500)\n",
    "lgb_feature_importance = lgb.feature_importances_\n",
    "lgb_model_features = get_feature_importance(features_list, lgb_feature_importance)\n",
    "lgb_model_features.sort_values(by=[\"importance\"], ascending=False)"
   ]
  },
  {
   "cell_type": "markdown",
   "metadata": {},
   "source": [
    "\tfeature\timportance\n",
    "- EXT_SOURCE_1\t__113__\n",
    "- DAYS_BIRTH\t__110__\n",
    "- EXT_SOURCE_3\t__104__\n",
    "- AMT_CREDIT\t__92__\n",
    "- CREDIT_ACTIVE_Bad debt\t__91__\n",
    "- AMT_ANNUITY_x\t__91__\n",
    "- EXT_SOURCE_2\t__81__"
   ]
  },
  {
   "cell_type": "code",
   "execution_count": null,
   "metadata": {},
   "outputs": [],
   "source": [
    "xgb = XGBClassifier(\n",
    "    #     scale_pos_weight=100,\n",
    "    verbosity=0,\n",
    "    nthread=4,\n",
    "    colsample_bytree=0.5,\n",
    "    gamma=0.4,\n",
    "    learning_rate=0.05,\n",
    "    max_depth=4,\n",
    "    min_child_weight=17,\n",
    "    n_estimators=600,\n",
    "    reg_alpha=1,\n",
    "    reg_lambda=0,\n",
    "    subsample=0.5,\n",
    ")\n",
    "\n",
    "xgb.fit(X_train, y_train)\n",
    "\n",
    "xgb_feature_importance = xgb.feature_importances_\n",
    "xgb_model_features = get_feature_importance(features_list, xgb_feature_importance)\n",
    "xgb_model_features.sort_values(by=[\"importance\"], ascending=False)"
   ]
  },
  {
   "cell_type": "markdown",
   "metadata": {},
   "source": [
    "feature\timportance\n",
    "-\tORGANIZATION_TYPE_Transport: type 1\t__0.026362__\n",
    "-\tCNT_CREDIT_PROLONG\t__0.019947__\n",
    "-\tAMT_DRAWINGS_ATM_CURRENT\t__0.019921__\n",
    "-\tCREDIT_DAY_OVERDUE\t__0.019410__\n",
    "-\tNAME_HOUSING_TYPE_Municipal apartment\t__0.018906__\n",
    "-\tNAME_EDUCATION_TYPE_Secondary / secondary special\t__0.018584__\n",
    "-\tNAME_FAMILY_STATUS_Single / not married\t__0.017815__"
   ]
  },
  {
   "cell_type": "code",
   "execution_count": 71,
   "metadata": {},
   "outputs": [],
   "source": [
    "def add_more_new_features(original_df):\n",
    "    dataframe = original_df.copy()\n",
    "    dataframe[\"EXT_SOURCE_1_sq\"] = dataframe[\"EXT_SOURCE_1\"] ** 2\n",
    "    dataframe[\"EXT_SOURCE_1_cu\"] = dataframe[\"EXT_SOURCE_1\"] ** 3\n",
    "    dataframe[\"EXT_SOURCE_2_sq\"] = dataframe[\"EXT_SOURCE_2\"] ** 2\n",
    "    dataframe[\"EXT_SOURCE_2_cu\"] = dataframe[\"EXT_SOURCE_2\"] ** 3\n",
    "    dataframe[\"EXT_SOURCE_3_sq\"] = dataframe[\"EXT_SOURCE_3\"] ** 2\n",
    "    dataframe[\"EXT_SOURCE_3_cu\"] = dataframe[\"EXT_SOURCE_3\"] ** 3\n",
    "    dataframe[\"EXT_SOURCE_1_2\"] = dataframe[\"EXT_SOURCE_1\"] * dataframe[\"EXT_SOURCE_2\"]\n",
    "    dataframe[\"EXT_SOURCE_1_3\"] = dataframe[\"EXT_SOURCE_1\"] * dataframe[\"EXT_SOURCE_3\"]\n",
    "    dataframe[\"EXT_SOURCE_2_3\"] = dataframe[\"EXT_SOURCE_2\"] * dataframe[\"EXT_SOURCE_3\"]\n",
    "    dataframe[\"EXT_SOURCE_all_mult\"] = (\n",
    "        dataframe[\"EXT_SOURCE_1\"]\n",
    "        * dataframe[\"EXT_SOURCE_2\"]\n",
    "        * dataframe[\"EXT_SOURCE_3\"]\n",
    "    )\n",
    "    dataframe[\"bank_revenue\"] = dataframe[\"AMT_CREDIT_x\"] - dataframe[\"AMT_ANNUITY_x\"]\n",
    "    return dataframe"
   ]
  },
  {
   "cell_type": "code",
   "execution_count": 72,
   "metadata": {},
   "outputs": [],
   "source": [
    "train_with_more_features = add_more_new_features(all_files)\n",
    "train_with_more_features_data = train_with_more_features.drop(\n",
    "    [\"SK_ID_CURR\", \"TARGET\"], axis=1\n",
    ")"
   ]
  },
  {
   "cell_type": "code",
   "execution_count": 79,
   "metadata": {},
   "outputs": [],
   "source": [
    "test_with_more_features = add_more_new_features(all_test_files)\n",
    "test_with_more_features_data = test_with_more_features.drop([\"SK_ID_CURR\"], axis=1)"
   ]
  },
  {
   "cell_type": "markdown",
   "metadata": {},
   "source": [
    "### Testing on Kaggle"
   ]
  },
  {
   "cell_type": "code",
   "execution_count": 88,
   "metadata": {},
   "outputs": [],
   "source": [
    "test = test_with_more_features_data[train_with_more_features_data.columns]\n",
    "test = test.values\n",
    "\n",
    "final_test = scaler.transform(test)\n",
    "\n",
    "final_predictions = clf.predict_proba(final_test)[:, 1]\n",
    "\n",
    "final_df = pd.DataFrame(\n",
    "    {\"SK_ID_CURR\": application_test[\"SK_ID_CURR\"], \"TARGET\": final_predictions}\n",
    ")\n",
    "final_df[\"SK_ID_CURR\"] = final_df[\"SK_ID_CURR\"].astype(int)\n",
    "\n",
    "final_df.to_csv(\"my_submission.csv\", index=False)"
   ]
  },
  {
   "cell_type": "markdown",
   "metadata": {},
   "source": [
    "### Kaggle results & conclusions"
   ]
  },
  {
   "cell_type": "markdown",
   "metadata": {},
   "source": [
    "The best kaggle results were reached with CatBoostClassifier, 0.78072. Closely, it was reached with LightGBM 0.77982. With XGB the best score was 0.77706.   \n",
    "Also, in the end the best performing dataset was all files with housing information. \n",
    "\n",
    "What could be done more: \n",
    "- Perform Grid Search CV on CatBoostClassifier\n",
    "- Experiment more with dataset without housing information\n",
    "- Tune StackingClassifier\n",
    "- Work on features, maybe get rid of some and create new "
   ]
  },
  {
   "cell_type": "markdown",
   "metadata": {},
   "source": [
    "![alt text](CatBoostClassifier.png \"CatBoostClassifier score\")\n",
    "![alt text](LightGBM.png \"LightGBM score\")\n",
    "![alt text](XGB.png \"XGB score\")"
   ]
  }
 ],
 "metadata": {
  "kernelspec": {
   "display_name": "Python 3",
   "language": "python",
   "name": "python3"
  },
  "language_info": {
   "codemirror_mode": {
    "name": "ipython",
    "version": 3
   },
   "file_extension": ".py",
   "mimetype": "text/x-python",
   "name": "python",
   "nbconvert_exporter": "python",
   "pygments_lexer": "ipython3",
   "version": "3.8.5"
  },
  "toc": {
   "base_numbering": 1,
   "nav_menu": {},
   "number_sections": true,
   "sideBar": true,
   "skip_h1_title": false,
   "title_cell": "Table of Contents",
   "title_sidebar": "Contents",
   "toc_cell": false,
   "toc_position": {
    "height": "calc(100% - 180px)",
    "left": "10px",
    "top": "150px",
    "width": "256px"
   },
   "toc_section_display": true,
   "toc_window_display": true
  }
 },
 "nbformat": 4,
 "nbformat_minor": 4
}
